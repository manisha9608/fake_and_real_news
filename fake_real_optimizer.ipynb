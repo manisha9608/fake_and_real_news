{
  "nbformat": 4,
  "nbformat_minor": 0,
  "metadata": {
    "colab": {
      "name": "fake_real_optimizer.ipynb",
      "provenance": [],
      "collapsed_sections": [
        "gznv6YzPl4dT",
        "m5z7OFFtmaC7",
        "Lb-8emeF_yoT",
        "TMVvJMeMgTk-",
        "NCaUsYIHnqG-",
        "7MamPfVNd8U4"
      ],
      "include_colab_link": true
    },
    "kernelspec": {
      "name": "python3",
      "display_name": "Python 3"
    },
    "language_info": {
      "name": "python"
    },
    "accelerator": "GPU"
  },
  "cells": [
    {
      "cell_type": "markdown",
      "metadata": {
        "id": "view-in-github",
        "colab_type": "text"
      },
      "source": [
        "<a href=\"https://colab.research.google.com/github/manisha9608/fake_and_real_news/blob/main/fake_real_optimizer.ipynb\" target=\"_parent\"><img src=\"https://colab.research.google.com/assets/colab-badge.svg\" alt=\"Open In Colab\"/></a>"
      ]
    },
    {
      "cell_type": "markdown",
      "metadata": {
        "id": "gznv6YzPl4dT"
      },
      "source": [
        "# 1. Import Libraries & Dataset\n"
      ]
    },
    {
      "cell_type": "code",
      "metadata": {
        "colab": {
          "base_uri": "https://localhost:8080/"
        },
        "id": "vSR1N1HTfTiU",
        "outputId": "4e7453b3-3734-4323-d8ae-067bc8b8ac2f"
      },
      "source": [
        "from google.colab import drive\n",
        "drive.mount('/content/drive')"
      ],
      "execution_count": 367,
      "outputs": [
        {
          "output_type": "stream",
          "text": [
            "Drive already mounted at /content/drive; to attempt to forcibly remount, call drive.mount(\"/content/drive\", force_remount=True).\n"
          ],
          "name": "stdout"
        }
      ]
    },
    {
      "cell_type": "markdown",
      "metadata": {
        "id": "gr4zvYPJmTwq"
      },
      "source": [
        "## 1.1 Import Libraries"
      ]
    },
    {
      "cell_type": "code",
      "metadata": {
        "id": "6pv0DXzFnDDb"
      },
      "source": [
        "import numpy as np\n",
        "import pandas as pd\n",
        "\n",
        "import csv\n",
        "\n",
        "import time\n",
        "\n",
        "import io\n",
        "from io import BytesIO\n",
        "\n",
        "\n",
        "import matplotlib.pyplot as plt\n",
        "\n",
        "import seaborn as sns\n",
        "%matplotlib inline\n",
        "\n",
        "import tensorflow as tf\n",
        "from tensorflow.keras.layers import Dense, Flatten, Conv2D, Dropout\n",
        "from tensorflow.keras import Model\n",
        "from tensorflow.python.client import device_lib\n",
        "import tensorflow_hub as hub\n",
        "import tensorflow_datasets as tfds\n",
        "import keras\n",
        "\n",
        "# from keras.layers import Dense, Dropout, Activation, Flatten\n",
        "\n",
        "from sklearn.model_selection import train_test_split\n",
        "from sklearn.metrics import confusion_matrix, accuracy_score, classification_report\n",
        "\n",
        "import tensorflow as tf\n",
        "\n",
        "import warnings\n",
        "warnings.filterwarnings('ignore')"
      ],
      "execution_count": 368,
      "outputs": []
    },
    {
      "cell_type": "markdown",
      "metadata": {
        "id": "m5z7OFFtmaC7"
      },
      "source": [
        "## 1.2 Check GPU Availability"
      ]
    },
    {
      "cell_type": "code",
      "metadata": {
        "colab": {
          "base_uri": "https://localhost:8080/",
          "height": 0
        },
        "id": "x25MFQRNnG7O",
        "outputId": "c683ff57-9ed2-406c-90f1-eb6775ec392c"
      },
      "source": [
        "\n",
        "tf.test.gpu_device_name()"
      ],
      "execution_count": 369,
      "outputs": [
        {
          "output_type": "execute_result",
          "data": {
            "application/vnd.google.colaboratory.intrinsic+json": {
              "type": "string"
            },
            "text/plain": [
              "'/device:GPU:0'"
            ]
          },
          "metadata": {
            "tags": []
          },
          "execution_count": 369
        }
      ]
    },
    {
      "cell_type": "code",
      "metadata": {
        "colab": {
          "base_uri": "https://localhost:8080/"
        },
        "id": "W0fWXVsznKYp",
        "outputId": "de5abebb-b33e-4b39-ad48-83af67bbccd2"
      },
      "source": [
        "\n",
        "device_lib.list_local_devices()"
      ],
      "execution_count": 370,
      "outputs": [
        {
          "output_type": "execute_result",
          "data": {
            "text/plain": [
              "[name: \"/device:CPU:0\"\n",
              " device_type: \"CPU\"\n",
              " memory_limit: 268435456\n",
              " locality {\n",
              " }\n",
              " incarnation: 6134850521635439899, name: \"/device:GPU:0\"\n",
              " device_type: \"GPU\"\n",
              " memory_limit: 14509932544\n",
              " locality {\n",
              "   bus_id: 1\n",
              "   links {\n",
              "   }\n",
              " }\n",
              " incarnation: 1167705686659350969\n",
              " physical_device_desc: \"device: 0, name: Tesla T4, pci bus id: 0000:00:04.0, compute capability: 7.5\"]"
            ]
          },
          "metadata": {
            "tags": []
          },
          "execution_count": 370
        }
      ]
    },
    {
      "cell_type": "code",
      "metadata": {
        "colab": {
          "base_uri": "https://localhost:8080/"
        },
        "id": "0amFyBGWnZeB",
        "outputId": "f4805331-a692-4d75-e4e2-1bafb2bff9f7"
      },
      "source": [
        "!cat /proc/meminfo"
      ],
      "execution_count": 371,
      "outputs": [
        {
          "output_type": "stream",
          "text": [
            "MemTotal:       13302924 kB\n",
            "MemFree:         4801260 kB\n",
            "MemAvailable:   11350384 kB\n",
            "Buffers:           93364 kB\n",
            "Cached:          3746208 kB\n",
            "SwapCached:            0 kB\n",
            "Active:          2285840 kB\n",
            "Inactive:        5782124 kB\n",
            "Active(anon):    1340584 kB\n",
            "Inactive(anon):    25020 kB\n",
            "Active(file):     945256 kB\n",
            "Inactive(file):  5757104 kB\n",
            "Unevictable:           0 kB\n",
            "Mlocked:               0 kB\n",
            "SwapTotal:             0 kB\n",
            "SwapFree:              0 kB\n",
            "Dirty:               972 kB\n",
            "Writeback:             0 kB\n",
            "AnonPages:       4228300 kB\n",
            "Mapped:           771316 kB\n",
            "Shmem:             25800 kB\n",
            "KReclaimable:     172712 kB\n",
            "Slab:             233788 kB\n",
            "SReclaimable:     172712 kB\n",
            "SUnreclaim:        61076 kB\n",
            "KernelStack:        6256 kB\n",
            "PageTables:        16844 kB\n",
            "NFS_Unstable:          0 kB\n",
            "Bounce:                0 kB\n",
            "WritebackTmp:          0 kB\n",
            "CommitLimit:     6651460 kB\n",
            "Committed_AS:    7834672 kB\n",
            "VmallocTotal:   34359738367 kB\n",
            "VmallocUsed:       52544 kB\n",
            "VmallocChunk:          0 kB\n",
            "Percpu:             1424 kB\n",
            "AnonHugePages:         0 kB\n",
            "ShmemHugePages:        0 kB\n",
            "ShmemPmdMapped:        0 kB\n",
            "FileHugePages:         0 kB\n",
            "FilePmdMapped:         0 kB\n",
            "CmaTotal:              0 kB\n",
            "CmaFree:               0 kB\n",
            "HugePages_Total:       0\n",
            "HugePages_Free:        0\n",
            "HugePages_Rsvd:        0\n",
            "HugePages_Surp:        0\n",
            "Hugepagesize:       2048 kB\n",
            "Hugetlb:               0 kB\n",
            "DirectMap4k:      230208 kB\n",
            "DirectMap2M:     7106560 kB\n",
            "DirectMap1G:     8388608 kB\n"
          ],
          "name": "stdout"
        }
      ]
    },
    {
      "cell_type": "markdown",
      "metadata": {
        "id": "ec4sYqmfmikY"
      },
      "source": [
        "## 1.2 Load Data"
      ]
    },
    {
      "cell_type": "code",
      "metadata": {
        "id": "Yrcpw6K_xhMY"
      },
      "source": [
        "path = \"/content/drive/MyDrive/data/imdb/\""
      ],
      "execution_count": 372,
      "outputs": []
    },
    {
      "cell_type": "code",
      "metadata": {
        "id": "UOc6QSa7flq5"
      },
      "source": [
        "\n",
        "# real = pd.read_excel(path+\"True.xlsx\")\n",
        "# fake = pd.read_excel(path+\"Fake.xlsx\")\n",
        "\n",
        "# from google.colab import files\n",
        "# uploaded = files.upload()"
      ],
      "execution_count": 373,
      "outputs": []
    },
    {
      "cell_type": "code",
      "metadata": {
        "id": "9kzqO5Fot9it"
      },
      "source": [
        "\n",
        "\n",
        "bio = BytesIO()\n",
        "with open(path+\"True.csv\", 'rb') as f:\n",
        "   bio.write(f.read())\n",
        "bio.seek(0)\n",
        "\n",
        "real = pd.read_csv(bio)"
      ],
      "execution_count": 374,
      "outputs": []
    },
    {
      "cell_type": "code",
      "metadata": {
        "id": "TSJG815OuAr8"
      },
      "source": [
        "# uploaded = files.upload()"
      ],
      "execution_count": 375,
      "outputs": []
    },
    {
      "cell_type": "code",
      "metadata": {
        "id": "oOuGrRuCuFHF"
      },
      "source": [
        "bio = BytesIO()\n",
        "with open(path+\"Fake.csv\", 'rb') as f:\n",
        "   bio.write(f.read())\n",
        "bio.seek(0)\n",
        "fake = pd.read_csv(bio)"
      ],
      "execution_count": 376,
      "outputs": []
    },
    {
      "cell_type": "code",
      "metadata": {
        "colab": {
          "base_uri": "https://localhost:8080/"
        },
        "id": "KHmo_QWtowtR",
        "outputId": "d55fd7b6-c893-4c47-eb30-faf6a233446d"
      },
      "source": [
        "real.columns"
      ],
      "execution_count": 377,
      "outputs": [
        {
          "output_type": "execute_result",
          "data": {
            "text/plain": [
              "Index(['title', 'text', 'subject', 'date'], dtype='object')"
            ]
          },
          "metadata": {
            "tags": []
          },
          "execution_count": 377
        }
      ]
    },
    {
      "cell_type": "code",
      "metadata": {
        "colab": {
          "base_uri": "https://localhost:8080/",
          "height": 0
        },
        "id": "bby4MYKGlNMQ",
        "outputId": "569b3de5-0032-4d54-dd5f-f4f29ad9fff2"
      },
      "source": [
        "cols = ['title', 'text', 'subject', 'date']\n",
        "real = real[cols]\n",
        "for col in cols:\n",
        "  real[col] = real[col].str.strip()\n",
        "real.head(2)"
      ],
      "execution_count": 378,
      "outputs": [
        {
          "output_type": "execute_result",
          "data": {
            "text/html": [
              "<div>\n",
              "<style scoped>\n",
              "    .dataframe tbody tr th:only-of-type {\n",
              "        vertical-align: middle;\n",
              "    }\n",
              "\n",
              "    .dataframe tbody tr th {\n",
              "        vertical-align: top;\n",
              "    }\n",
              "\n",
              "    .dataframe thead th {\n",
              "        text-align: right;\n",
              "    }\n",
              "</style>\n",
              "<table border=\"1\" class=\"dataframe\">\n",
              "  <thead>\n",
              "    <tr style=\"text-align: right;\">\n",
              "      <th></th>\n",
              "      <th>title</th>\n",
              "      <th>text</th>\n",
              "      <th>subject</th>\n",
              "      <th>date</th>\n",
              "    </tr>\n",
              "  </thead>\n",
              "  <tbody>\n",
              "    <tr>\n",
              "      <th>0</th>\n",
              "      <td>As U.S. budget fight looms, Republicans flip their fiscal script</td>\n",
              "      <td>WASHINGTON (Reuters) - The head of a conservative Republican faction in the U.S. Congress, who voted this month for a huge expansion of the national debt to pay for tax cuts, called himself a “fiscal conservative” on Sunday and urged budget restraint in 2018. In keeping with a sharp pivot under way among Republicans, U.S. Representative Mark Meadows, speaking on CBS’ “Face the Nation,” drew a hard line on federal spending, which lawmakers are bracing to do battle over in January. When they return from the holidays on Wednesday, lawmakers will begin trying to pass a federal budget in a fight likely to be linked to other issues, such as immigration policy, even as the November congressional election campaigns approach in which Republicans will seek to keep control of Congress. President Donald Trump and his Republicans want a big budget increase in military spending, while Democrats also want proportional increases for non-defense “discretionary” spending on programs that support education, scientific research, infrastructure, public health and environmental protection. “The (Trump) administration has already been willing to say: ‘We’re going to increase non-defense discretionary spending ... by about 7 percent,’” Meadows, chairman of the small but influential House Freedom Caucus, said on the program. “Now, Democrats are saying that’s not enough, we need to give the government a pay raise of 10 to 11 percent. For a fiscal conservative, I don’t see where the rationale is. ... Eventually you run out of other people’s money,” he said. Meadows was among Republicans who voted in late December for their party’s debt-financed tax overhaul, which is expected to balloon the federal budget deficit and add about $1.5 trillion over 10 years to the $20 trillion national debt. “It’s interesting to hear Mark talk about fiscal responsibility,” Democratic U.S. Representative Joseph Crowley said on CBS. Crowley said the Republican tax bill would require the  United States to borrow $1.5 trillion, to be paid off by future generations, to finance tax cuts for corporations and the rich. “This is one of the least ... fiscally responsible bills we’ve ever seen passed in the history of the House of Representatives. I think we’re going to be paying for this for many, many years to come,” Crowley said. Republicans insist the tax package, the biggest U.S. tax overhaul in more than 30 years,  will boost the economy and job growth. House Speaker Paul Ryan, who also supported the tax bill, recently went further than Meadows, making clear in a radio interview that welfare or “entitlement reform,” as the party often calls it, would be a top Republican priority in 2018. In Republican parlance, “entitlement” programs mean food stamps, housing assistance, Medicare and Medicaid health insurance for the elderly, poor and disabled, as well as other programs created by Washington to assist the needy. Democrats seized on Ryan’s early December remarks, saying they showed Republicans would try to pay for their tax overhaul by seeking spending cuts for social programs. But the goals of House Republicans may have to take a back seat to the Senate, where the votes of some Democrats will be needed to approve a budget and prevent a government shutdown. Democrats will use their leverage in the Senate, which Republicans narrowly control, to defend both discretionary non-defense programs and social spending, while tackling the issue of the “Dreamers,” people brought illegally to the country as children. Trump in September put a March 2018 expiration date on the Deferred Action for Childhood Arrivals, or DACA, program, which protects the young immigrants from deportation and provides them with work permits. The president has said in recent Twitter messages he wants funding for his proposed Mexican border wall and other immigration law changes in exchange for agreeing to help the Dreamers. Representative Debbie Dingell told CBS she did not favor linking that issue to other policy objectives, such as wall funding. “We need to do DACA clean,” she said.  On Wednesday, Trump aides will meet with congressional leaders to discuss those issues. That will be followed by a weekend of strategy sessions for Trump and Republican leaders on Jan. 6 and 7, the White House said. Trump was also scheduled to meet on Sunday with Florida Republican Governor Rick Scott, who wants more emergency aid. The House has passed an $81 billion aid package after hurricanes in Florida, Texas and Puerto Rico, and wildfires in California. The package far exceeded the $44 billion requested by the Trump administration. The Senate has not yet voted on the aid.</td>\n",
              "      <td>politicsNews</td>\n",
              "      <td>December 31, 2017</td>\n",
              "    </tr>\n",
              "    <tr>\n",
              "      <th>1</th>\n",
              "      <td>U.S. military to accept transgender recruits on Monday: Pentagon</td>\n",
              "      <td>WASHINGTON (Reuters) - Transgender people will be allowed for the first time to enlist in the U.S. military starting on Monday as ordered by federal courts, the Pentagon said on Friday, after President Donald Trump’s administration decided not to appeal rulings that blocked his transgender ban. Two federal appeals courts, one in Washington and one in Virginia, last week rejected the administration’s request to put on hold orders by lower court judges requiring the military to begin accepting transgender recruits on Jan. 1. A Justice Department official said the administration will not challenge those rulings. “The Department of Defense has announced that it will be releasing an independent study of these issues in the coming weeks. So rather than litigate this interim appeal before that occurs, the administration has decided to wait for DOD’s study and will continue to defend the president’s lawful authority in District Court in the meantime,” the official said, speaking on condition of anonymity. In September, the Pentagon said it had created a panel of senior officials to study how to implement a directive by Trump to prohibit transgender individuals from serving. The Defense Department has until Feb. 21 to submit a plan to Trump. Lawyers representing currently-serving transgender service members and aspiring recruits said they had expected the administration to appeal the rulings to the conservative-majority Supreme Court, but were hoping that would not happen. Pentagon spokeswoman Heather Babb said in a statement: “As mandated by court order, the Department of Defense is prepared to begin accessing transgender applicants for military service Jan. 1. All applicants must meet all accession standards.” Jennifer Levi, a lawyer with gay, lesbian and transgender advocacy group GLAD, called the decision not to appeal “great news.” “I’m hoping it means the government has come to see that there is no way to justify a ban and that it’s not good for the military or our country,” Levi said. Both GLAD and the American Civil Liberties Union represent plaintiffs in the lawsuits filed against the administration. In a move that appealed to his hard-line conservative supporters, Trump announced in July that he would prohibit transgender people from serving in the military, reversing Democratic President Barack Obama’s policy of accepting them. Trump said on Twitter at the time that the military “cannot be burdened with the tremendous medical costs and disruption that transgender in the military would entail.” Four federal judges - in Baltimore, Washington, D.C., Seattle and Riverside, California - have issued rulings blocking Trump’s ban while legal challenges to the Republican president’s policy proceed. The judges said the ban would likely violate the right under the U.S. Constitution to equal protection under the law. The Pentagon on Dec. 8 issued guidelines to recruitment personnel in order to enlist transgender applicants by Jan. 1. The memo outlined medical requirements and specified how the applicants’ sex would be identified and even which undergarments they would wear. The Trump administration previously said in legal papers that the armed forces were not prepared to train thousands of personnel on the medical standards needed to process transgender applicants and might have to accept “some individuals who are not medically fit for service.” The Obama administration had set a deadline of July 1, 2017, to begin accepting transgender recruits. But Trump’s defense secretary, James Mattis, postponed that date to Jan. 1, 2018, which the president’s ban then put off indefinitely. Trump has taken other steps aimed at rolling back transgender rights. In October, his administration said a federal law banning gender-based workplace discrimination does not protect transgender employees, reversing another Obama-era position. In February, Trump rescinded guidance issued by the Obama administration saying that public schools should allow transgender students to use the restroom that corresponds to their gender identity.</td>\n",
              "      <td>politicsNews</td>\n",
              "      <td>December 29, 2017</td>\n",
              "    </tr>\n",
              "  </tbody>\n",
              "</table>\n",
              "</div>"
            ],
            "text/plain": [
              "                                                              title  ...               date\n",
              "0  As U.S. budget fight looms, Republicans flip their fiscal script  ...  December 31, 2017\n",
              "1  U.S. military to accept transgender recruits on Monday: Pentagon  ...  December 29, 2017\n",
              "\n",
              "[2 rows x 4 columns]"
            ]
          },
          "metadata": {
            "tags": []
          },
          "execution_count": 378
        }
      ]
    },
    {
      "cell_type": "code",
      "metadata": {
        "colab": {
          "base_uri": "https://localhost:8080/",
          "height": 0
        },
        "id": "KJ5nu2BhlNzW",
        "outputId": "2308afe7-f275-4b5e-89da-c14720de4198"
      },
      "source": [
        "fake = fake[cols]\n",
        "for col in cols:\n",
        "  fake[col] = fake[col].str.strip()\n",
        "fake.head(2)\n"
      ],
      "execution_count": 379,
      "outputs": [
        {
          "output_type": "execute_result",
          "data": {
            "text/html": [
              "<div>\n",
              "<style scoped>\n",
              "    .dataframe tbody tr th:only-of-type {\n",
              "        vertical-align: middle;\n",
              "    }\n",
              "\n",
              "    .dataframe tbody tr th {\n",
              "        vertical-align: top;\n",
              "    }\n",
              "\n",
              "    .dataframe thead th {\n",
              "        text-align: right;\n",
              "    }\n",
              "</style>\n",
              "<table border=\"1\" class=\"dataframe\">\n",
              "  <thead>\n",
              "    <tr style=\"text-align: right;\">\n",
              "      <th></th>\n",
              "      <th>title</th>\n",
              "      <th>text</th>\n",
              "      <th>subject</th>\n",
              "      <th>date</th>\n",
              "    </tr>\n",
              "  </thead>\n",
              "  <tbody>\n",
              "    <tr>\n",
              "      <th>0</th>\n",
              "      <td>Donald Trump Sends Out Embarrassing New Year’s Eve Message; This is Disturbing</td>\n",
              "      <td>Donald Trump just couldn t wish all Americans a Happy New Year and leave it at that. Instead, he had to give a shout out to his enemies, haters and  the very dishonest fake news media.  The former reality show star had just one job to do and he couldn t do it. As our Country rapidly grows stronger and smarter, I want to wish all of my friends, supporters, enemies, haters, and even the very dishonest Fake News Media, a Happy and Healthy New Year,  President Angry Pants tweeted.  2018 will be a great year for America! As our Country rapidly grows stronger and smarter, I want to wish all of my friends, supporters, enemies, haters, and even the very dishonest Fake News Media, a Happy and Healthy New Year. 2018 will be a great year for America!  Donald J. Trump (@realDonaldTrump) December 31, 2017Trump s tweet went down about as welll as you d expect.What kind of president sends a New Year s greeting like this despicable, petty, infantile gibberish? Only Trump! His lack of decency won t even allow him to rise above the gutter long enough to wish the American citizens a happy new year!  Bishop Talbert Swan (@TalbertSwan) December 31, 2017no one likes you  Calvin (@calvinstowell) December 31, 2017Your impeachment would make 2018 a great year for America, but I ll also accept regaining control of Congress.  Miranda Yaver (@mirandayaver) December 31, 2017Do you hear yourself talk? When you have to include that many people that hate you you have to wonder? Why do the they all hate me?  Alan Sandoval (@AlanSandoval13) December 31, 2017Who uses the word Haters in a New Years wish??  Marlene (@marlene399) December 31, 2017You can t just say happy new year?  Koren pollitt (@Korencarpenter) December 31, 2017Here s Trump s New Year s Eve tweet from 2016.Happy New Year to all, including to my many enemies and those who have fought me and lost so badly they just don t know what to do. Love!  Donald J. Trump (@realDonaldTrump) December 31, 2016This is nothing new for Trump. He s been doing this for years.Trump has directed messages to his  enemies  and  haters  for New Year s, Easter, Thanksgiving, and the anniversary of 9/11. pic.twitter.com/4FPAe2KypA  Daniel Dale (@ddale8) December 31, 2017Trump s holiday tweets are clearly not presidential.How long did he work at Hallmark before becoming President?  Steven Goodine (@SGoodine) December 31, 2017He s always been like this . . . the only difference is that in the last few years, his filter has been breaking down.  Roy Schulze (@thbthttt) December 31, 2017Who, apart from a teenager uses the term haters?  Wendy (@WendyWhistles) December 31, 2017he s a fucking 5 year old  Who Knows (@rainyday80) December 31, 2017So, to all the people who voted for this a hole thinking he would change once he got into power, you were wrong! 70-year-old men don t change and now he s a year older.Photo by Andrew Burton/Getty Images.</td>\n",
              "      <td>News</td>\n",
              "      <td>December 31, 2017</td>\n",
              "    </tr>\n",
              "    <tr>\n",
              "      <th>1</th>\n",
              "      <td>Drunk Bragging Trump Staffer Started Russian Collusion Investigation</td>\n",
              "      <td>House Intelligence Committee Chairman Devin Nunes is going to have a bad day. He s been under the assumption, like many of us, that the Christopher Steele-dossier was what prompted the Russia investigation so he s been lashing out at the Department of Justice and the FBI in order to protect Trump. As it happens, the dossier is not what started the investigation, according to documents obtained by the New York Times.Former Trump campaign adviser George Papadopoulos was drunk in a wine bar when he revealed knowledge of Russian opposition research on Hillary Clinton.On top of that, Papadopoulos wasn t just a covfefe boy for Trump, as his administration has alleged. He had a much larger role, but none so damning as being a drunken fool in a wine bar. Coffee boys  don t help to arrange a New York meeting between Trump and President Abdel Fattah el-Sisi of Egypt two months before the election. It was known before that the former aide set up meetings with world leaders for Trump, but team Trump ran with him being merely a coffee boy.In May 2016, Papadopoulos revealed to Australian diplomat Alexander Downer that Russian officials were shopping around possible dirt on then-Democratic presidential nominee Hillary Clinton. Exactly how much Mr. Papadopoulos said that night at the Kensington Wine Rooms with the Australian, Alexander Downer, is unclear,  the report states.  But two months later, when leaked Democratic emails began appearing online, Australian officials passed the information about Mr. Papadopoulos to their American counterparts, according to four current and former American and foreign officials with direct knowledge of the Australians  role. Papadopoulos pleaded guilty to lying to the F.B.I. and is now a cooperating witness with Special Counsel Robert Mueller s team.This isn t a presidency. It s a badly scripted reality TV show.Photo by Win McNamee/Getty Images.</td>\n",
              "      <td>News</td>\n",
              "      <td>December 31, 2017</td>\n",
              "    </tr>\n",
              "  </tbody>\n",
              "</table>\n",
              "</div>"
            ],
            "text/plain": [
              "                                                                            title  ...               date\n",
              "0  Donald Trump Sends Out Embarrassing New Year’s Eve Message; This is Disturbing  ...  December 31, 2017\n",
              "1            Drunk Bragging Trump Staffer Started Russian Collusion Investigation  ...  December 31, 2017\n",
              "\n",
              "[2 rows x 4 columns]"
            ]
          },
          "metadata": {
            "tags": []
          },
          "execution_count": 379
        }
      ]
    },
    {
      "cell_type": "code",
      "metadata": {
        "id": "d3l5-e56qBVW"
      },
      "source": [
        ""
      ],
      "execution_count": 379,
      "outputs": []
    },
    {
      "cell_type": "markdown",
      "metadata": {
        "id": "Lb-8emeF_yoT"
      },
      "source": [
        "# 2. Data Visualization"
      ]
    },
    {
      "cell_type": "markdown",
      "metadata": {
        "id": "TMVvJMeMgTk-"
      },
      "source": [
        "## 2.1 Print at least two texts from each class (fake & real) of the dataset"
      ]
    },
    {
      "cell_type": "code",
      "metadata": {
        "id": "N_nIwJp3ABM4"
      },
      "source": [
        "# Create Target based on Real and Fake data\n",
        "real['Label'] = 1\n",
        "fake['Label'] = 0"
      ],
      "execution_count": 380,
      "outputs": []
    },
    {
      "cell_type": "code",
      "metadata": {
        "id": "C7sSG13cJw7X",
        "colab": {
          "base_uri": "https://localhost:8080/",
          "height": 0
        },
        "outputId": "501650f7-18f5-414b-f11e-1eef0116c306"
      },
      "source": [
        "pd.set_option('display.max_colwidth', None)\n",
        "real.iloc[[0,1],[1,2]]"
      ],
      "execution_count": 381,
      "outputs": [
        {
          "output_type": "execute_result",
          "data": {
            "text/html": [
              "<div>\n",
              "<style scoped>\n",
              "    .dataframe tbody tr th:only-of-type {\n",
              "        vertical-align: middle;\n",
              "    }\n",
              "\n",
              "    .dataframe tbody tr th {\n",
              "        vertical-align: top;\n",
              "    }\n",
              "\n",
              "    .dataframe thead th {\n",
              "        text-align: right;\n",
              "    }\n",
              "</style>\n",
              "<table border=\"1\" class=\"dataframe\">\n",
              "  <thead>\n",
              "    <tr style=\"text-align: right;\">\n",
              "      <th></th>\n",
              "      <th>text</th>\n",
              "      <th>subject</th>\n",
              "    </tr>\n",
              "  </thead>\n",
              "  <tbody>\n",
              "    <tr>\n",
              "      <th>0</th>\n",
              "      <td>WASHINGTON (Reuters) - The head of a conservative Republican faction in the U.S. Congress, who voted this month for a huge expansion of the national debt to pay for tax cuts, called himself a “fiscal conservative” on Sunday and urged budget restraint in 2018. In keeping with a sharp pivot under way among Republicans, U.S. Representative Mark Meadows, speaking on CBS’ “Face the Nation,” drew a hard line on federal spending, which lawmakers are bracing to do battle over in January. When they return from the holidays on Wednesday, lawmakers will begin trying to pass a federal budget in a fight likely to be linked to other issues, such as immigration policy, even as the November congressional election campaigns approach in which Republicans will seek to keep control of Congress. President Donald Trump and his Republicans want a big budget increase in military spending, while Democrats also want proportional increases for non-defense “discretionary” spending on programs that support education, scientific research, infrastructure, public health and environmental protection. “The (Trump) administration has already been willing to say: ‘We’re going to increase non-defense discretionary spending ... by about 7 percent,’” Meadows, chairman of the small but influential House Freedom Caucus, said on the program. “Now, Democrats are saying that’s not enough, we need to give the government a pay raise of 10 to 11 percent. For a fiscal conservative, I don’t see where the rationale is. ... Eventually you run out of other people’s money,” he said. Meadows was among Republicans who voted in late December for their party’s debt-financed tax overhaul, which is expected to balloon the federal budget deficit and add about $1.5 trillion over 10 years to the $20 trillion national debt. “It’s interesting to hear Mark talk about fiscal responsibility,” Democratic U.S. Representative Joseph Crowley said on CBS. Crowley said the Republican tax bill would require the  United States to borrow $1.5 trillion, to be paid off by future generations, to finance tax cuts for corporations and the rich. “This is one of the least ... fiscally responsible bills we’ve ever seen passed in the history of the House of Representatives. I think we’re going to be paying for this for many, many years to come,” Crowley said. Republicans insist the tax package, the biggest U.S. tax overhaul in more than 30 years,  will boost the economy and job growth. House Speaker Paul Ryan, who also supported the tax bill, recently went further than Meadows, making clear in a radio interview that welfare or “entitlement reform,” as the party often calls it, would be a top Republican priority in 2018. In Republican parlance, “entitlement” programs mean food stamps, housing assistance, Medicare and Medicaid health insurance for the elderly, poor and disabled, as well as other programs created by Washington to assist the needy. Democrats seized on Ryan’s early December remarks, saying they showed Republicans would try to pay for their tax overhaul by seeking spending cuts for social programs. But the goals of House Republicans may have to take a back seat to the Senate, where the votes of some Democrats will be needed to approve a budget and prevent a government shutdown. Democrats will use their leverage in the Senate, which Republicans narrowly control, to defend both discretionary non-defense programs and social spending, while tackling the issue of the “Dreamers,” people brought illegally to the country as children. Trump in September put a March 2018 expiration date on the Deferred Action for Childhood Arrivals, or DACA, program, which protects the young immigrants from deportation and provides them with work permits. The president has said in recent Twitter messages he wants funding for his proposed Mexican border wall and other immigration law changes in exchange for agreeing to help the Dreamers. Representative Debbie Dingell told CBS she did not favor linking that issue to other policy objectives, such as wall funding. “We need to do DACA clean,” she said.  On Wednesday, Trump aides will meet with congressional leaders to discuss those issues. That will be followed by a weekend of strategy sessions for Trump and Republican leaders on Jan. 6 and 7, the White House said. Trump was also scheduled to meet on Sunday with Florida Republican Governor Rick Scott, who wants more emergency aid. The House has passed an $81 billion aid package after hurricanes in Florida, Texas and Puerto Rico, and wildfires in California. The package far exceeded the $44 billion requested by the Trump administration. The Senate has not yet voted on the aid.</td>\n",
              "      <td>politicsNews</td>\n",
              "    </tr>\n",
              "    <tr>\n",
              "      <th>1</th>\n",
              "      <td>WASHINGTON (Reuters) - Transgender people will be allowed for the first time to enlist in the U.S. military starting on Monday as ordered by federal courts, the Pentagon said on Friday, after President Donald Trump’s administration decided not to appeal rulings that blocked his transgender ban. Two federal appeals courts, one in Washington and one in Virginia, last week rejected the administration’s request to put on hold orders by lower court judges requiring the military to begin accepting transgender recruits on Jan. 1. A Justice Department official said the administration will not challenge those rulings. “The Department of Defense has announced that it will be releasing an independent study of these issues in the coming weeks. So rather than litigate this interim appeal before that occurs, the administration has decided to wait for DOD’s study and will continue to defend the president’s lawful authority in District Court in the meantime,” the official said, speaking on condition of anonymity. In September, the Pentagon said it had created a panel of senior officials to study how to implement a directive by Trump to prohibit transgender individuals from serving. The Defense Department has until Feb. 21 to submit a plan to Trump. Lawyers representing currently-serving transgender service members and aspiring recruits said they had expected the administration to appeal the rulings to the conservative-majority Supreme Court, but were hoping that would not happen. Pentagon spokeswoman Heather Babb said in a statement: “As mandated by court order, the Department of Defense is prepared to begin accessing transgender applicants for military service Jan. 1. All applicants must meet all accession standards.” Jennifer Levi, a lawyer with gay, lesbian and transgender advocacy group GLAD, called the decision not to appeal “great news.” “I’m hoping it means the government has come to see that there is no way to justify a ban and that it’s not good for the military or our country,” Levi said. Both GLAD and the American Civil Liberties Union represent plaintiffs in the lawsuits filed against the administration. In a move that appealed to his hard-line conservative supporters, Trump announced in July that he would prohibit transgender people from serving in the military, reversing Democratic President Barack Obama’s policy of accepting them. Trump said on Twitter at the time that the military “cannot be burdened with the tremendous medical costs and disruption that transgender in the military would entail.” Four federal judges - in Baltimore, Washington, D.C., Seattle and Riverside, California - have issued rulings blocking Trump’s ban while legal challenges to the Republican president’s policy proceed. The judges said the ban would likely violate the right under the U.S. Constitution to equal protection under the law. The Pentagon on Dec. 8 issued guidelines to recruitment personnel in order to enlist transgender applicants by Jan. 1. The memo outlined medical requirements and specified how the applicants’ sex would be identified and even which undergarments they would wear. The Trump administration previously said in legal papers that the armed forces were not prepared to train thousands of personnel on the medical standards needed to process transgender applicants and might have to accept “some individuals who are not medically fit for service.” The Obama administration had set a deadline of July 1, 2017, to begin accepting transgender recruits. But Trump’s defense secretary, James Mattis, postponed that date to Jan. 1, 2018, which the president’s ban then put off indefinitely. Trump has taken other steps aimed at rolling back transgender rights. In October, his administration said a federal law banning gender-based workplace discrimination does not protect transgender employees, reversing another Obama-era position. In February, Trump rescinded guidance issued by the Obama administration saying that public schools should allow transgender students to use the restroom that corresponds to their gender identity.</td>\n",
              "      <td>politicsNews</td>\n",
              "    </tr>\n",
              "  </tbody>\n",
              "</table>\n",
              "</div>"
            ],
            "text/plain": [
              "                                                                                                                                                                                                                                                                                                                                                                                                                                                                                                                                                                                                                                                                                                                                                                                                                                                                                                                                                                                                                                                                                                                                                                                                                                                                                                                                                                                                                                                                                                                                                                                                                                                                                                                                                                                                                                                                                                                                                                                                                                                                                                                                                                                                                                                                                                                                                                                                                                                                                                                                                                                                                                                                                                                                                                                                                                                                                                                                                                                                                                                                                                                                                                                                                                                                                                                                                                                                                                                                                                                                                                                                                                                                                                                                                                                                                                                                                                                                                                                                                                                                                                                                                                                                                                                                                                                                                                                                                                                                                                                                                                                                                                                                                                                                                                                                                                                 text       subject\n",
              "0  WASHINGTON (Reuters) - The head of a conservative Republican faction in the U.S. Congress, who voted this month for a huge expansion of the national debt to pay for tax cuts, called himself a “fiscal conservative” on Sunday and urged budget restraint in 2018. In keeping with a sharp pivot under way among Republicans, U.S. Representative Mark Meadows, speaking on CBS’ “Face the Nation,” drew a hard line on federal spending, which lawmakers are bracing to do battle over in January. When they return from the holidays on Wednesday, lawmakers will begin trying to pass a federal budget in a fight likely to be linked to other issues, such as immigration policy, even as the November congressional election campaigns approach in which Republicans will seek to keep control of Congress. President Donald Trump and his Republicans want a big budget increase in military spending, while Democrats also want proportional increases for non-defense “discretionary” spending on programs that support education, scientific research, infrastructure, public health and environmental protection. “The (Trump) administration has already been willing to say: ‘We’re going to increase non-defense discretionary spending ... by about 7 percent,’” Meadows, chairman of the small but influential House Freedom Caucus, said on the program. “Now, Democrats are saying that’s not enough, we need to give the government a pay raise of 10 to 11 percent. For a fiscal conservative, I don’t see where the rationale is. ... Eventually you run out of other people’s money,” he said. Meadows was among Republicans who voted in late December for their party’s debt-financed tax overhaul, which is expected to balloon the federal budget deficit and add about $1.5 trillion over 10 years to the $20 trillion national debt. “It’s interesting to hear Mark talk about fiscal responsibility,” Democratic U.S. Representative Joseph Crowley said on CBS. Crowley said the Republican tax bill would require the  United States to borrow $1.5 trillion, to be paid off by future generations, to finance tax cuts for corporations and the rich. “This is one of the least ... fiscally responsible bills we’ve ever seen passed in the history of the House of Representatives. I think we’re going to be paying for this for many, many years to come,” Crowley said. Republicans insist the tax package, the biggest U.S. tax overhaul in more than 30 years,  will boost the economy and job growth. House Speaker Paul Ryan, who also supported the tax bill, recently went further than Meadows, making clear in a radio interview that welfare or “entitlement reform,” as the party often calls it, would be a top Republican priority in 2018. In Republican parlance, “entitlement” programs mean food stamps, housing assistance, Medicare and Medicaid health insurance for the elderly, poor and disabled, as well as other programs created by Washington to assist the needy. Democrats seized on Ryan’s early December remarks, saying they showed Republicans would try to pay for their tax overhaul by seeking spending cuts for social programs. But the goals of House Republicans may have to take a back seat to the Senate, where the votes of some Democrats will be needed to approve a budget and prevent a government shutdown. Democrats will use their leverage in the Senate, which Republicans narrowly control, to defend both discretionary non-defense programs and social spending, while tackling the issue of the “Dreamers,” people brought illegally to the country as children. Trump in September put a March 2018 expiration date on the Deferred Action for Childhood Arrivals, or DACA, program, which protects the young immigrants from deportation and provides them with work permits. The president has said in recent Twitter messages he wants funding for his proposed Mexican border wall and other immigration law changes in exchange for agreeing to help the Dreamers. Representative Debbie Dingell told CBS she did not favor linking that issue to other policy objectives, such as wall funding. “We need to do DACA clean,” she said.  On Wednesday, Trump aides will meet with congressional leaders to discuss those issues. That will be followed by a weekend of strategy sessions for Trump and Republican leaders on Jan. 6 and 7, the White House said. Trump was also scheduled to meet on Sunday with Florida Republican Governor Rick Scott, who wants more emergency aid. The House has passed an $81 billion aid package after hurricanes in Florida, Texas and Puerto Rico, and wildfires in California. The package far exceeded the $44 billion requested by the Trump administration. The Senate has not yet voted on the aid.  politicsNews\n",
              "1                                                                                                                                                                                                                                                                                                                                                                                                                                                                                                                                                                                                        WASHINGTON (Reuters) - Transgender people will be allowed for the first time to enlist in the U.S. military starting on Monday as ordered by federal courts, the Pentagon said on Friday, after President Donald Trump’s administration decided not to appeal rulings that blocked his transgender ban. Two federal appeals courts, one in Washington and one in Virginia, last week rejected the administration’s request to put on hold orders by lower court judges requiring the military to begin accepting transgender recruits on Jan. 1. A Justice Department official said the administration will not challenge those rulings. “The Department of Defense has announced that it will be releasing an independent study of these issues in the coming weeks. So rather than litigate this interim appeal before that occurs, the administration has decided to wait for DOD’s study and will continue to defend the president’s lawful authority in District Court in the meantime,” the official said, speaking on condition of anonymity. In September, the Pentagon said it had created a panel of senior officials to study how to implement a directive by Trump to prohibit transgender individuals from serving. The Defense Department has until Feb. 21 to submit a plan to Trump. Lawyers representing currently-serving transgender service members and aspiring recruits said they had expected the administration to appeal the rulings to the conservative-majority Supreme Court, but were hoping that would not happen. Pentagon spokeswoman Heather Babb said in a statement: “As mandated by court order, the Department of Defense is prepared to begin accessing transgender applicants for military service Jan. 1. All applicants must meet all accession standards.” Jennifer Levi, a lawyer with gay, lesbian and transgender advocacy group GLAD, called the decision not to appeal “great news.” “I’m hoping it means the government has come to see that there is no way to justify a ban and that it’s not good for the military or our country,” Levi said. Both GLAD and the American Civil Liberties Union represent plaintiffs in the lawsuits filed against the administration. In a move that appealed to his hard-line conservative supporters, Trump announced in July that he would prohibit transgender people from serving in the military, reversing Democratic President Barack Obama’s policy of accepting them. Trump said on Twitter at the time that the military “cannot be burdened with the tremendous medical costs and disruption that transgender in the military would entail.” Four federal judges - in Baltimore, Washington, D.C., Seattle and Riverside, California - have issued rulings blocking Trump’s ban while legal challenges to the Republican president’s policy proceed. The judges said the ban would likely violate the right under the U.S. Constitution to equal protection under the law. The Pentagon on Dec. 8 issued guidelines to recruitment personnel in order to enlist transgender applicants by Jan. 1. The memo outlined medical requirements and specified how the applicants’ sex would be identified and even which undergarments they would wear. The Trump administration previously said in legal papers that the armed forces were not prepared to train thousands of personnel on the medical standards needed to process transgender applicants and might have to accept “some individuals who are not medically fit for service.” The Obama administration had set a deadline of July 1, 2017, to begin accepting transgender recruits. But Trump’s defense secretary, James Mattis, postponed that date to Jan. 1, 2018, which the president’s ban then put off indefinitely. Trump has taken other steps aimed at rolling back transgender rights. In October, his administration said a federal law banning gender-based workplace discrimination does not protect transgender employees, reversing another Obama-era position. In February, Trump rescinded guidance issued by the Obama administration saying that public schools should allow transgender students to use the restroom that corresponds to their gender identity.  politicsNews"
            ]
          },
          "metadata": {
            "tags": []
          },
          "execution_count": 381
        }
      ]
    },
    {
      "cell_type": "code",
      "metadata": {
        "id": "GqcadsloemZ5",
        "colab": {
          "base_uri": "https://localhost:8080/",
          "height": 0
        },
        "outputId": "f43b085f-6c7a-4052-d434-0b5ebdc2749d"
      },
      "source": [
        "fake.iloc[[0,1],[1,2]]"
      ],
      "execution_count": 382,
      "outputs": [
        {
          "output_type": "execute_result",
          "data": {
            "text/html": [
              "<div>\n",
              "<style scoped>\n",
              "    .dataframe tbody tr th:only-of-type {\n",
              "        vertical-align: middle;\n",
              "    }\n",
              "\n",
              "    .dataframe tbody tr th {\n",
              "        vertical-align: top;\n",
              "    }\n",
              "\n",
              "    .dataframe thead th {\n",
              "        text-align: right;\n",
              "    }\n",
              "</style>\n",
              "<table border=\"1\" class=\"dataframe\">\n",
              "  <thead>\n",
              "    <tr style=\"text-align: right;\">\n",
              "      <th></th>\n",
              "      <th>text</th>\n",
              "      <th>subject</th>\n",
              "    </tr>\n",
              "  </thead>\n",
              "  <tbody>\n",
              "    <tr>\n",
              "      <th>0</th>\n",
              "      <td>Donald Trump just couldn t wish all Americans a Happy New Year and leave it at that. Instead, he had to give a shout out to his enemies, haters and  the very dishonest fake news media.  The former reality show star had just one job to do and he couldn t do it. As our Country rapidly grows stronger and smarter, I want to wish all of my friends, supporters, enemies, haters, and even the very dishonest Fake News Media, a Happy and Healthy New Year,  President Angry Pants tweeted.  2018 will be a great year for America! As our Country rapidly grows stronger and smarter, I want to wish all of my friends, supporters, enemies, haters, and even the very dishonest Fake News Media, a Happy and Healthy New Year. 2018 will be a great year for America!  Donald J. Trump (@realDonaldTrump) December 31, 2017Trump s tweet went down about as welll as you d expect.What kind of president sends a New Year s greeting like this despicable, petty, infantile gibberish? Only Trump! His lack of decency won t even allow him to rise above the gutter long enough to wish the American citizens a happy new year!  Bishop Talbert Swan (@TalbertSwan) December 31, 2017no one likes you  Calvin (@calvinstowell) December 31, 2017Your impeachment would make 2018 a great year for America, but I ll also accept regaining control of Congress.  Miranda Yaver (@mirandayaver) December 31, 2017Do you hear yourself talk? When you have to include that many people that hate you you have to wonder? Why do the they all hate me?  Alan Sandoval (@AlanSandoval13) December 31, 2017Who uses the word Haters in a New Years wish??  Marlene (@marlene399) December 31, 2017You can t just say happy new year?  Koren pollitt (@Korencarpenter) December 31, 2017Here s Trump s New Year s Eve tweet from 2016.Happy New Year to all, including to my many enemies and those who have fought me and lost so badly they just don t know what to do. Love!  Donald J. Trump (@realDonaldTrump) December 31, 2016This is nothing new for Trump. He s been doing this for years.Trump has directed messages to his  enemies  and  haters  for New Year s, Easter, Thanksgiving, and the anniversary of 9/11. pic.twitter.com/4FPAe2KypA  Daniel Dale (@ddale8) December 31, 2017Trump s holiday tweets are clearly not presidential.How long did he work at Hallmark before becoming President?  Steven Goodine (@SGoodine) December 31, 2017He s always been like this . . . the only difference is that in the last few years, his filter has been breaking down.  Roy Schulze (@thbthttt) December 31, 2017Who, apart from a teenager uses the term haters?  Wendy (@WendyWhistles) December 31, 2017he s a fucking 5 year old  Who Knows (@rainyday80) December 31, 2017So, to all the people who voted for this a hole thinking he would change once he got into power, you were wrong! 70-year-old men don t change and now he s a year older.Photo by Andrew Burton/Getty Images.</td>\n",
              "      <td>News</td>\n",
              "    </tr>\n",
              "    <tr>\n",
              "      <th>1</th>\n",
              "      <td>House Intelligence Committee Chairman Devin Nunes is going to have a bad day. He s been under the assumption, like many of us, that the Christopher Steele-dossier was what prompted the Russia investigation so he s been lashing out at the Department of Justice and the FBI in order to protect Trump. As it happens, the dossier is not what started the investigation, according to documents obtained by the New York Times.Former Trump campaign adviser George Papadopoulos was drunk in a wine bar when he revealed knowledge of Russian opposition research on Hillary Clinton.On top of that, Papadopoulos wasn t just a covfefe boy for Trump, as his administration has alleged. He had a much larger role, but none so damning as being a drunken fool in a wine bar. Coffee boys  don t help to arrange a New York meeting between Trump and President Abdel Fattah el-Sisi of Egypt two months before the election. It was known before that the former aide set up meetings with world leaders for Trump, but team Trump ran with him being merely a coffee boy.In May 2016, Papadopoulos revealed to Australian diplomat Alexander Downer that Russian officials were shopping around possible dirt on then-Democratic presidential nominee Hillary Clinton. Exactly how much Mr. Papadopoulos said that night at the Kensington Wine Rooms with the Australian, Alexander Downer, is unclear,  the report states.  But two months later, when leaked Democratic emails began appearing online, Australian officials passed the information about Mr. Papadopoulos to their American counterparts, according to four current and former American and foreign officials with direct knowledge of the Australians  role. Papadopoulos pleaded guilty to lying to the F.B.I. and is now a cooperating witness with Special Counsel Robert Mueller s team.This isn t a presidency. It s a badly scripted reality TV show.Photo by Win McNamee/Getty Images.</td>\n",
              "      <td>News</td>\n",
              "    </tr>\n",
              "  </tbody>\n",
              "</table>\n",
              "</div>"
            ],
            "text/plain": [
              "                                                                                                                                                                                                                                                                                                                                                                                                                                                                                                                                                                                                                                                                                                                                                                                                                                                                                                                                                                                                                                                                                                                                                                                                                                                                                                                                                                                                                                                                                                                                                                                                                                                                                                                                                                                                                                                                                                                                                                                                                                                                                                                                                                                                                                                                                                                                                                                                                                                                                                                                                                                                                                                                                                                                                                                                                                                                                                                                                                                                            text subject\n",
              "0  Donald Trump just couldn t wish all Americans a Happy New Year and leave it at that. Instead, he had to give a shout out to his enemies, haters and  the very dishonest fake news media.  The former reality show star had just one job to do and he couldn t do it. As our Country rapidly grows stronger and smarter, I want to wish all of my friends, supporters, enemies, haters, and even the very dishonest Fake News Media, a Happy and Healthy New Year,  President Angry Pants tweeted.  2018 will be a great year for America! As our Country rapidly grows stronger and smarter, I want to wish all of my friends, supporters, enemies, haters, and even the very dishonest Fake News Media, a Happy and Healthy New Year. 2018 will be a great year for America!  Donald J. Trump (@realDonaldTrump) December 31, 2017Trump s tweet went down about as welll as you d expect.What kind of president sends a New Year s greeting like this despicable, petty, infantile gibberish? Only Trump! His lack of decency won t even allow him to rise above the gutter long enough to wish the American citizens a happy new year!  Bishop Talbert Swan (@TalbertSwan) December 31, 2017no one likes you  Calvin (@calvinstowell) December 31, 2017Your impeachment would make 2018 a great year for America, but I ll also accept regaining control of Congress.  Miranda Yaver (@mirandayaver) December 31, 2017Do you hear yourself talk? When you have to include that many people that hate you you have to wonder? Why do the they all hate me?  Alan Sandoval (@AlanSandoval13) December 31, 2017Who uses the word Haters in a New Years wish??  Marlene (@marlene399) December 31, 2017You can t just say happy new year?  Koren pollitt (@Korencarpenter) December 31, 2017Here s Trump s New Year s Eve tweet from 2016.Happy New Year to all, including to my many enemies and those who have fought me and lost so badly they just don t know what to do. Love!  Donald J. Trump (@realDonaldTrump) December 31, 2016This is nothing new for Trump. He s been doing this for years.Trump has directed messages to his  enemies  and  haters  for New Year s, Easter, Thanksgiving, and the anniversary of 9/11. pic.twitter.com/4FPAe2KypA  Daniel Dale (@ddale8) December 31, 2017Trump s holiday tweets are clearly not presidential.How long did he work at Hallmark before becoming President?  Steven Goodine (@SGoodine) December 31, 2017He s always been like this . . . the only difference is that in the last few years, his filter has been breaking down.  Roy Schulze (@thbthttt) December 31, 2017Who, apart from a teenager uses the term haters?  Wendy (@WendyWhistles) December 31, 2017he s a fucking 5 year old  Who Knows (@rainyday80) December 31, 2017So, to all the people who voted for this a hole thinking he would change once he got into power, you were wrong! 70-year-old men don t change and now he s a year older.Photo by Andrew Burton/Getty Images.    News\n",
              "1                                                                                                                                                                                                                                                                                                                                                                                                                                                                                                                                                                                                                                                                                                                                                                                                                                                                                                                                                                                                                                     House Intelligence Committee Chairman Devin Nunes is going to have a bad day. He s been under the assumption, like many of us, that the Christopher Steele-dossier was what prompted the Russia investigation so he s been lashing out at the Department of Justice and the FBI in order to protect Trump. As it happens, the dossier is not what started the investigation, according to documents obtained by the New York Times.Former Trump campaign adviser George Papadopoulos was drunk in a wine bar when he revealed knowledge of Russian opposition research on Hillary Clinton.On top of that, Papadopoulos wasn t just a covfefe boy for Trump, as his administration has alleged. He had a much larger role, but none so damning as being a drunken fool in a wine bar. Coffee boys  don t help to arrange a New York meeting between Trump and President Abdel Fattah el-Sisi of Egypt two months before the election. It was known before that the former aide set up meetings with world leaders for Trump, but team Trump ran with him being merely a coffee boy.In May 2016, Papadopoulos revealed to Australian diplomat Alexander Downer that Russian officials were shopping around possible dirt on then-Democratic presidential nominee Hillary Clinton. Exactly how much Mr. Papadopoulos said that night at the Kensington Wine Rooms with the Australian, Alexander Downer, is unclear,  the report states.  But two months later, when leaked Democratic emails began appearing online, Australian officials passed the information about Mr. Papadopoulos to their American counterparts, according to four current and former American and foreign officials with direct knowledge of the Australians  role. Papadopoulos pleaded guilty to lying to the F.B.I. and is now a cooperating witness with Special Counsel Robert Mueller s team.This isn t a presidency. It s a badly scripted reality TV show.Photo by Win McNamee/Getty Images.    News"
            ]
          },
          "metadata": {
            "tags": []
          },
          "execution_count": 382
        }
      ]
    },
    {
      "cell_type": "code",
      "metadata": {
        "id": "X0ILQOTU_jMr",
        "colab": {
          "base_uri": "https://localhost:8080/"
        },
        "outputId": "545508f4-41bd-4d8d-aeb2-dbba48bcd09e"
      },
      "source": [
        "print(real.shape)"
      ],
      "execution_count": 383,
      "outputs": [
        {
          "output_type": "stream",
          "text": [
            "(21417, 5)\n"
          ],
          "name": "stdout"
        }
      ]
    },
    {
      "cell_type": "code",
      "metadata": {
        "id": "oN_WjJANEmG2",
        "colab": {
          "base_uri": "https://localhost:8080/",
          "height": 0
        },
        "outputId": "6c201f61-f5a7-4cad-8dea-4b9e1193aa1f"
      },
      "source": [
        "print(fake.shape)\n",
        "fake.head()"
      ],
      "execution_count": 384,
      "outputs": [
        {
          "output_type": "stream",
          "text": [
            "(23481, 5)\n"
          ],
          "name": "stdout"
        },
        {
          "output_type": "execute_result",
          "data": {
            "text/html": [
              "<div>\n",
              "<style scoped>\n",
              "    .dataframe tbody tr th:only-of-type {\n",
              "        vertical-align: middle;\n",
              "    }\n",
              "\n",
              "    .dataframe tbody tr th {\n",
              "        vertical-align: top;\n",
              "    }\n",
              "\n",
              "    .dataframe thead th {\n",
              "        text-align: right;\n",
              "    }\n",
              "</style>\n",
              "<table border=\"1\" class=\"dataframe\">\n",
              "  <thead>\n",
              "    <tr style=\"text-align: right;\">\n",
              "      <th></th>\n",
              "      <th>title</th>\n",
              "      <th>text</th>\n",
              "      <th>subject</th>\n",
              "      <th>date</th>\n",
              "      <th>Label</th>\n",
              "    </tr>\n",
              "  </thead>\n",
              "  <tbody>\n",
              "    <tr>\n",
              "      <th>0</th>\n",
              "      <td>Donald Trump Sends Out Embarrassing New Year’s Eve Message; This is Disturbing</td>\n",
              "      <td>Donald Trump just couldn t wish all Americans a Happy New Year and leave it at that. Instead, he had to give a shout out to his enemies, haters and  the very dishonest fake news media.  The former reality show star had just one job to do and he couldn t do it. As our Country rapidly grows stronger and smarter, I want to wish all of my friends, supporters, enemies, haters, and even the very dishonest Fake News Media, a Happy and Healthy New Year,  President Angry Pants tweeted.  2018 will be a great year for America! As our Country rapidly grows stronger and smarter, I want to wish all of my friends, supporters, enemies, haters, and even the very dishonest Fake News Media, a Happy and Healthy New Year. 2018 will be a great year for America!  Donald J. Trump (@realDonaldTrump) December 31, 2017Trump s tweet went down about as welll as you d expect.What kind of president sends a New Year s greeting like this despicable, petty, infantile gibberish? Only Trump! His lack of decency won t even allow him to rise above the gutter long enough to wish the American citizens a happy new year!  Bishop Talbert Swan (@TalbertSwan) December 31, 2017no one likes you  Calvin (@calvinstowell) December 31, 2017Your impeachment would make 2018 a great year for America, but I ll also accept regaining control of Congress.  Miranda Yaver (@mirandayaver) December 31, 2017Do you hear yourself talk? When you have to include that many people that hate you you have to wonder? Why do the they all hate me?  Alan Sandoval (@AlanSandoval13) December 31, 2017Who uses the word Haters in a New Years wish??  Marlene (@marlene399) December 31, 2017You can t just say happy new year?  Koren pollitt (@Korencarpenter) December 31, 2017Here s Trump s New Year s Eve tweet from 2016.Happy New Year to all, including to my many enemies and those who have fought me and lost so badly they just don t know what to do. Love!  Donald J. Trump (@realDonaldTrump) December 31, 2016This is nothing new for Trump. He s been doing this for years.Trump has directed messages to his  enemies  and  haters  for New Year s, Easter, Thanksgiving, and the anniversary of 9/11. pic.twitter.com/4FPAe2KypA  Daniel Dale (@ddale8) December 31, 2017Trump s holiday tweets are clearly not presidential.How long did he work at Hallmark before becoming President?  Steven Goodine (@SGoodine) December 31, 2017He s always been like this . . . the only difference is that in the last few years, his filter has been breaking down.  Roy Schulze (@thbthttt) December 31, 2017Who, apart from a teenager uses the term haters?  Wendy (@WendyWhistles) December 31, 2017he s a fucking 5 year old  Who Knows (@rainyday80) December 31, 2017So, to all the people who voted for this a hole thinking he would change once he got into power, you were wrong! 70-year-old men don t change and now he s a year older.Photo by Andrew Burton/Getty Images.</td>\n",
              "      <td>News</td>\n",
              "      <td>December 31, 2017</td>\n",
              "      <td>0</td>\n",
              "    </tr>\n",
              "    <tr>\n",
              "      <th>1</th>\n",
              "      <td>Drunk Bragging Trump Staffer Started Russian Collusion Investigation</td>\n",
              "      <td>House Intelligence Committee Chairman Devin Nunes is going to have a bad day. He s been under the assumption, like many of us, that the Christopher Steele-dossier was what prompted the Russia investigation so he s been lashing out at the Department of Justice and the FBI in order to protect Trump. As it happens, the dossier is not what started the investigation, according to documents obtained by the New York Times.Former Trump campaign adviser George Papadopoulos was drunk in a wine bar when he revealed knowledge of Russian opposition research on Hillary Clinton.On top of that, Papadopoulos wasn t just a covfefe boy for Trump, as his administration has alleged. He had a much larger role, but none so damning as being a drunken fool in a wine bar. Coffee boys  don t help to arrange a New York meeting between Trump and President Abdel Fattah el-Sisi of Egypt two months before the election. It was known before that the former aide set up meetings with world leaders for Trump, but team Trump ran with him being merely a coffee boy.In May 2016, Papadopoulos revealed to Australian diplomat Alexander Downer that Russian officials were shopping around possible dirt on then-Democratic presidential nominee Hillary Clinton. Exactly how much Mr. Papadopoulos said that night at the Kensington Wine Rooms with the Australian, Alexander Downer, is unclear,  the report states.  But two months later, when leaked Democratic emails began appearing online, Australian officials passed the information about Mr. Papadopoulos to their American counterparts, according to four current and former American and foreign officials with direct knowledge of the Australians  role. Papadopoulos pleaded guilty to lying to the F.B.I. and is now a cooperating witness with Special Counsel Robert Mueller s team.This isn t a presidency. It s a badly scripted reality TV show.Photo by Win McNamee/Getty Images.</td>\n",
              "      <td>News</td>\n",
              "      <td>December 31, 2017</td>\n",
              "      <td>0</td>\n",
              "    </tr>\n",
              "    <tr>\n",
              "      <th>2</th>\n",
              "      <td>Sheriff David Clarke Becomes An Internet Joke For Threatening To Poke People ‘In The Eye’</td>\n",
              "      <td>On Friday, it was revealed that former Milwaukee Sheriff David Clarke, who was being considered for Homeland Security Secretary in Donald Trump s administration, has an email scandal of his own.In January, there was a brief run-in on a plane between Clarke and fellow passenger Dan Black, who he later had detained by the police for no reason whatsoever, except that maybe his feelings were hurt. Clarke messaged the police to stop Black after he deplaned, and now, a search warrant has been executed by the FBI to see the exchanges.Clarke is calling it fake news even though copies of the search warrant are on the Internet. I am UNINTIMIDATED by lib media attempts to smear and discredit me with their FAKE NEWS reports designed to silence me,  the former sheriff tweeted.  I will continue to poke them in the eye with a sharp stick and bitch slap these scum bags til they get it. I have been attacked by better people than them #MAGA I am UNINTIMIDATED by lib media attempts to smear and discredit me with their FAKE NEWS reports designed to silence me. I will continue to poke them in the eye with a sharp stick and bitch slap these scum bags til they get it. I have been attacked by better people than them #MAGA pic.twitter.com/XtZW5PdU2b  David A. Clarke, Jr. (@SheriffClarke) December 30, 2017He didn t stop there.BREAKING NEWS! When LYING LIB MEDIA makes up FAKE NEWS to smear me, the ANTIDOTE is go right at them. Punch them in the nose &amp; MAKE THEM TASTE THEIR OWN BLOOD. Nothing gets a bully like LYING LIB MEDIA S attention better than to give them a taste of their own blood #neverbackdown pic.twitter.com/T2NY2psHCR  David A. Clarke, Jr. (@SheriffClarke) December 30, 2017The internet called him out.This is your local newspaper and that search warrant isn t fake, and just because the chose not to file charges at the time doesn t mean they won t! Especially if you continue to lie. Months after decision not to charge Clarke, email search warrant filed https://t.co/zcbyc4Wp5b  KeithLeBlanc (@KeithLeBlanc63) December 30, 2017I just hope the rest of the Village People aren t implicated.  Kirk Ketchum (@kirkketchum) December 30, 2017Slaw, baked potatoes, or French fries? pic.twitter.com/fWfXsZupxy  ALT- Immigration   (@ALT_uscis) December 30, 2017pic.twitter.com/ymsOBLjfxU  Pendulum Swinger (@PendulumSwngr) December 30, 2017you called your police friends to stand up for you when someone made fun of your hat  Chris Jackson (@ChrisCJackson) December 30, 2017Is it me, with this masterful pshop of your hat, which I seem to never tire of. I think it s the steely resolve in your one visible eye pic.twitter.com/dWr5k8ZEZV  Chris Mohney (@chrismohney) December 30, 2017Are you indicating with your fingers how many people died in your jail? I think you re a few fingers short, dipshit  Ike Barinholtz (@ikebarinholtz) December 30, 2017ROFL. Internet tough guy with fake flair. pic.twitter.com/ulCFddhkdy  KellMeCrazy (@Kel_MoonFace) December 30, 2017You re so edgy, buddy.  Mrs. SMH (@MRSSMH2) December 30, 2017Is his break over at Applebees?  Aaron (@feltrrr2) December 30, 2017Are you trying to earn your  still relevant  badge?  CircusRebel (@CircusDrew) December 30, 2017make sure to hydrate, drink lots of water. It s rumored that prisoners can be denied water by prison officials.  Robert Klinc (@RobertKlinc1) December 30, 2017Terrill Thomas, the 38-year-old black man who died of thirst in Clarke s Milwaukee County Jail cell this April, was a victim of homicide. We just thought we should point that out. It can t be repeated enough.Photo by Spencer Platt/Getty Images.</td>\n",
              "      <td>News</td>\n",
              "      <td>December 30, 2017</td>\n",
              "      <td>0</td>\n",
              "    </tr>\n",
              "    <tr>\n",
              "      <th>3</th>\n",
              "      <td>Trump Is So Obsessed He Even Has Obama’s Name Coded Into His Website (IMAGES)</td>\n",
              "      <td>On Christmas day, Donald Trump announced that he would  be back to work  the following day, but he is golfing for the fourth day in a row. The former reality show star blasted former President Barack Obama for playing golf and now Trump is on track to outpace the number of golf games his predecessor played.Updated my tracker of Trump s appearances at Trump properties.71 rounds of golf including today s. At this pace, he ll pass Obama s first-term total by July 24 next year. https://t.co/Fg7VacxRtJ pic.twitter.com/5gEMcjQTbH  Philip Bump (@pbump) December 29, 2017 That makes what a Washington Post reporter discovered on Trump s website really weird, but everything about this administration is bizarre AF. The coding contained a reference to Obama and golf:  Unlike Obama, we are working to fix the problem   and not on the golf course.  However, the coding wasn t done correctly.The website of Donald Trump, who has spent several days in a row at the golf course, is coded to serve up the following message in the event of an internal server error: https://t.co/zrWpyMXRcz pic.twitter.com/wiQSQNNzw0  Christopher Ingraham (@_cingraham) December 28, 2017That snippet of code appears to be on all https://t.co/dkhw0AlHB4 pages, which the footer says is paid for by the RNC? pic.twitter.com/oaZDT126B3  Christopher Ingraham (@_cingraham) December 28, 2017It s also all over https://t.co/ayBlGmk65Z. As others have noted in this thread, this is weird code and it s not clear it would ever actually display, but who knows.  Christopher Ingraham (@_cingraham) December 28, 2017After the coding was called out, the reference to Obama was deleted.UPDATE: The golf error message has been removed from the Trump and GOP websites. They also fixed the javascript  =  vs  ==  problem. Still not clear when these messages would actually display, since the actual 404 (and presumably 500) page displays a different message pic.twitter.com/Z7dmyQ5smy  Christopher Ingraham (@_cingraham) December 29, 2017That suggests someone at either RNC or the Trump admin is sensitive enough to Trump s golf problem to make this issue go away quickly once people noticed. You have no idea how much I d love to see the email exchange that led us here.  Christopher Ingraham (@_cingraham) December 29, 2017 The code was f-cked up.The best part about this is that they are using the  =  (assignment) operator which means that bit of code will never get run. If you look a few lines up  errorCode  will always be  404          (@tw1trsux) December 28, 2017trump s coders can t code. Nobody is surprised.  Tim Peterson (@timrpeterson) December 28, 2017Donald Trump is obsessed with Obama that his name was even in the coding of his website while he played golf again.Photo by Joe Raedle/Getty Images.</td>\n",
              "      <td>News</td>\n",
              "      <td>December 29, 2017</td>\n",
              "      <td>0</td>\n",
              "    </tr>\n",
              "    <tr>\n",
              "      <th>4</th>\n",
              "      <td>Pope Francis Just Called Out Donald Trump During His Christmas Speech</td>\n",
              "      <td>Pope Francis used his annual Christmas Day message to rebuke Donald Trump without even mentioning his name. The Pope delivered his message just days after members of the United Nations condemned Trump s move to recognize Jerusalem as the capital of Israel. The Pontiff prayed on Monday for the  peaceful coexistence of two states within mutually agreed and internationally recognized borders. We see Jesus in the children of the Middle East who continue to suffer because of growing tensions between Israelis and Palestinians,  Francis said.  On this festive day, let us ask the Lord for peace for Jerusalem and for all the Holy Land. Let us pray that the will to resume dialogue may prevail between the parties and that a negotiated solution can finally be reached. The Pope went on to plead for acceptance of refugees who have been forced from their homes, and that is an issue Trump continues to fight against. Francis used Jesus for which there was  no place in the inn  as an analogy. Today, as the winds of war are blowing in our world and an outdated model of development continues to produce human, societal and environmental decline, Christmas invites us to focus on the sign of the Child and to recognize him in the faces of little children, especially those for whom, like Jesus,  there is no place in the inn,  he said. Jesus knows well the pain of not being welcomed and how hard it is not to have a place to lay one s head,  he added.  May our hearts not be closed as they were in the homes of Bethlehem. The Pope said that Mary and Joseph were immigrants who struggled to find a safe place to stay in Bethlehem. They had to leave their people, their home, and their land,  Francis said.  This was no comfortable or easy journey for a young couple about to have a child.   At heart, they were full of hope and expectation because of the child about to be born; yet their steps were weighed down by the uncertainties and dangers that attend those who have to leave their home behind. So many other footsteps are hidden in the footsteps of Joseph and Mary,  Francis said Sunday. We see the tracks of entire families forced to set out in our own day. We see the tracks of millions of persons who do not choose to go away, but driven from their land, leave behind their dear ones. Amen to that.Photo by Christopher Furlong/Getty Images.</td>\n",
              "      <td>News</td>\n",
              "      <td>December 25, 2017</td>\n",
              "      <td>0</td>\n",
              "    </tr>\n",
              "  </tbody>\n",
              "</table>\n",
              "</div>"
            ],
            "text/plain": [
              "                                                                                       title  ... Label\n",
              "0             Donald Trump Sends Out Embarrassing New Year’s Eve Message; This is Disturbing  ...     0\n",
              "1                       Drunk Bragging Trump Staffer Started Russian Collusion Investigation  ...     0\n",
              "2  Sheriff David Clarke Becomes An Internet Joke For Threatening To Poke People ‘In The Eye’  ...     0\n",
              "3              Trump Is So Obsessed He Even Has Obama’s Name Coded Into His Website (IMAGES)  ...     0\n",
              "4                      Pope Francis Just Called Out Donald Trump During His Christmas Speech  ...     0\n",
              "\n",
              "[5 rows x 5 columns]"
            ]
          },
          "metadata": {
            "tags": []
          },
          "execution_count": 384
        }
      ]
    },
    {
      "cell_type": "code",
      "metadata": {
        "id": "DVWg8RJ8E7n6"
      },
      "source": [
        "dataset = pd.concat([real, fake]).reset_index(drop=True)"
      ],
      "execution_count": 385,
      "outputs": []
    },
    {
      "cell_type": "code",
      "metadata": {
        "id": "dc5PE1wnFA46",
        "colab": {
          "base_uri": "https://localhost:8080/",
          "height": 0
        },
        "outputId": "3213244a-3f8d-47a5-d1c6-5a9b9dbee3da"
      },
      "source": [
        "print(dataset.shape)\n",
        "dataset.head()"
      ],
      "execution_count": 386,
      "outputs": [
        {
          "output_type": "stream",
          "text": [
            "(44898, 5)\n"
          ],
          "name": "stdout"
        },
        {
          "output_type": "execute_result",
          "data": {
            "text/html": [
              "<div>\n",
              "<style scoped>\n",
              "    .dataframe tbody tr th:only-of-type {\n",
              "        vertical-align: middle;\n",
              "    }\n",
              "\n",
              "    .dataframe tbody tr th {\n",
              "        vertical-align: top;\n",
              "    }\n",
              "\n",
              "    .dataframe thead th {\n",
              "        text-align: right;\n",
              "    }\n",
              "</style>\n",
              "<table border=\"1\" class=\"dataframe\">\n",
              "  <thead>\n",
              "    <tr style=\"text-align: right;\">\n",
              "      <th></th>\n",
              "      <th>title</th>\n",
              "      <th>text</th>\n",
              "      <th>subject</th>\n",
              "      <th>date</th>\n",
              "      <th>Label</th>\n",
              "    </tr>\n",
              "  </thead>\n",
              "  <tbody>\n",
              "    <tr>\n",
              "      <th>0</th>\n",
              "      <td>As U.S. budget fight looms, Republicans flip their fiscal script</td>\n",
              "      <td>WASHINGTON (Reuters) - The head of a conservative Republican faction in the U.S. Congress, who voted this month for a huge expansion of the national debt to pay for tax cuts, called himself a “fiscal conservative” on Sunday and urged budget restraint in 2018. In keeping with a sharp pivot under way among Republicans, U.S. Representative Mark Meadows, speaking on CBS’ “Face the Nation,” drew a hard line on federal spending, which lawmakers are bracing to do battle over in January. When they return from the holidays on Wednesday, lawmakers will begin trying to pass a federal budget in a fight likely to be linked to other issues, such as immigration policy, even as the November congressional election campaigns approach in which Republicans will seek to keep control of Congress. President Donald Trump and his Republicans want a big budget increase in military spending, while Democrats also want proportional increases for non-defense “discretionary” spending on programs that support education, scientific research, infrastructure, public health and environmental protection. “The (Trump) administration has already been willing to say: ‘We’re going to increase non-defense discretionary spending ... by about 7 percent,’” Meadows, chairman of the small but influential House Freedom Caucus, said on the program. “Now, Democrats are saying that’s not enough, we need to give the government a pay raise of 10 to 11 percent. For a fiscal conservative, I don’t see where the rationale is. ... Eventually you run out of other people’s money,” he said. Meadows was among Republicans who voted in late December for their party’s debt-financed tax overhaul, which is expected to balloon the federal budget deficit and add about $1.5 trillion over 10 years to the $20 trillion national debt. “It’s interesting to hear Mark talk about fiscal responsibility,” Democratic U.S. Representative Joseph Crowley said on CBS. Crowley said the Republican tax bill would require the  United States to borrow $1.5 trillion, to be paid off by future generations, to finance tax cuts for corporations and the rich. “This is one of the least ... fiscally responsible bills we’ve ever seen passed in the history of the House of Representatives. I think we’re going to be paying for this for many, many years to come,” Crowley said. Republicans insist the tax package, the biggest U.S. tax overhaul in more than 30 years,  will boost the economy and job growth. House Speaker Paul Ryan, who also supported the tax bill, recently went further than Meadows, making clear in a radio interview that welfare or “entitlement reform,” as the party often calls it, would be a top Republican priority in 2018. In Republican parlance, “entitlement” programs mean food stamps, housing assistance, Medicare and Medicaid health insurance for the elderly, poor and disabled, as well as other programs created by Washington to assist the needy. Democrats seized on Ryan’s early December remarks, saying they showed Republicans would try to pay for their tax overhaul by seeking spending cuts for social programs. But the goals of House Republicans may have to take a back seat to the Senate, where the votes of some Democrats will be needed to approve a budget and prevent a government shutdown. Democrats will use their leverage in the Senate, which Republicans narrowly control, to defend both discretionary non-defense programs and social spending, while tackling the issue of the “Dreamers,” people brought illegally to the country as children. Trump in September put a March 2018 expiration date on the Deferred Action for Childhood Arrivals, or DACA, program, which protects the young immigrants from deportation and provides them with work permits. The president has said in recent Twitter messages he wants funding for his proposed Mexican border wall and other immigration law changes in exchange for agreeing to help the Dreamers. Representative Debbie Dingell told CBS she did not favor linking that issue to other policy objectives, such as wall funding. “We need to do DACA clean,” she said.  On Wednesday, Trump aides will meet with congressional leaders to discuss those issues. That will be followed by a weekend of strategy sessions for Trump and Republican leaders on Jan. 6 and 7, the White House said. Trump was also scheduled to meet on Sunday with Florida Republican Governor Rick Scott, who wants more emergency aid. The House has passed an $81 billion aid package after hurricanes in Florida, Texas and Puerto Rico, and wildfires in California. The package far exceeded the $44 billion requested by the Trump administration. The Senate has not yet voted on the aid.</td>\n",
              "      <td>politicsNews</td>\n",
              "      <td>December 31, 2017</td>\n",
              "      <td>1</td>\n",
              "    </tr>\n",
              "    <tr>\n",
              "      <th>1</th>\n",
              "      <td>U.S. military to accept transgender recruits on Monday: Pentagon</td>\n",
              "      <td>WASHINGTON (Reuters) - Transgender people will be allowed for the first time to enlist in the U.S. military starting on Monday as ordered by federal courts, the Pentagon said on Friday, after President Donald Trump’s administration decided not to appeal rulings that blocked his transgender ban. Two federal appeals courts, one in Washington and one in Virginia, last week rejected the administration’s request to put on hold orders by lower court judges requiring the military to begin accepting transgender recruits on Jan. 1. A Justice Department official said the administration will not challenge those rulings. “The Department of Defense has announced that it will be releasing an independent study of these issues in the coming weeks. So rather than litigate this interim appeal before that occurs, the administration has decided to wait for DOD’s study and will continue to defend the president’s lawful authority in District Court in the meantime,” the official said, speaking on condition of anonymity. In September, the Pentagon said it had created a panel of senior officials to study how to implement a directive by Trump to prohibit transgender individuals from serving. The Defense Department has until Feb. 21 to submit a plan to Trump. Lawyers representing currently-serving transgender service members and aspiring recruits said they had expected the administration to appeal the rulings to the conservative-majority Supreme Court, but were hoping that would not happen. Pentagon spokeswoman Heather Babb said in a statement: “As mandated by court order, the Department of Defense is prepared to begin accessing transgender applicants for military service Jan. 1. All applicants must meet all accession standards.” Jennifer Levi, a lawyer with gay, lesbian and transgender advocacy group GLAD, called the decision not to appeal “great news.” “I’m hoping it means the government has come to see that there is no way to justify a ban and that it’s not good for the military or our country,” Levi said. Both GLAD and the American Civil Liberties Union represent plaintiffs in the lawsuits filed against the administration. In a move that appealed to his hard-line conservative supporters, Trump announced in July that he would prohibit transgender people from serving in the military, reversing Democratic President Barack Obama’s policy of accepting them. Trump said on Twitter at the time that the military “cannot be burdened with the tremendous medical costs and disruption that transgender in the military would entail.” Four federal judges - in Baltimore, Washington, D.C., Seattle and Riverside, California - have issued rulings blocking Trump’s ban while legal challenges to the Republican president’s policy proceed. The judges said the ban would likely violate the right under the U.S. Constitution to equal protection under the law. The Pentagon on Dec. 8 issued guidelines to recruitment personnel in order to enlist transgender applicants by Jan. 1. The memo outlined medical requirements and specified how the applicants’ sex would be identified and even which undergarments they would wear. The Trump administration previously said in legal papers that the armed forces were not prepared to train thousands of personnel on the medical standards needed to process transgender applicants and might have to accept “some individuals who are not medically fit for service.” The Obama administration had set a deadline of July 1, 2017, to begin accepting transgender recruits. But Trump’s defense secretary, James Mattis, postponed that date to Jan. 1, 2018, which the president’s ban then put off indefinitely. Trump has taken other steps aimed at rolling back transgender rights. In October, his administration said a federal law banning gender-based workplace discrimination does not protect transgender employees, reversing another Obama-era position. In February, Trump rescinded guidance issued by the Obama administration saying that public schools should allow transgender students to use the restroom that corresponds to their gender identity.</td>\n",
              "      <td>politicsNews</td>\n",
              "      <td>December 29, 2017</td>\n",
              "      <td>1</td>\n",
              "    </tr>\n",
              "    <tr>\n",
              "      <th>2</th>\n",
              "      <td>Senior U.S. Republican senator: 'Let Mr. Mueller do his job'</td>\n",
              "      <td>WASHINGTON (Reuters) - The special counsel investigation of links between Russia and President Trump’s 2016 election campaign should continue without interference in 2018, despite calls from some Trump administration allies and Republican lawmakers to shut it down, a prominent Republican senator said on Sunday. Lindsey Graham, who serves on the Senate armed forces and judiciary committees, said Department of Justice Special Counsel Robert Mueller needs to carry on with his Russia investigation without political interference. “This investigation will go forward. It will be an investigation conducted without political influence,” Graham said on CBS’s Face the Nation news program. “And we all need to let Mr. Mueller do his job. I think he’s the right guy at the right time.”  The question of how Russia may have interfered in the election, and how Trump’s campaign may have had links with or co-ordinated any such effort, has loomed over the White House since Trump took office in January. It shows no sign of receding as Trump prepares for his second year in power, despite intensified rhetoric from some Trump allies in recent weeks accusing Mueller’s team of bias against the Republican president. Trump himself seemed to undercut his supporters in an interview last week with the New York Times in which he said he expected Mueller was “going to be fair.”    Russia’s role in the election and the question of possible links to the Trump campaign are the focus of multiple inquiries in Washington. Three committees of the Senate and the House of Representatives are investigating, as well as Mueller, whose team in May took over an earlier probe launched by the U.S. Federal Bureau of Investigation (FBI). Several members of the Trump campaign and administration have been convicted or indicted in the investigation.  Trump and his allies deny any collusion with Russia during the campaign, and the Kremlin has denied meddling in the election. Graham said he still wants an examination of the FBI’s use of a dossier on links between Trump and Russia that was compiled by a former British spy, Christopher Steele, which prompted Trump allies and some Republicans to question Mueller’s inquiry.   On Saturday, the New York Times reported that it was not that dossier that triggered an early FBI probe, but a tip from former Trump campaign foreign policy adviser George Papadopoulos to an Australian diplomat that Russia had damaging information about former Trump rival Hillary Clinton.  “I want somebody to look at the way the Department of Justice used this dossier. It bothers me greatly the way they used it, and I want somebody to look at it,” Graham said. But he said the Russia investigation must continue. “As a matter of fact, it would hurt us if we ignored it,” he said.</td>\n",
              "      <td>politicsNews</td>\n",
              "      <td>December 31, 2017</td>\n",
              "      <td>1</td>\n",
              "    </tr>\n",
              "    <tr>\n",
              "      <th>3</th>\n",
              "      <td>FBI Russia probe helped by Australian diplomat tip-off: NYT</td>\n",
              "      <td>WASHINGTON (Reuters) - Trump campaign adviser George Papadopoulos told an Australian diplomat in May 2016 that Russia had political dirt on Democratic presidential candidate Hillary Clinton, the New York Times reported on Saturday. The conversation between Papadopoulos and the diplomat, Alexander Downer, in London was a driving factor behind the FBI’s decision to open a counter-intelligence investigation of Moscow’s contacts with the Trump campaign, the Times reported. Two months after the meeting, Australian officials passed the information that came from Papadopoulos to their American counterparts when leaked Democratic emails began appearing online, according to the newspaper, which cited four current and former U.S. and foreign officials. Besides the information from the Australians, the probe by the Federal Bureau of Investigation was also propelled by intelligence from other friendly governments, including the British and Dutch, the Times said. Papadopoulos, a Chicago-based international energy lawyer, pleaded guilty on Oct. 30 to lying to FBI agents about contacts with people who claimed to have ties to top Russian officials. It was the first criminal charge alleging links between the Trump campaign and Russia. The White House has played down the former aide’s campaign role, saying it was “extremely limited” and that any actions he took would have been on his own. The New York Times, however, reported that Papadopoulos helped set up a meeting between then-candidate Donald Trump and Egyptian President Abdel Fattah al-Sisi and edited the outline of Trump’s first major foreign policy speech in April 2016. The federal investigation, which is now being led by Special Counsel Robert Mueller, has hung over Trump’s White House since he took office almost a year ago. Some Trump allies have recently accused Mueller’s team of being biased against the Republican president. Lawyers for Papadopoulos did not immediately respond to requests by Reuters for comment. Mueller’s office declined to comment. Trump’s White House attorney, Ty Cobb, declined to comment on the New York Times report. “Out of respect for the special counsel and his process, we are not commenting on matters such as this,” he said in a statement. Mueller has charged four Trump associates, including Papadopoulos, in his investigation. Russia has denied interfering in the U.S. election and Trump has said there was no collusion between his campaign and Moscow.</td>\n",
              "      <td>politicsNews</td>\n",
              "      <td>December 30, 2017</td>\n",
              "      <td>1</td>\n",
              "    </tr>\n",
              "    <tr>\n",
              "      <th>4</th>\n",
              "      <td>Trump wants Postal Service to charge 'much more' for Amazon shipments</td>\n",
              "      <td>SEATTLE/WASHINGTON (Reuters) - President Donald Trump called on the U.S. Postal Service on Friday to charge “much more” to ship packages for Amazon (AMZN.O), picking another fight with an online retail giant he has criticized in the past.     “Why is the United States Post Office, which is losing many billions of dollars a year, while charging Amazon and others so little to deliver their packages, making Amazon richer and the Post Office dumber and poorer? Should be charging MUCH MORE!” Trump wrote on Twitter.  The president’s tweet drew fresh attention to the fragile finances of the Postal Service at a time when tens of millions of parcels have just been shipped all over the country for the holiday season.  The U.S. Postal Service, which runs at a big loss, is an independent agency within the federal government and does not receive tax dollars for operating expenses, according to its website.  Package delivery has become an increasingly important part of its business as the Internet has led to a sharp decline in the amount of first-class letters. The president does not determine postal rates. They are set by the Postal Regulatory Commission, an independent government agency with commissioners selected by the president from both political parties. That panel raised prices on packages by almost 2 percent in November.  Amazon was founded by Jeff Bezos, who remains the chief executive officer of the retail company and is the richest person in the world, according to Bloomberg News. Bezos also owns The Washington Post, a newspaper Trump has repeatedly railed against in his criticisms of the news media. In tweets over the past year, Trump has said the “Amazon Washington Post” fabricated stories. He has said Amazon does not pay sales tax, which is not true, and so hurts other retailers, part of a pattern by the former businessman and reality television host of periodically turning his ire on big American companies since he took office in January. Daniel Ives, a research analyst at GBH Insights, said Trump’s comment could be taken as a warning to the retail giant. However, he said he was not concerned for Amazon. “We do not see any price hikes in the future. However, that is a risk that Amazon is clearly aware of and (it) is building out its distribution (system) aggressively,” he said. Amazon has shown interest in the past in shifting into its own delivery service, including testing drones for deliveries. In 2015, the company spent $11.5 billion on shipping, 46 percent of its total operating expenses that year.  Amazon shares were down 0.86 percent to $1,175.90 by early afternoon. Overall, U.S. stock prices were down slightly on Friday.  Satish Jindel, president of ShipMatrix Inc, which analyzes shipping data, disputed the idea that the Postal Service charges less than United Parcel Service Inc (UPS.N) and FedEx Corp (FDX.N), the other biggest players in the parcel delivery business in the United States. Many customers get lower rates from UPS and FedEx than they would get from the post office for comparable services, he said. The Postal Service delivers about 62 percent of Amazon packages, for about 3.5 to 4 million a day during the current peak year-end holiday shipping season, Jindel said. The Seattle-based company and the post office have an agreement in which mail carriers take Amazon packages on the last leg of their journeys, from post offices to customers’ doorsteps. Amazon’s No. 2 carrier is UPS, at 21 percent, and FedEx is third, with 8 percent or so, according to Jindel. Trump’s comment tapped into a debate over whether Postal Service pricing has kept pace with the rise of e-commerce, which has flooded the mail with small packages.Private companies like UPS have long claimed the current system unfairly undercuts their business. Steve Gaut, a spokesman for UPS, noted that the company values its “productive relationship” with the postal service, but that it has filed with the Postal Regulatory Commission its concerns about the postal service’s methods for covering costs. Representatives for Amazon, the White House, the U.S. Postal Service and FedEx declined comment or were not immediately available for comment on Trump’s tweet. According to its annual report, the Postal Service lost $2.74 billion this year, and its deficit has ballooned to $61.86 billion.  While the Postal Service’s revenue for first class mail, marketing mail and periodicals is flat or declining, revenue from package delivery is up 44 percent since 2014 to $19.5 billion in the fiscal year ended Sept. 30, 2017. But it also lost about $2 billion in revenue when a temporary surcharge expired in April 2016. According to a Government Accountability Office report in February, the service is facing growing personnel expenses, particularly $73.4 billion in unfunded pension and benefits liabilities. The Postal Service has not announced any plans to cut costs. By law, the Postal Service has to set prices for package delivery to cover the costs attributable to that service. But the postal service allocates only 5.5 percent of its total costs to its business of shipping packages even though that line of business is 28 percent of its total revenue.</td>\n",
              "      <td>politicsNews</td>\n",
              "      <td>December 29, 2017</td>\n",
              "      <td>1</td>\n",
              "    </tr>\n",
              "  </tbody>\n",
              "</table>\n",
              "</div>"
            ],
            "text/plain": [
              "                                                                   title  ... Label\n",
              "0       As U.S. budget fight looms, Republicans flip their fiscal script  ...     1\n",
              "1       U.S. military to accept transgender recruits on Monday: Pentagon  ...     1\n",
              "2           Senior U.S. Republican senator: 'Let Mr. Mueller do his job'  ...     1\n",
              "3            FBI Russia probe helped by Australian diplomat tip-off: NYT  ...     1\n",
              "4  Trump wants Postal Service to charge 'much more' for Amazon shipments  ...     1\n",
              "\n",
              "[5 rows x 5 columns]"
            ]
          },
          "metadata": {
            "tags": []
          },
          "execution_count": 386
        }
      ]
    },
    {
      "cell_type": "code",
      "metadata": {
        "id": "pfnrCGwrGg_Y",
        "colab": {
          "base_uri": "https://localhost:8080/"
        },
        "outputId": "3fd0b75c-0045-4d4e-94e3-9ff190dc66ba"
      },
      "source": [
        "#Missing Value Analysis\n",
        "dataset.isnull().sum()"
      ],
      "execution_count": 387,
      "outputs": [
        {
          "output_type": "execute_result",
          "data": {
            "text/plain": [
              "title      0\n",
              "text       0\n",
              "subject    0\n",
              "date       0\n",
              "Label      0\n",
              "dtype: int64"
            ]
          },
          "metadata": {
            "tags": []
          },
          "execution_count": 387
        }
      ]
    },
    {
      "cell_type": "code",
      "metadata": {
        "id": "QRASXi-rHxMc",
        "colab": {
          "base_uri": "https://localhost:8080/"
        },
        "outputId": "3903147c-e8f6-4c6a-b00c-f3054a56abf4"
      },
      "source": [
        "dataset['Label'].value_counts()"
      ],
      "execution_count": 388,
      "outputs": [
        {
          "output_type": "execute_result",
          "data": {
            "text/plain": [
              "0    23481\n",
              "1    21417\n",
              "Name: Label, dtype: int64"
            ]
          },
          "metadata": {
            "tags": []
          },
          "execution_count": 388
        }
      ]
    },
    {
      "cell_type": "markdown",
      "metadata": {
        "id": "ba8X8nyyfBwe"
      },
      "source": [
        "## 2.2 Plot a bar graph of class distribution in a dataset."
      ]
    },
    {
      "cell_type": "code",
      "metadata": {
        "id": "_DikyoEtIpcy",
        "colab": {
          "base_uri": "https://localhost:8080/",
          "height": 0
        },
        "outputId": "c5685fc1-923d-41e7-fe99-acc5347b3fb7"
      },
      "source": [
        "plt.figure(figsize=(10,5))\n",
        "sns.countplot(x= \"subject\", hue = \"Label\", data=dataset)"
      ],
      "execution_count": 389,
      "outputs": [
        {
          "output_type": "execute_result",
          "data": {
            "text/plain": [
              "<matplotlib.axes._subplots.AxesSubplot at 0x7feb2aa6c210>"
            ]
          },
          "metadata": {
            "tags": []
          },
          "execution_count": 389
        },
        {
          "output_type": "display_data",
          "data": {
            "image/png": "[encoded data removed]",
            "text/plain": [
              "<Figure size 720x360 with 1 Axes>"
            ]
          },
          "metadata": {
            "tags": [],
            "needs_background": "light"
          }
        }
      ]
    },
    {
      "cell_type": "code",
      "metadata": {
        "id": "7DvNH1IdjYcO",
        "colab": {
          "base_uri": "https://localhost:8080/",
          "height": 0
        },
        "outputId": "e6121054-c9a6-47fd-90f3-db45b812e56d"
      },
      "source": [
        "# How many fake and real articles?\n",
        "print(dataset.groupby(['Label'])['text'].count())\n",
        "dataset.groupby(['Label'])['text'].count().plot(kind=\"bar\")\n",
        "plt.show()"
      ],
      "execution_count": 390,
      "outputs": [
        {
          "output_type": "stream",
          "text": [
            "Label\n",
            "0    23481\n",
            "1    21417\n",
            "Name: text, dtype: int64\n"
          ],
          "name": "stdout"
        },
        {
          "output_type": "display_data",
          "data": {
            "image/png": "[encoded data removed]",
            "text/plain": [
              "<Figure size 432x288 with 1 Axes>"
            ]
          },
          "metadata": {
            "tags": [],
            "needs_background": "light"
          }
        }
      ]
    },
    {
      "cell_type": "code",
      "metadata": {
        "id": "UbSJScnVgLTT",
        "colab": {
          "base_uri": "https://localhost:8080/"
        },
        "outputId": "91b04251-3084-44c2-a5b8-5ed3935e3597"
      },
      "source": [
        "print(\"Version: \", tf.__version__)\n",
        "print(\"Eager mode: \", tf.executing_eagerly())\n",
        "print(\"Hub version: \", hub.__version__)\n",
        "print(\"GPU is\", \"available\" if tf.config.list_physical_devices(\"GPU\") else \"NOT AVAILABLE\")"
      ],
      "execution_count": 391,
      "outputs": [
        {
          "output_type": "stream",
          "text": [
            "Version:  2.5.0\n",
            "Eager mode:  True\n",
            "Hub version:  0.12.0\n",
            "GPU is available\n"
          ],
          "name": "stdout"
        }
      ]
    },
    {
      "cell_type": "markdown",
      "metadata": {
        "id": "eTXASpq5kj2H"
      },
      "source": [
        "## 2.3 Print the shapes of train and test data."
      ]
    },
    {
      "cell_type": "code",
      "metadata": {
        "id": "6O4DHCY1bH6M"
      },
      "source": [
        "# Split the data\n",
        "from sklearn.model_selection import train_test_split\n",
        "X_train,X_test,y_train,y_test = train_test_split(dataset['text'], dataset.Label, test_size=0.2, random_state=42)"
      ],
      "execution_count": 392,
      "outputs": []
    },
    {
      "cell_type": "code",
      "metadata": {
        "id": "TDhS5lFwnP_-",
        "colab": {
          "base_uri": "https://localhost:8080/"
        },
        "outputId": "c39ecf47-887d-4c01-a0a2-aec89c4b7f30"
      },
      "source": [
        "X_train.shape"
      ],
      "execution_count": 393,
      "outputs": [
        {
          "output_type": "execute_result",
          "data": {
            "text/plain": [
              "(35918,)"
            ]
          },
          "metadata": {
            "tags": []
          },
          "execution_count": 393
        }
      ]
    },
    {
      "cell_type": "code",
      "metadata": {
        "id": "HLFsoWW5kvMQ",
        "colab": {
          "base_uri": "https://localhost:8080/"
        },
        "outputId": "b9cd2847-e551-49a8-aa27-4da5c104e01c"
      },
      "source": [
        "X_test.shape"
      ],
      "execution_count": 394,
      "outputs": [
        {
          "output_type": "execute_result",
          "data": {
            "text/plain": [
              "(8980,)"
            ]
          },
          "metadata": {
            "tags": []
          },
          "execution_count": 394
        }
      ]
    },
    {
      "cell_type": "code",
      "metadata": {
        "id": "NlMo4sBQnZyZ",
        "colab": {
          "base_uri": "https://localhost:8080/"
        },
        "outputId": "2a26c045-4229-4c33-ac24-f25e0d1c5407"
      },
      "source": [
        "y_train.shape"
      ],
      "execution_count": 395,
      "outputs": [
        {
          "output_type": "execute_result",
          "data": {
            "text/plain": [
              "(35918,)"
            ]
          },
          "metadata": {
            "tags": []
          },
          "execution_count": 395
        }
      ]
    },
    {
      "cell_type": "code",
      "metadata": {
        "id": "lTXDk99kneg-",
        "colab": {
          "base_uri": "https://localhost:8080/"
        },
        "outputId": "6ffb591c-bab8-487e-892b-79a25ead116d"
      },
      "source": [
        "y_test.shape"
      ],
      "execution_count": 396,
      "outputs": [
        {
          "output_type": "execute_result",
          "data": {
            "text/plain": [
              "(8980,)"
            ]
          },
          "metadata": {
            "tags": []
          },
          "execution_count": 396
        }
      ]
    },
    {
      "cell_type": "markdown",
      "metadata": {
        "id": "NCaUsYIHnqG-"
      },
      "source": [
        "# 3. Data Pre-Processing"
      ]
    },
    {
      "cell_type": "code",
      "metadata": {
        "id": "QmCCkTmFginJ",
        "colab": {
          "base_uri": "https://localhost:8080/"
        },
        "outputId": "069e9703-5f11-45ea-fb2a-fa857ab192c9"
      },
      "source": [
        "embedding = \"https://tfhub.dev/google/nnlm-en-dim50/2\"\n",
        "hub_layer = hub.KerasLayer(embedding, input_shape=[], \n",
        "                           dtype=tf.string, trainable=True)\n",
        "hub_layer(X_train[:2])"
      ],
      "execution_count": 397,
      "outputs": [
        {
          "output_type": "execute_result",
          "data": {
            "text/plain": [
              "<tf.Tensor: shape=(2, 50), dtype=float32, numpy=\n",
              "array([[ 0.6762637 ,  0.36566633,  0.15799001,  0.7455838 ,  0.10752916,\n",
              "         0.02726057,  0.19175585, -0.53263694,  0.02645369, -0.34257412,\n",
              "         0.18990925, -0.5863261 , -0.08813672, -0.05235053,  0.41364285,\n",
              "        -0.10950428, -0.02759743,  0.23644386,  0.18427625, -0.26734704,\n",
              "        -0.0806255 , -0.05824664,  0.35589135,  0.1614714 , -0.03937   ,\n",
              "         0.88691413, -0.8938478 , -0.01000619,  0.38181284, -0.39137727,\n",
              "        -0.89207304,  0.3863561 ,  0.30663025,  0.14063565, -0.75426054,\n",
              "         0.5474254 ,  0.5392539 ,  0.3541016 ,  0.36251965, -0.22261517,\n",
              "        -0.21186964,  0.10848372, -0.3798515 ,  0.50062865, -0.5748089 ,\n",
              "        -0.21696912, -0.09802147, -0.4701827 , -0.61109304, -0.33805057],\n",
              "       [ 0.4502573 ,  0.33862573,  0.07409427,  0.17752995, -0.31967235,\n",
              "         0.19493477, -0.24074934, -0.00411644,  0.42225355, -0.01860114,\n",
              "        -0.3425406 ,  0.25350344,  0.32082883, -0.4217546 ,  0.36043105,\n",
              "        -0.3202399 , -0.43891314,  0.07973756, -0.06610662,  0.2506118 ,\n",
              "        -0.02943121, -0.08089502, -0.04124749,  0.10312683,  0.12002617,\n",
              "         0.90424854, -0.44947356,  0.03746608, -0.44608608, -0.45637247,\n",
              "        -0.06860087,  0.16046505,  0.5186685 , -0.4075738 , -0.10656571,\n",
              "        -0.08711464, -0.16989958, -0.35935503, -0.02085964, -0.52222544,\n",
              "        -0.35914943,  0.21091588,  0.23308991,  0.39303827,  0.20199388,\n",
              "        -0.5809244 ,  0.01838576,  0.03564949, -0.2484422 , -0.21792324]],\n",
              "      dtype=float32)>"
            ]
          },
          "metadata": {
            "tags": []
          },
          "execution_count": 397
        }
      ]
    },
    {
      "cell_type": "code",
      "metadata": {
        "id": "Eq9DBYoqp3Ti",
        "colab": {
          "base_uri": "https://localhost:8080/"
        },
        "outputId": "651479c3-d9cc-4be7-8a80-82c6f23d9518"
      },
      "source": [
        "X_train.head()"
      ],
      "execution_count": 398,
      "outputs": [
        {
          "output_type": "execute_result",
          "data": {
            "text/plain": [
              "36335                                                                                                                                                                                                                                                                                                                                                                                                                                                                                                                                                                                                                                                                                                                                                                                                                                                                                                                                                                                                                                                                                                                                                                                                                                                                                                                                                                                                                                                                                                                                                                                                                                                                                                                                                                                                                                                                                                                                                            This story is from 2006 and is the first in a long series of Hillary s lies that we ll be exposing over the next couple of months For more than a decade, one piece of Senator Hillary Rodham Clinton s informal biography has been that she was named for Sir Edmund Hillary, the conqueror of Mount Everest. The story was even recounted in Bill Clinton s autobiography.But yesterday, Mrs. Clinton s campaign said she was not named for Sir Edmund after all. It was a sweet family story her mother shared to inspire greatness in her daughter, to great results I might add,  said Jennifer Hanley, a spokeswoman for the campaign.In May 1953, Sir Edmund and his Sherpa guide, Tenzing Norgay, became the first men to reach the summit of Mount Everest. In 1995, shortly after meeting Sir Edmund, Mrs. Clinton said that her mother, Dorothy Rodham, had long told her she was named for the famous mountaineer.  It had two l s, which is how she thought she was supposed to spell Hillary,  Mrs. Clinton said at the time, after meeting Sir Edmund.  So when I was born, she called me Hillary, and she always told me it s because of Sir Edmund Hillary. Even though Bill Clinton repeated the story in his 2004 autobiography,  My Life,  Hillary Clinton did not mention it in her own autobiography,  Living History,  which was published in 2003.But one big hole has been poked in the story over the years, both in cyberspace and elsewhere: Sir Edmund became famous only after climbing Everest in 1953. Mrs. Clinton, as it happens, was born in 1947. Via: NYT\n",
              "12384                                                                                                                                                                                                                                                                                                                                                                                                                                                                                                                                                                                                                                                                                                                                                                                                                                                                                                                                                                                                                                                                                                                                                                                                                                                                                                                                                                                                                                                                                                                                                                                                                                                                                                                                                                                                                                                                                                                                                                                                                                                                                                                                                                                                                                                                                                                                                                                                                                                                                                                                                                                                                                                                                                                                                                                                                                                                                                                                                                             PARIS (Reuters) - The leaders of the European Union s remaining 27 member states are very likely to approve this week the deal struck by their chief negotiator with Britain and move to a second phase of exit talks, a French presidency source said on Wednesday. EU leaders are almost certain to judge on Friday that  sufficient progress  has been made on the rights of citizens, the Brexit divorce bill and the Irish border to allow negotiations to move to the next phase. The EU executive recommended last week that leaders approve the start of trade talks.\n",
              "24419                                                                                                                                                                                                                                                                                                                                                                                                                                                                                                                                                                                                                                                                                                                                                                                                                                                                                                                                                                                                                                                                                                                                                                                                                                                                                                                                                                                                            Star Wars icon Mark Hamill previously mocked Donald Trump by reading one of the president-elect s mean-girl girl tweets using the voice of The Joker. And now he s back to poke Trump in the eye by mocking the president-elect s attack on actress Meryl Streep.Most people know of Mark Hamill as Luke Skywalker in Star Wars but he s also a very talented voice-over actor. His voice as The Joker is amazing and using his skills to mock Trump is an effective tool. His newest jab at Trump has gone viral on Twitter and it s about the best thing you ll hear all day. Am I the ONLY one man enough to confront this #OverratedFlunkyLoser without resorting to an ad hominem assault?  Hamill tweeted along with the recording.Am I the ONLY one man enough to confront this #OverratedFlunkyLoser without resorting to an ad hominem assault? https://t.co/ac2j2KGryn pic.twitter.com/iH1XnPgOzm  Mark Hamill (@HamillHimself) January 14, 2017Last week, Trump tweeted,  Meryl Streep, one of the most over-rated actresses in Hollywood, doesn t know me but attacked last night at the Golden Globes. She is a .. Hillary flunky who lost big. For the 100th time, I never  mocked  a disabled reporter (would never do that) but simply showed him .,  he continued.He added,  groveling  when he totally changed a 16 year old story that he had written in order to make me look bad. Just more very dishonest media!The incoming president lashes out at people who hurt his feelings. People like Meryl Streep, for example. He s about to hold the highest seat in the land, yet he shows no restraint on Twitter where he has nearly 20 million followers, some of which probably follow him just to see what outrageous thing he will tweet out next. He tweets about nukes, he manipulates the stock market by attacking brands, showing that he s already abusing the power of the presidency even before he takes the oath of office. When he takes over the @POTUS account, we suggest you report his tweets for impersonating a president. Impersonation accounts are against Twitter s terms of use.Photo via Wiki\n",
              "24740    The whiner-in-chief struck again with yet another early morning Twitter tantrum.Donald Trump can t handle the fact that he lost the popular vote, especially to a woman.Hillary Clinton s margin of victory in nearly 3 million votes, but Trump stole the election with the help of Russian hackers. Even his electoral vote win is one of the smallest in the last 100 years.But even after the Electoral College wrongly certified him to be president, Trump is STILL complaining about losing the popular vote and is making excuses to explain the loss rather than moving on and focusing on the huge job he s about to take over in January.Campaigning to win the Electoral College is much more difficult & sophisticated than the popular vote. Hillary focused on the wrong states!  Donald J. Trump (@realDonaldTrump) December 21, 2016I would have done even better in the election, if that is possible, if the winner was based on popular vote   but would campaign differently  Donald J. Trump (@realDonaldTrump) December 21, 2016Trump is even bitching about not being praised by the media for not spending as much money to win. Of course, why spend money on advertising when you can promise favors for Putin in exchange for help spreading propaganda on the Internet?I have not heard any of the pundits or commentators discussing the fact that I spent FAR LESS MONEY on the win than Hillary on the loss!  Donald J. Trump (@realDonaldTrump) December 21, 2016Apparently, we re going to be hearing Trump whine about the popular vote for the next four years because his ego can t handle losing.And Twitter users were quick to put Trump in his place.@realDonaldTrump remember when you said the electoral college was bad  Ken Klippenstein (@kenklippenstein) December 21, 2016@realDonaldTrump Losing the popular vote is eating you up like that worm Khan dropped in Chekov s ear.  pourmecoffee (@pourmecoffee) December 21, 2016.@realDonaldTrump Also: pic.twitter.com/98rH2ODahZ  Lauren Duca (@laurenduca) December 21, 2016@realDonaldTrump Really? That s not what you said in 2012  pic.twitter.com/zSKLHHydPE  Sharika Soal (@LadyThriller69) December 21, 2016@realDonaldTrump You won the Presidency of the United States of America, yet you still sound like a complete loser.  Cody Johnston (@drmistercody) December 21, 2016@realDonaldTrump Looks like you still can t get over the fact that an overwhelming majority of Americans rejected you.  Cristian ? (@cristianafarias) December 21, 2016@realDonaldTrump On January 20th I hope they drive you to the old set of The West Wing and leave you there with a bunch of actors.  Justin Hendrix (@justinhendrix) December 21, 2016@realDonaldTrump yes Donald, you won. Continue to gloat. We all know your win is unpresidented. Why not spend time doing something for USA?  ? (@VeeVee) December 21, 2016@realDonaldTrump This really gets to you, doesn t it? You re a fucking child. Your ego is ruining the country and it s still not enough.  Jon Bershad (@JonBershad) December 21, 2016@realDonaldTrump pic.twitter.com/Dz675z5dPn  marisa kabas (@MarisaKabas) December 21, 2016For weeks, Trump has been bitching about how people should move on after the election, but he can t even do that himself. Now Saturday Night Live will have even more material to mock him with when the show returns. For now, we ll have to settle for the roasting Twitter just delivered.Featured image via Steve Pope/Getty Images\n",
              "27039                                                                                                                                                                                                                                                                                                                                                                                                                                                                                                                                                                                                                                                                                                              Donald Trump doesn t have much foreign policy experience, but he loves his golf courses, especially the ones overseas. He s no longer associated with Miss Universe, but surely that prepared him for foreign policy and running a country, just as his golf courses in Scotland did. President Obama s labor secretary, Tom Perez, took Trump to the cleaners over this during an interview on Meet the Press, because Perez knows that Trump doesn t know foreign policy at all.Host Chuck Todd asked Perez how he would describe his own foreign policy, and Perez replied with a smirk and razor-sharp sarcasm: Well, I haven t run a Ms. Universe pageant, and I don t own any golf courses in Scotland, Chuck, so I don t have what Donald Trump has, and I m very sorry about that. That hits King Dunce right where it hurts, because King Dunce doesn t know how to take advice, let alone actually learn anything. Remember, King Dunce the man who gave us this little nugget of disease-ridden feces: I m speaking with myself, number one, because I have a very good brain and I ve said a lot of things I know what I m doing and I listen to a lot of people, I talk to a lot of people and at the appropriate time I ll tell you who the people are. But my primary consultant is myself and I have a good instinct for this stuff. He has a touch of instinct for business, and that s it. He thinks government, and particularly foreign affairs, are just like business and he can treat them with strong-arm tactics and threats of lawsuits   oh wait, war  if they don t give in.King Trump s foreign policy sounds great to ignorant voters who can t think for themselves. It s all about  America first.  It s a lot of the same mentality that led to Brexit, and it s true that world s uppermost caste has left working class people in the dust in the pursuit of their own black and vile greed. However, Trump wants to bully and muscle other countries into doing what he wants. He doesn t want actual negotiations.It wouldn t be surprising to discover that His Royal Narcissist thinks that his  me first  mentality is the same as having an  America first  mentality. His confidence in his own greatness is part of why he talks about all his businesses, including his golf courses, as though they ve given him all the experience he needs to run one of the most powerful countries in the world.As Perez explained, Trump the Dump is all about himself and his own profits and glory rather than America first, because otherwise, he wouldn t fight labor unions and he wouldn t have his clothing and campaign gear made in the very foreign countries he demonizes regularly on the campaign trail.Perez nailed him to the wall on this.Featured image by Chip Somodevilla/Getty Images\n",
              "Name: text, dtype: object"
            ]
          },
          "metadata": {
            "tags": []
          },
          "execution_count": 398
        }
      ]
    },
    {
      "cell_type": "markdown",
      "metadata": {
        "id": "7MamPfVNd8U4"
      },
      "source": [
        "# 4. Model Building"
      ]
    },
    {
      "cell_type": "markdown",
      "metadata": {
        "id": "TDKnVXk17S55"
      },
      "source": [
        "## 4.1 Model Architecture"
      ]
    },
    {
      "cell_type": "code",
      "metadata": {
        "id": "eOP5Sbq1bWii"
      },
      "source": [
        "learning_rate = 0.001\n",
        "model = tf.keras.Sequential()\n",
        "model.add(hub_layer)\n",
        "model.add(tf.keras.layers.Dense(8, activation='relu', activity_regularizer=tf.keras.regularizers.l2(learning_rate)))\n",
        "# model.add(Dropout(0.25))\n",
        "model.add(tf.keras.layers.Dense(8, activation='relu', activity_regularizer=tf.keras.regularizers.l2(learning_rate)))\n",
        "model.add(tf.keras.layers.Dense(8, activation='relu', activity_regularizer=tf.keras.regularizers.l2(learning_rate)))\n",
        "model.add(Dropout(0.25)) # to avoid overfitting\n",
        "# output layer\n",
        "model.add(tf.keras.layers.Dense(1, activation = 'sigmoid')) # since binary classification\n"
      ],
      "execution_count": 399,
      "outputs": []
    },
    {
      "cell_type": "markdown",
      "metadata": {
        "id": "y8UVXNcP7WkT"
      },
      "source": [
        "## 4.2 Model Summary"
      ]
    },
    {
      "cell_type": "code",
      "metadata": {
        "id": "sJiJMAhjbWmo",
        "colab": {
          "base_uri": "https://localhost:8080/"
        },
        "outputId": "a51435fd-2a9c-4279-eb3e-70e358e12b27"
      },
      "source": [
        "model.summary()"
      ],
      "execution_count": 400,
      "outputs": [
        {
          "output_type": "stream",
          "text": [
            "Model: \"sequential_7\"\n",
            "_________________________________________________________________\n",
            "Layer (type)                 Output Shape              Param #   \n",
            "=================================================================\n",
            "keras_layer_7 (KerasLayer)   (None, 50)                48190600  \n",
            "_________________________________________________________________\n",
            "dense_28 (Dense)             (None, 8)                 408       \n",
            "_________________________________________________________________\n",
            "dense_29 (Dense)             (None, 8)                 72        \n",
            "_________________________________________________________________\n",
            "dense_30 (Dense)             (None, 8)                 72        \n",
            "_________________________________________________________________\n",
            "dropout_7 (Dropout)          (None, 8)                 0         \n",
            "_________________________________________________________________\n",
            "dense_31 (Dense)             (None, 1)                 9         \n",
            "=================================================================\n",
            "Total params: 48,191,161\n",
            "Trainable params: 48,191,161\n",
            "Non-trainable params: 0\n",
            "_________________________________________________________________\n"
          ],
          "name": "stdout"
        }
      ]
    },
    {
      "cell_type": "markdown",
      "metadata": {
        "id": "D0N4AwU6gps-"
      },
      "source": [
        "# 5. Model Compilation"
      ]
    },
    {
      "cell_type": "code",
      "metadata": {
        "id": "rVf5DDQkcEl6"
      },
      "source": [
        "optimizer = keras.optimizers.RMSprop(lr=0.0001)\n",
        "model.compile(optimizer = optimizer, loss = 'binary_crossentropy', metrics = ['accuracy'])\n",
        "# using the default learning rate"
      ],
      "execution_count": 401,
      "outputs": []
    },
    {
      "cell_type": "markdown",
      "metadata": {
        "id": "vE2yOXxRgvpX"
      },
      "source": [
        "# 6. Model Training"
      ]
    },
    {
      "cell_type": "markdown",
      "metadata": {
        "id": "xonKbZ1Nmttl"
      },
      "source": [
        "## 6.1 Train the model"
      ]
    },
    {
      "cell_type": "code",
      "metadata": {
        "id": "SHvuZLrLcXF-",
        "colab": {
          "base_uri": "https://localhost:8080/"
        },
        "outputId": "ed797e99-576a-4896-a897-dac447b1ce84"
      },
      "source": [
        "# history= model.fit(X_train.shuffle(10000).batch(512), epochs=10, validation=validation_data.batch(512), verbose=1)\n",
        "start = time.time()\n",
        "history = model.fit(X_train, y_train, batch_size = 512,epochs = 10, validation_data=(X_test, y_test), verbose=1)\n",
        "end = time.time()"
      ],
      "execution_count": 402,
      "outputs": [
        {
          "output_type": "stream",
          "text": [
            "Epoch 1/10\n",
            "71/71 [==============================] - 6s 66ms/step - loss: 0.6979 - accuracy: 0.5160 - val_loss: 0.6843 - val_accuracy: 0.5341\n",
            "Epoch 2/10\n",
            "71/71 [==============================] - 5s 66ms/step - loss: 0.6730 - accuracy: 0.5750 - val_loss: 0.6586 - val_accuracy: 0.6318\n",
            "Epoch 3/10\n",
            "71/71 [==============================] - 5s 65ms/step - loss: 0.6361 - accuracy: 0.6590 - val_loss: 0.6109 - val_accuracy: 0.7060\n",
            "Epoch 4/10\n",
            "71/71 [==============================] - 5s 65ms/step - loss: 0.5926 - accuracy: 0.7293 - val_loss: 0.5688 - val_accuracy: 0.7981\n",
            "Epoch 5/10\n",
            "71/71 [==============================] - 5s 65ms/step - loss: 0.5532 - accuracy: 0.8015 - val_loss: 0.5277 - val_accuracy: 0.8635\n",
            "Epoch 6/10\n",
            "71/71 [==============================] - 5s 65ms/step - loss: 0.5161 - accuracy: 0.8448 - val_loss: 0.4878 - val_accuracy: 0.9063\n",
            "Epoch 7/10\n",
            "71/71 [==============================] - 4s 63ms/step - loss: 0.4789 - accuracy: 0.8806 - val_loss: 0.4493 - val_accuracy: 0.9300\n",
            "Epoch 8/10\n",
            "71/71 [==============================] - 4s 61ms/step - loss: 0.4448 - accuracy: 0.8949 - val_loss: 0.4119 - val_accuracy: 0.9461\n",
            "Epoch 9/10\n",
            "71/71 [==============================] - 4s 62ms/step - loss: 0.4127 - accuracy: 0.9053 - val_loss: 0.3743 - val_accuracy: 0.9570\n",
            "Epoch 10/10\n",
            "71/71 [==============================] - 4s 61ms/step - loss: 0.3785 - accuracy: 0.9048 - val_loss: 0.3330 - val_accuracy: 0.9670\n"
          ],
          "name": "stdout"
        }
      ]
    },
    {
      "cell_type": "markdown",
      "metadata": {
        "id": "MLYb3nrzm0iM"
      },
      "source": [
        "## 6.2 Loss graphs"
      ]
    },
    {
      "cell_type": "code",
      "metadata": {
        "colab": {
          "base_uri": "https://localhost:8080/",
          "height": 295
        },
        "id": "UxOqL9Ngm6jA",
        "outputId": "751d1ae9-648e-4d96-b77d-ce27efe82b85"
      },
      "source": [
        "history_dict = history.history\n",
        "\n",
        "acc = history_dict['accuracy']\n",
        "val_acc = history_dict['val_accuracy']\n",
        "\n",
        "loss = history_dict['loss']\n",
        "val_loss = history_dict['val_loss']\n",
        "\n",
        "epochs = range(1, len(acc) + 1)\n",
        "\n",
        "\n",
        "plt.plot(epochs, loss, 'b', label='Training loss')\n",
        "# plt.plot(epochs, val_loss, 'b', label='Validation loss')\n",
        "plt.title('Training loss')\n",
        "plt.xlabel('Epochs')\n",
        "plt.ylabel('Loss')\n",
        "plt.legend()\n",
        "\n",
        "plt.show()"
      ],
      "execution_count": 403,
      "outputs": [
        {
          "output_type": "display_data",
          "data": {
            "image/png": "[encoded data removed]",
            "text/plain": [
              "<Figure size 432x288 with 1 Axes>"
            ]
          },
          "metadata": {
            "tags": [],
            "needs_background": "light"
          }
        }
      ]
    },
    {
      "cell_type": "code",
      "metadata": {
        "colab": {
          "base_uri": "https://localhost:8080/",
          "height": 295
        },
        "id": "QveBlnghoDEW",
        "outputId": "499058a4-e7ce-4e12-c9ea-15fb350c7d1a"
      },
      "source": [
        "\n",
        "plt.plot(epochs, val_loss, 'b', label='Validation loss')\n",
        "plt.title('Validation loss')\n",
        "plt.xlabel('Epochs')\n",
        "plt.ylabel('Loss')\n",
        "plt.legend()\n",
        "\n",
        "plt.show()"
      ],
      "execution_count": 404,
      "outputs": [
        {
          "output_type": "display_data",
          "data": {
            "image/png": "[encoded data removed]",
            "text/plain": [
              "<Figure size 432x288 with 1 Axes>"
            ]
          },
          "metadata": {
            "tags": [],
            "needs_background": "light"
          }
        }
      ]
    },
    {
      "cell_type": "markdown",
      "metadata": {
        "id": "sONkulFZ7qGs"
      },
      "source": [
        "## 6.3 Time taken"
      ]
    },
    {
      "cell_type": "code",
      "metadata": {
        "colab": {
          "base_uri": "https://localhost:8080/"
        },
        "id": "lHpGcxYt7uIr",
        "outputId": "8c0c4d99-fae5-4ae9-e023-a8aa419f58f0"
      },
      "source": [
        "print(\"Total time taken in training the model: \", end - start, \"seconds\")"
      ],
      "execution_count": 405,
      "outputs": [
        {
          "output_type": "stream",
          "text": [
            "Total time taken in training the model:  46.73694157600403 seconds\n"
          ],
          "name": "stdout"
        }
      ]
    },
    {
      "cell_type": "markdown",
      "metadata": {
        "id": "OVV6YNGmg2yZ"
      },
      "source": [
        "# 7. Model Evaluation"
      ]
    },
    {
      "cell_type": "markdown",
      "metadata": {
        "id": "Ra5-4yd21_te"
      },
      "source": [
        "## 7.1 Final Model Train & Validation loss & accuracy"
      ]
    },
    {
      "cell_type": "code",
      "metadata": {
        "colab": {
          "base_uri": "https://localhost:8080/"
        },
        "id": "87RAa7FG2eIP",
        "outputId": "865c28ec-abaa-4f99-927b-b168ad45c928"
      },
      "source": [
        "epochs[-1]"
      ],
      "execution_count": 406,
      "outputs": [
        {
          "output_type": "execute_result",
          "data": {
            "text/plain": [
              "10"
            ]
          },
          "metadata": {
            "tags": []
          },
          "execution_count": 406
        }
      ]
    },
    {
      "cell_type": "code",
      "metadata": {
        "colab": {
          "base_uri": "https://localhost:8080/"
        },
        "id": "Zy3YJDIu2G0J",
        "outputId": "4d892331-b7c6-4268-8fec-5a780f2e990e"
      },
      "source": [
        "n = epochs[-1]-1\n",
        "print(f'Final Train Accuracy {acc[n]}')\n",
        "print(f'Final Validation Accuracy {val_acc[n]}')\n",
        "\n",
        "print(f'\\nFinal Train Loss {loss[n]}')\n",
        "print(f'Final Validation Loss {val_loss[n]}')"
      ],
      "execution_count": 407,
      "outputs": [
        {
          "output_type": "stream",
          "text": [
            "Final Train Accuracy 0.9048388004302979\n",
            "Final Validation Accuracy 0.9670378565788269\n",
            "\n",
            "Final Train Loss 0.3785427510738373\n",
            "Final Validation Loss 0.3329906463623047\n"
          ],
          "name": "stdout"
        }
      ]
    },
    {
      "cell_type": "markdown",
      "metadata": {
        "id": "YUeV2Kqn1zbe"
      },
      "source": [
        "## 7.2 Model Prediction"
      ]
    },
    {
      "cell_type": "code",
      "metadata": {
        "id": "oHTzXYWhcXOZ",
        "colab": {
          "base_uri": "https://localhost:8080/"
        },
        "outputId": "2a141e4f-b804-458f-86e4-a8600dd4aa73"
      },
      "source": [
        "pred = model.predict(X_test)\n",
        "pred = (pred > 0.5).astype(float)\n",
        "pred"
      ],
      "execution_count": 408,
      "outputs": [
        {
          "output_type": "execute_result",
          "data": {
            "text/plain": [
              "array([[0.],\n",
              "       [0.],\n",
              "       [0.],\n",
              "       ...,\n",
              "       [0.],\n",
              "       [1.],\n",
              "       [1.]])"
            ]
          },
          "metadata": {
            "tags": []
          },
          "execution_count": 408
        }
      ]
    },
    {
      "cell_type": "markdown",
      "metadata": {
        "id": "-gxIb5ou1NPW"
      },
      "source": [
        "## 7.3 Confusion Matrix"
      ]
    },
    {
      "cell_type": "code",
      "metadata": {
        "id": "52jkvviXcXRd",
        "colab": {
          "base_uri": "https://localhost:8080/"
        },
        "outputId": "f8a96501-c99a-4a14-e94d-ac4a8d1aab7d"
      },
      "source": [
        "cm = confusion_matrix(y_test, pred)\n",
        "\n",
        "cm"
      ],
      "execution_count": 409,
      "outputs": [
        {
          "output_type": "execute_result",
          "data": {
            "text/plain": [
              "array([[4528,  122],\n",
              "       [ 174, 4156]])"
            ]
          },
          "metadata": {
            "tags": []
          },
          "execution_count": 409
        }
      ]
    },
    {
      "cell_type": "markdown",
      "metadata": {
        "id": "7JsKDcob1Qvi"
      },
      "source": [
        "## 7.4 Test Accuracy"
      ]
    },
    {
      "cell_type": "code",
      "metadata": {
        "colab": {
          "base_uri": "https://localhost:8080/"
        },
        "id": "GupJVxngzboB",
        "outputId": "c04a1424-8553-461c-c273-706071319498"
      },
      "source": [
        "acuracy = accuracy_score(y_test, pred)\n",
        "print(f'Accuracy of the model is: {acuracy}')"
      ],
      "execution_count": 410,
      "outputs": [
        {
          "output_type": "stream",
          "text": [
            "Accuracy of the model is: 0.9670378619153674\n"
          ],
          "name": "stdout"
        }
      ]
    },
    {
      "cell_type": "markdown",
      "metadata": {
        "id": "daEn2oH01TsQ"
      },
      "source": [
        "## 7.5 Classification Report"
      ]
    },
    {
      "cell_type": "code",
      "metadata": {
        "id": "WbXn5OAkcXU2",
        "colab": {
          "base_uri": "https://localhost:8080/"
        },
        "outputId": "36975acf-a68b-4908-b3bc-e488a5b299b0"
      },
      "source": [
        "print(classification_report(y_test, pred, digits=5))"
      ],
      "execution_count": 411,
      "outputs": [
        {
          "output_type": "stream",
          "text": [
            "              precision    recall  f1-score   support\n",
            "\n",
            "           0    0.96299   0.97376   0.96835      4650\n",
            "           1    0.97148   0.95982   0.96561      4330\n",
            "\n",
            "    accuracy                        0.96704      8980\n",
            "   macro avg    0.96724   0.96679   0.96698      8980\n",
            "weighted avg    0.96709   0.96704   0.96703      8980\n",
            "\n"
          ],
          "name": "stdout"
        }
      ]
    },
    {
      "cell_type": "markdown",
      "metadata": {
        "id": "_FXSoHz-3Mlk"
      },
      "source": [
        "## 7.6 Incorrectly classified texts analysis"
      ]
    },
    {
      "cell_type": "code",
      "metadata": {
        "colab": {
          "base_uri": "https://localhost:8080/"
        },
        "id": "TCdNIPcE5HY7",
        "outputId": "713d4f56-6969-4090-baca-b1f24fdddf58"
      },
      "source": [
        "len(X_test)"
      ],
      "execution_count": 412,
      "outputs": [
        {
          "output_type": "execute_result",
          "data": {
            "text/plain": [
              "8980"
            ]
          },
          "metadata": {
            "tags": []
          },
          "execution_count": 412
        }
      ]
    },
    {
      "cell_type": "code",
      "metadata": {
        "id": "4B5GMGm33yVV"
      },
      "source": [
        "X_test = pd.DataFrame(X_test, columns = ['text'])\n",
        "X_test['label'] = y_test\n",
        "X_test['pred'] = pred\n",
        "X_test['pred'] = X_test['pred'].fillna(0)"
      ],
      "execution_count": 413,
      "outputs": []
    },
    {
      "cell_type": "code",
      "metadata": {
        "colab": {
          "base_uri": "https://localhost:8080/"
        },
        "id": "qD4ZHNDY4PGr",
        "outputId": "1f0cc999-3016-413f-803b-e9c1984c669d"
      },
      "source": [
        "X_test.info()"
      ],
      "execution_count": 414,
      "outputs": [
        {
          "output_type": "stream",
          "text": [
            "<class 'pandas.core.frame.DataFrame'>\n",
            "Int64Index: 8980 entries, 22216 to 15236\n",
            "Data columns (total 3 columns):\n",
            " #   Column  Non-Null Count  Dtype  \n",
            "---  ------  --------------  -----  \n",
            " 0   text    8980 non-null   object \n",
            " 1   label   8980 non-null   int64  \n",
            " 2   pred    8980 non-null   float64\n",
            "dtypes: float64(1), int64(1), object(1)\n",
            "memory usage: 280.6+ KB\n"
          ],
          "name": "stdout"
        }
      ]
    },
    {
      "cell_type": "code",
      "metadata": {
        "colab": {
          "base_uri": "https://localhost:8080/",
          "height": 553
        },
        "id": "bI074nT74StF",
        "outputId": "97e45602-f3ab-4e1b-eae8-c2cd11a6ed44"
      },
      "source": [
        "X_test.head(2)"
      ],
      "execution_count": 415,
      "outputs": [
        {
          "output_type": "execute_result",
          "data": {
            "text/html": [
              "<div>\n",
              "<style scoped>\n",
              "    .dataframe tbody tr th:only-of-type {\n",
              "        vertical-align: middle;\n",
              "    }\n",
              "\n",
              "    .dataframe tbody tr th {\n",
              "        vertical-align: top;\n",
              "    }\n",
              "\n",
              "    .dataframe thead th {\n",
              "        text-align: right;\n",
              "    }\n",
              "</style>\n",
              "<table border=\"1\" class=\"dataframe\">\n",
              "  <thead>\n",
              "    <tr style=\"text-align: right;\">\n",
              "      <th></th>\n",
              "      <th>text</th>\n",
              "      <th>label</th>\n",
              "      <th>pred</th>\n",
              "    </tr>\n",
              "  </thead>\n",
              "  <tbody>\n",
              "    <tr>\n",
              "      <th>22216</th>\n",
              "      <td>Donald Trump s White House is in chaos, and they are trying to cover it up. Their Russia problems are mounting by the hour, and they refuse to acknowledge that there are problems surrounding all of this. To them, it s  fake news,  or a  hoax.  However, the facts bear things out differently, and it seems that there are now cracks in the Congressional public leadership.Chuck Grassley (R-Iowa), who heads the Senate Judiciary Committee, is fed up. He is now demanding that Donald Trump, Jr. and former 2016 Trump Campaign Manager Paul Manafort testify before his committee regarding the now infamous shady meeting between Donald Trump and the shady Russian lawyer who promised dirt on 2016 Democratic Presidential nominee Hillary Clinton. In fact, this information is due, well, NOW. This demand sends a few signals to team Trump   most notably that they should not fire Special Counsel Robert Mueller under any circumstances, despite the fact that it seems that this seems to be what Trump s White House is laying the groundwork, so to speak, to do as we speak.Here is the tweet regarding Grassley s warning:Also, anyone who thinks that Senator Grassley and the rest of the Senate are not serious about this only needs to look at the warning that has already been given: Trump Jr. and Manafort will either follow orders, or be served with subpoenas that force them to comply. If they refuse, they will be held in contempt of Congress, which carries with it serious jail time.Even the cruel, craven creatures within the GOP are sick of Donald Trump s corruption and his scandal-ridden White House. They are angry that he staged a hostile takeover of their party, first with birtherism and giving them a permanently racist label all while decimating all efforts that were made to pretend the Republican Party isn t a hotbed of racism, and while turning their worlds upside down, and with it, the nation. It seems that old-timers like Grassley, who are clearly sick of Trump s bullshit, just might be the ones who could save the republic. All they need is a bit of courage.Featured image via Win McNamee/Getty Images</td>\n",
              "      <td>0</td>\n",
              "      <td>0.0</td>\n",
              "    </tr>\n",
              "    <tr>\n",
              "      <th>27917</th>\n",
              "      <td>Now that Donald Trump is the presumptive GOP nominee, it s time to remember all those other candidates who tried so hard to beat him in the race to the White House. After all, how can we forget all the missteps, gaffes, weirdness, and sheer idiocies of such candidates as Jeb Bush, Marco Rubio, John Kasich, Ted Cruz, Ben Carson, and Carly Fiorina?There s a video making the rounds on Twitter that does just that, and eulogizes three of these failed candidates as though they re dead (and the GOP itself might as well be dead at this point anyway). Appropriately titled,  A Eulogy for the GOP,  people make short speeches about each of these candidates.Once past the man who actually says Jeb Bush was qualified to be president, there are fake tears, with journalist and comedienne Francesca Fiorentini saying: Dearly beloved, we re gathered here today to commemorate the candidates that are no longer with us. One man, speaking to an amusing, circus-y rendition of Chopin s Funeral March, remembers Jeb this way: Jeb, we hardly knew ye. It s too bad that your policies couldn t find their way out of the Republican morass. Indeed, it was like Jeb and his policies were invisible sometimes, although many felt that he would win the nomination early on. His best performances often came during debates, when he d get into out-and-out fights with Donald Trump over virtually everything under the sun. He also had a bad habit of defending his brother s actions in Iraq, memorably saying,  As it relates to my brother, there s one thing I know for sure: He kept us safe. Moving on to Marco Rubio, Fiorentini herself says: He was called so many things:  Young, charming, Lil  Marco.' That last nickname is, of course, a reference to Trump s penchant for name-calling. Then, a man speaking Spanish remembers Rubio this way: Marco, why aren t you a normal boy? Another said that his involvement in the Gang of Eight immigration bill killed him as a candidate, to which Fiorentini replies: Some people die of gang violence. He died of Gang of Eight violence. The makers of this video saved the absolute best for last, of course, which is Ben Carson. On our dear Dr. Carson, one of the speakers says: He would gently rock me to sleep with his monotone voice. Carson was especially well known for seemingly being asleep half the time. If we saw his eyes open wide, it was surprising, and likely because he was surprised himself. His voice is soft, his speech is slow, and it really can be hard to stay awake while he s talking. Imagine him giving a State of the Union address!To see the whole video, especially the spectacular ending after Carson s eulogy, watch below:Take a moment to say your g byes to these GOP candidates. ? https://t.co/6O70bl9zV8  AJ+ (@ajplus) May 7, 2016 Featured image via screen capture from embedded video</td>\n",
              "      <td>0</td>\n",
              "      <td>0.0</td>\n",
              "    </tr>\n",
              "  </tbody>\n",
              "</table>\n",
              "</div>"
            ],
            "text/plain": [
              "                                                                                                                                                                                                                                                                                                                                                                                                                                                                                                                                                                                                                                                                                                                                                                                                                                                                                                                                                                                                                                                                                                                                                                                                                                                                                                                                                                                                                                                                                                                                                                                                                                                                                                                                                                                                                                                                                                                                                                                                                                                                                                                                                                                                                                                                                                                                                                                                                                                                                                                                                                                                                                                                                                                                                                                                                                                                                                                                          text  ...  pred\n",
              "22216                                                                                                                                                                                                                                                                                                                                                                                                                                                                                                                                                                                                                                                                                                                                       Donald Trump s White House is in chaos, and they are trying to cover it up. Their Russia problems are mounting by the hour, and they refuse to acknowledge that there are problems surrounding all of this. To them, it s  fake news,  or a  hoax.  However, the facts bear things out differently, and it seems that there are now cracks in the Congressional public leadership.Chuck Grassley (R-Iowa), who heads the Senate Judiciary Committee, is fed up. He is now demanding that Donald Trump, Jr. and former 2016 Trump Campaign Manager Paul Manafort testify before his committee regarding the now infamous shady meeting between Donald Trump and the shady Russian lawyer who promised dirt on 2016 Democratic Presidential nominee Hillary Clinton. In fact, this information is due, well, NOW. This demand sends a few signals to team Trump   most notably that they should not fire Special Counsel Robert Mueller under any circumstances, despite the fact that it seems that this seems to be what Trump s White House is laying the groundwork, so to speak, to do as we speak.Here is the tweet regarding Grassley s warning:Also, anyone who thinks that Senator Grassley and the rest of the Senate are not serious about this only needs to look at the warning that has already been given: Trump Jr. and Manafort will either follow orders, or be served with subpoenas that force them to comply. If they refuse, they will be held in contempt of Congress, which carries with it serious jail time.Even the cruel, craven creatures within the GOP are sick of Donald Trump s corruption and his scandal-ridden White House. They are angry that he staged a hostile takeover of their party, first with birtherism and giving them a permanently racist label all while decimating all efforts that were made to pretend the Republican Party isn t a hotbed of racism, and while turning their worlds upside down, and with it, the nation. It seems that old-timers like Grassley, who are clearly sick of Trump s bullshit, just might be the ones who could save the republic. All they need is a bit of courage.Featured image via Win McNamee/Getty Images  ...   0.0\n",
              "27917  Now that Donald Trump is the presumptive GOP nominee, it s time to remember all those other candidates who tried so hard to beat him in the race to the White House. After all, how can we forget all the missteps, gaffes, weirdness, and sheer idiocies of such candidates as Jeb Bush, Marco Rubio, John Kasich, Ted Cruz, Ben Carson, and Carly Fiorina?There s a video making the rounds on Twitter that does just that, and eulogizes three of these failed candidates as though they re dead (and the GOP itself might as well be dead at this point anyway). Appropriately titled,  A Eulogy for the GOP,  people make short speeches about each of these candidates.Once past the man who actually says Jeb Bush was qualified to be president, there are fake tears, with journalist and comedienne Francesca Fiorentini saying: Dearly beloved, we re gathered here today to commemorate the candidates that are no longer with us. One man, speaking to an amusing, circus-y rendition of Chopin s Funeral March, remembers Jeb this way: Jeb, we hardly knew ye. It s too bad that your policies couldn t find their way out of the Republican morass. Indeed, it was like Jeb and his policies were invisible sometimes, although many felt that he would win the nomination early on. His best performances often came during debates, when he d get into out-and-out fights with Donald Trump over virtually everything under the sun. He also had a bad habit of defending his brother s actions in Iraq, memorably saying,  As it relates to my brother, there s one thing I know for sure: He kept us safe. Moving on to Marco Rubio, Fiorentini herself says: He was called so many things:  Young, charming, Lil  Marco.' That last nickname is, of course, a reference to Trump s penchant for name-calling. Then, a man speaking Spanish remembers Rubio this way: Marco, why aren t you a normal boy? Another said that his involvement in the Gang of Eight immigration bill killed him as a candidate, to which Fiorentini replies: Some people die of gang violence. He died of Gang of Eight violence. The makers of this video saved the absolute best for last, of course, which is Ben Carson. On our dear Dr. Carson, one of the speakers says: He would gently rock me to sleep with his monotone voice. Carson was especially well known for seemingly being asleep half the time. If we saw his eyes open wide, it was surprising, and likely because he was surprised himself. His voice is soft, his speech is slow, and it really can be hard to stay awake while he s talking. Imagine him giving a State of the Union address!To see the whole video, especially the spectacular ending after Carson s eulogy, watch below:Take a moment to say your g byes to these GOP candidates. ? https://t.co/6O70bl9zV8  AJ+ (@ajplus) May 7, 2016 Featured image via screen capture from embedded video  ...   0.0\n",
              "\n",
              "[2 rows x 3 columns]"
            ]
          },
          "metadata": {
            "tags": []
          },
          "execution_count": 415
        }
      ]
    },
    {
      "cell_type": "markdown",
      "metadata": {
        "id": "k3wXLatU5zjt"
      },
      "source": [
        "### 7.6.1 Incorrectly classified 'true' class"
      ]
    },
    {
      "cell_type": "code",
      "metadata": {
        "id": "2uh54WXKcXaZ"
      },
      "source": [
        "df = X_test.loc[(X_test['label']==1) & (X_test['pred']!=1)]"
      ],
      "execution_count": 416,
      "outputs": []
    },
    {
      "cell_type": "code",
      "metadata": {
        "colab": {
          "base_uri": "https://localhost:8080/"
        },
        "id": "xFpLBOEb4xCo",
        "outputId": "3f1a69a5-975e-4084-dd08-50588403c76f"
      },
      "source": [
        "len(df)"
      ],
      "execution_count": 417,
      "outputs": [
        {
          "output_type": "execute_result",
          "data": {
            "text/plain": [
              "174"
            ]
          },
          "metadata": {
            "tags": []
          },
          "execution_count": 417
        }
      ]
    },
    {
      "cell_type": "code",
      "metadata": {
        "colab": {
          "base_uri": "https://localhost:8080/",
          "height": 805
        },
        "id": "JnSfxhxo5_QS",
        "outputId": "f8714a21-07c4-44eb-b045-6cb3e576b6bf"
      },
      "source": [
        "df = df.reset_index(drop=True)\n",
        "df.loc[:2]"
      ],
      "execution_count": 418,
      "outputs": [
        {
          "output_type": "execute_result",
          "data": {
            "text/html": [
              "<div>\n",
              "<style scoped>\n",
              "    .dataframe tbody tr th:only-of-type {\n",
              "        vertical-align: middle;\n",
              "    }\n",
              "\n",
              "    .dataframe tbody tr th {\n",
              "        vertical-align: top;\n",
              "    }\n",
              "\n",
              "    .dataframe thead th {\n",
              "        text-align: right;\n",
              "    }\n",
              "</style>\n",
              "<table border=\"1\" class=\"dataframe\">\n",
              "  <thead>\n",
              "    <tr style=\"text-align: right;\">\n",
              "      <th></th>\n",
              "      <th>text</th>\n",
              "      <th>label</th>\n",
              "      <th>pred</th>\n",
              "    </tr>\n",
              "  </thead>\n",
              "  <tbody>\n",
              "    <tr>\n",
              "      <th>0</th>\n",
              "      <td>LAS VEGAS - As Republican presidential nominee Donald Trump prepared to go head-to-head with Democratic rival Hillary Clinton in their third and final debate in Las Vegas on Wednesday, hundreds of hospitality workers and protesters gathered outside the hotel Trump co-owns near the Las Vegas Strip.  Demonstrators waved signs and banners next to what organizers called a “wall” of taco trucks. That was a reference to Trump’s proposal to build a wall on the U.S. border with Mexico, as well as a riff on comments by Trump supporter Marco Gutierrez who said that without action on immigration reform, “You’re going to have taco trucks on every corner.” “We have fought for our rights and we don’t want Donald Trump to take them away from us,” said Las Vegas resident Miguel Faria. “If this man gets the presidency then everything will be ruined.”  Several protesters wore sashes printed with the phrases “Miss Piggy” and “Miss Housekeeping,” using the names that Clinton has said Trump called a former beauty queen who had gained weight and who was Latina. The protest was organized by the Culinary Union, which represents about 57,000 workers in Nevada, the majority of whom are Latino. Luis Hernandez, a musician with the norteño band “Los Tigres del Norte,” encouraged Latino voters to head to the polls on Nov. 8.  “We can’t just go on hoping someone will vote on our behalf,” he told Reuters. “We need to go out and vote because the Hispanic vote is going to make the difference in these elections.” Among the speakers at the protest was civil rights leader the Rev. Jesse Jackson, who said he hoped the candidates would stick to policies at Wednesday’s debate, instead of attacking each other. “We all as Americans live under one big tent. Hillary represents that higher ground. I hope that tonight they will not wallow in snake politics but will fly like eagles and take us all to higher ground,” Jackson told Reuters.  According to Bethany Khan, the Culinary Union’s communications director, workers at the Trump International Hotel voted to unionize in December 2015 but still do not have a contract.  Some protesters blamed that on Trump, who owns 50 percent of the property.  “He says he’s the greatest negotiator but he’s not coming to the table to support the workers that give him money and make a profit for him,” said Maria Teresa Liedermann.</td>\n",
              "      <td>1</td>\n",
              "      <td>0.0</td>\n",
              "    </tr>\n",
              "    <tr>\n",
              "      <th>1</th>\n",
              "      <td>LOUISVILLE, Ky. (Reuters) - Three people who claim they were assaulted at a Donald Trump rally in Louisville, Kentucky, last month have filed a lawsuit against the Republican presidential candidate, saying he “incited a riot.” Molly Shah, Kashiya Nwanguma and Henry Brousseau filed the lawsuit on Thursday in Jefferson Circuit Court in Louisville, claiming that Trump’s repeated calls of “get them out” at a rally at the Kentucky International Convention Center on March 1 was intended to direct his supporters to “use unwanted, harmful physical force to remove protesters, including the plaintiffs.” The lawsuit also names as defendants the Trump campaign and three individuals who the plaintiffs claim assaulted them at the rally. The three plaintiffs, all Louisville residents, claim they suffered physical injuries, emotional distress and humiliation, and are seeking unspecified damages, according to the lawsuit. “Peaceful protest is an American tradition, especially in the context of presidential politics,” Dan Canon, the attorney for the plaintiffs, told Reuters in a Twitter message. “But what you see all over the country, time and time again, is violence employed against protesters at Trump campaign events. These plaintiffs are saying ‘enough is enough,’”  The lawsuit said Trump stopped his 30-minute speech five times to point out protesters and, in most cases, told supporters to “get ‘em out of here,” according to the lawsuit. A spokeswoman for Trump’s campaign could not be reached for comment. The lawsuit claims that Trump “incited a riot as defined under the Kentucky penal code.” The individuals named as defendants are Matthew Heimbach, described in the complaint as a Trump supporter and Ohio resident who is “affiliated with the Traditionalist Worker Party, a recognized hate group”; Alvin Bamberger, 75, described as a Trump supporter and an Ohio resident; and an unknown female. According to the lawsuit, at the rally, Heimbach, who was wearing a Traditionalist Worker Party T-shirt, attacked Shah and Nwanguma. A spokesman for the Traditional Worker Party could not be reached. A website for the Traditionalist Worker Party describes it as a grassroots political organization that believes, among other things, that “European-American identity is under constant attack.” The Southern Poverty Law Center, a non-profit organization that monitors groups it considers extremist, classifies the Traditionalist Worker Party as a white nationalist hate group. According to the lawsuit, Nwanguma was assaulted by numerous protesters at the rally, of whom Heimbach and Bamberger were the most aggressive. Video of Nwanguma, a 21-year-old college student, being repeatedly pushed at the convention went viral after the rally, the lawsuit said. Bamberger could not be reached immediately for comment. The lawsuit also claims that Shah was assaulted by Heimbach and that Brousseau was assaulted by the unknown female defendant.</td>\n",
              "      <td>1</td>\n",
              "      <td>0.0</td>\n",
              "    </tr>\n",
              "    <tr>\n",
              "      <th>2</th>\n",
              "      <td>ORLANDO, Fla. (Reuters) - After fleeing homes in Hurricane Irma s path several days ago, Florida residents Lee Tinkler and Mercedes Lopez on Tuesday faced far different prospects as they departed from the Orlando hotels where they sought refuge. Tinkler, a retiree from Jupiter, Florida, said she was about to end  the best experience of my life  after waiting out the storm at a high-end convention hotel with her two daughters, their two babies and seven cats.  But at a nearby Days Inn, Lopez s spirits were low as she shared a bucket of fried chicken with four families from the Florida Keys bunking together in two cramped rooms. They were returning to salvage belongings from destroyed homes.  I don t have a house, I don t have a job,  said Lopez, 50, who works for a gas station that was also devastated.  We go back to nothing.  They are part of a complicated return home after the largest evacuation in U.S. history which saw 6.5 million people flee the storm in Florida.   After surviving what began as one of the fiercest Atlantic storms in a century, many are returning with conflicting emotions. The relief of going home is at times overwhelmed by the logistics of the trip and then putting their pre-storm lives back together. On social media, travelers traded advice on how to avoid the chaotic scenes many experienced on the way out: long lines for gasoline and traffic so bad that people slept in their cars. Hoping to avoid such congestion, Cathy Bobal, a 59-year-old retiree from Coconut Creek, Florida, decided on Tuesday to spend a fifth night in Orlando before leaving at 3 a.m.  As she arranged her check-out from the Rosen Center, which reduced rates and waived pet and parking fees for evacuees, others were checking in.  It s round two,  she said.  People are coming in because they don t have power.  Tinkler, 73, left with plans to return the next time a hurricane menaced her home.  I want to live in this world forever,  she said, envisioning disaster reunions with the other guests.  We had a party.   Across town, the group from Marathon, Florida, was ending five nights at Days Inn not knowing whether authorities would even allow them back into their homes.  It s a total disaster. Our house was destroyed. I ve seen the pictures,  said Heidi Hernandez, 23, a school teacher.  We re going down there to salvage what we can and then come back up.</td>\n",
              "      <td>1</td>\n",
              "      <td>0.0</td>\n",
              "    </tr>\n",
              "  </tbody>\n",
              "</table>\n",
              "</div>"
            ],
            "text/plain": [
              "                                                                                                                                                                                                                                                                                                                                                                                                                                                                                                                                                                                                                                                                                                                                                                                                                                                                                                                                                                                                                                                                                                                                                                                                                                                                                                                                                                                                                                                                                                                                                                                                                                                                                                                                                                                                                                                                                                                                                                                                                                                                                                                                                                                                                                                                                                                                                                                                                                                                                                                                                                                                                                                                                                                                                                                                                                                                                                                                                                                                                                                                 text  ...  pred\n",
              "0                                                                                                                                                                                                                                                                                                                                                                                                                                                                                                                                                                                                               LAS VEGAS - As Republican presidential nominee Donald Trump prepared to go head-to-head with Democratic rival Hillary Clinton in their third and final debate in Las Vegas on Wednesday, hundreds of hospitality workers and protesters gathered outside the hotel Trump co-owns near the Las Vegas Strip.  Demonstrators waved signs and banners next to what organizers called a “wall” of taco trucks. That was a reference to Trump’s proposal to build a wall on the U.S. border with Mexico, as well as a riff on comments by Trump supporter Marco Gutierrez who said that without action on immigration reform, “You’re going to have taco trucks on every corner.” “We have fought for our rights and we don’t want Donald Trump to take them away from us,” said Las Vegas resident Miguel Faria. “If this man gets the presidency then everything will be ruined.”  Several protesters wore sashes printed with the phrases “Miss Piggy” and “Miss Housekeeping,” using the names that Clinton has said Trump called a former beauty queen who had gained weight and who was Latina. The protest was organized by the Culinary Union, which represents about 57,000 workers in Nevada, the majority of whom are Latino. Luis Hernandez, a musician with the norteño band “Los Tigres del Norte,” encouraged Latino voters to head to the polls on Nov. 8.  “We can’t just go on hoping someone will vote on our behalf,” he told Reuters. “We need to go out and vote because the Hispanic vote is going to make the difference in these elections.” Among the speakers at the protest was civil rights leader the Rev. Jesse Jackson, who said he hoped the candidates would stick to policies at Wednesday’s debate, instead of attacking each other. “We all as Americans live under one big tent. Hillary represents that higher ground. I hope that tonight they will not wallow in snake politics but will fly like eagles and take us all to higher ground,” Jackson told Reuters.  According to Bethany Khan, the Culinary Union’s communications director, workers at the Trump International Hotel voted to unionize in December 2015 but still do not have a contract.  Some protesters blamed that on Trump, who owns 50 percent of the property.  “He says he’s the greatest negotiator but he’s not coming to the table to support the workers that give him money and make a profit for him,” said Maria Teresa Liedermann.  ...   0.0\n",
              "1  LOUISVILLE, Ky. (Reuters) - Three people who claim they were assaulted at a Donald Trump rally in Louisville, Kentucky, last month have filed a lawsuit against the Republican presidential candidate, saying he “incited a riot.” Molly Shah, Kashiya Nwanguma and Henry Brousseau filed the lawsuit on Thursday in Jefferson Circuit Court in Louisville, claiming that Trump’s repeated calls of “get them out” at a rally at the Kentucky International Convention Center on March 1 was intended to direct his supporters to “use unwanted, harmful physical force to remove protesters, including the plaintiffs.” The lawsuit also names as defendants the Trump campaign and three individuals who the plaintiffs claim assaulted them at the rally. The three plaintiffs, all Louisville residents, claim they suffered physical injuries, emotional distress and humiliation, and are seeking unspecified damages, according to the lawsuit. “Peaceful protest is an American tradition, especially in the context of presidential politics,” Dan Canon, the attorney for the plaintiffs, told Reuters in a Twitter message. “But what you see all over the country, time and time again, is violence employed against protesters at Trump campaign events. These plaintiffs are saying ‘enough is enough,’”  The lawsuit said Trump stopped his 30-minute speech five times to point out protesters and, in most cases, told supporters to “get ‘em out of here,” according to the lawsuit. A spokeswoman for Trump’s campaign could not be reached for comment. The lawsuit claims that Trump “incited a riot as defined under the Kentucky penal code.” The individuals named as defendants are Matthew Heimbach, described in the complaint as a Trump supporter and Ohio resident who is “affiliated with the Traditionalist Worker Party, a recognized hate group”; Alvin Bamberger, 75, described as a Trump supporter and an Ohio resident; and an unknown female. According to the lawsuit, at the rally, Heimbach, who was wearing a Traditionalist Worker Party T-shirt, attacked Shah and Nwanguma. A spokesman for the Traditional Worker Party could not be reached. A website for the Traditionalist Worker Party describes it as a grassroots political organization that believes, among other things, that “European-American identity is under constant attack.” The Southern Poverty Law Center, a non-profit organization that monitors groups it considers extremist, classifies the Traditionalist Worker Party as a white nationalist hate group. According to the lawsuit, Nwanguma was assaulted by numerous protesters at the rally, of whom Heimbach and Bamberger were the most aggressive. Video of Nwanguma, a 21-year-old college student, being repeatedly pushed at the convention went viral after the rally, the lawsuit said. Bamberger could not be reached immediately for comment. The lawsuit also claims that Shah was assaulted by Heimbach and that Brousseau was assaulted by the unknown female defendant.  ...   0.0\n",
              "2                                                                                                                                                                                                                                                                                                                                                                                                                                                                                                                                                                                        ORLANDO, Fla. (Reuters) - After fleeing homes in Hurricane Irma s path several days ago, Florida residents Lee Tinkler and Mercedes Lopez on Tuesday faced far different prospects as they departed from the Orlando hotels where they sought refuge. Tinkler, a retiree from Jupiter, Florida, said she was about to end  the best experience of my life  after waiting out the storm at a high-end convention hotel with her two daughters, their two babies and seven cats.  But at a nearby Days Inn, Lopez s spirits were low as she shared a bucket of fried chicken with four families from the Florida Keys bunking together in two cramped rooms. They were returning to salvage belongings from destroyed homes.  I don t have a house, I don t have a job,  said Lopez, 50, who works for a gas station that was also devastated.  We go back to nothing.  They are part of a complicated return home after the largest evacuation in U.S. history which saw 6.5 million people flee the storm in Florida.   After surviving what began as one of the fiercest Atlantic storms in a century, many are returning with conflicting emotions. The relief of going home is at times overwhelmed by the logistics of the trip and then putting their pre-storm lives back together. On social media, travelers traded advice on how to avoid the chaotic scenes many experienced on the way out: long lines for gasoline and traffic so bad that people slept in their cars. Hoping to avoid such congestion, Cathy Bobal, a 59-year-old retiree from Coconut Creek, Florida, decided on Tuesday to spend a fifth night in Orlando before leaving at 3 a.m.  As she arranged her check-out from the Rosen Center, which reduced rates and waived pet and parking fees for evacuees, others were checking in.  It s round two,  she said.  People are coming in because they don t have power.  Tinkler, 73, left with plans to return the next time a hurricane menaced her home.  I want to live in this world forever,  she said, envisioning disaster reunions with the other guests.  We had a party.   Across town, the group from Marathon, Florida, was ending five nights at Days Inn not knowing whether authorities would even allow them back into their homes.  It s a total disaster. Our house was destroyed. I ve seen the pictures,  said Heidi Hernandez, 23, a school teacher.  We re going down there to salvage what we can and then come back up.  ...   0.0\n",
              "\n",
              "[3 rows x 3 columns]"
            ]
          },
          "metadata": {
            "tags": []
          },
          "execution_count": 418
        }
      ]
    },
    {
      "cell_type": "markdown",
      "metadata": {
        "id": "tuEXoGUZ6U48"
      },
      "source": [
        "### 7.6.2 Incorreclty classified 'fake' class"
      ]
    },
    {
      "cell_type": "code",
      "metadata": {
        "id": "K4y913DB6CY7"
      },
      "source": [
        "df = X_test.loc[(X_test['label']==0) & (X_test['pred']!=0)]"
      ],
      "execution_count": 419,
      "outputs": []
    },
    {
      "cell_type": "code",
      "metadata": {
        "colab": {
          "base_uri": "https://localhost:8080/"
        },
        "id": "ir-1mk8G6cxA",
        "outputId": "b6201fc2-f694-41c9-d453-f6b909ffbdae"
      },
      "source": [
        "len(df)"
      ],
      "execution_count": 420,
      "outputs": [
        {
          "output_type": "execute_result",
          "data": {
            "text/plain": [
              "122"
            ]
          },
          "metadata": {
            "tags": []
          },
          "execution_count": 420
        }
      ]
    },
    {
      "cell_type": "code",
      "metadata": {
        "colab": {
          "base_uri": "https://localhost:8080/",
          "height": 652
        },
        "id": "GSVEdkLf6deg",
        "outputId": "7c1da324-0e8a-4c5f-91bb-3dac651be023"
      },
      "source": [
        "df = df.reset_index(drop=True)\n",
        "df.loc[:2]"
      ],
      "execution_count": 421,
      "outputs": [
        {
          "output_type": "execute_result",
          "data": {
            "text/html": [
              "<div>\n",
              "<style scoped>\n",
              "    .dataframe tbody tr th:only-of-type {\n",
              "        vertical-align: middle;\n",
              "    }\n",
              "\n",
              "    .dataframe tbody tr th {\n",
              "        vertical-align: top;\n",
              "    }\n",
              "\n",
              "    .dataframe thead th {\n",
              "        text-align: right;\n",
              "    }\n",
              "</style>\n",
              "<table border=\"1\" class=\"dataframe\">\n",
              "  <thead>\n",
              "    <tr style=\"text-align: right;\">\n",
              "      <th></th>\n",
              "      <th>text</th>\n",
              "      <th>label</th>\n",
              "      <th>pred</th>\n",
              "    </tr>\n",
              "  </thead>\n",
              "  <tbody>\n",
              "    <tr>\n",
              "      <th>0</th>\n",
              "      <td>A federal judge has ordered Michigan election officials to begin a massive hand recount of 4.8 million ballots cast in the presidential election at noon Monday.U.S. District Judge Mark Goldsmith issued a ruling just after midnight Monday in favor of Green Party presidential candidate Jill Stein, who sought to let election officials bypass a two-business-day waiting period that would have delayed start of the recount until Wednesday morning.The manual recount process was scheduled to begin Wednesday as specified by state law, and in a rare Sunday hearing in federal court, Goldsmith questioned the harm posed by waiting.Stein s lawyer Mark Brewer argued the case was aimed at ensuring the integrity of Michigan s voting system and that the required waiting period violated Stein s rights to due process and equal protection. He pushed for the recount of 4.8 million ballots to start immediately, which he said would be Monday morning. There are questions raised throughout the country about the integrity of the election system,  Brewer told the judge in front of a courtroom filled with about two dozen people, including state Republican Party Chair Ronna Romney McDaniel.  It s not just rhetoric. The hearing ended Sunday afternoon, with a staffer for the judge saying Goldsmith would issue a written opinion but he did not give a timeline.The deadline to finalize the vote total for the Electoral College is Dec. 13. Chris Thomas, the state elections director, testified Sunday that he could not guarantee that the recount could be finished by that deadline, calling the task  doable but difficult.  Brewer called it  highly doubtful  that the state could finish by the deadline, and asserted the recount needed to start immediately.Read more: Detroit News</td>\n",
              "      <td>0</td>\n",
              "      <td>1.0</td>\n",
              "    </tr>\n",
              "    <tr>\n",
              "      <th>1</th>\n",
              "      <td>President Donald Trump said his administration would be announcing a  big league  tax cut that would lower the burden on businesses within the next two or three weeks.The revelation saw the Dow Jones industrial average rise around 115 points to a record, with Goldman Sachs contributing the most gains. Lowering the overall tax burden on American business is big league, that s coming along very well,  Trump said at the top of a White House meeting with airline industry executives Thursday.  We re way ahead of schedule, I believe. And we re going to be announcing something   I would say over the next two or three weeks   that will be phenomenal. The president s comment had an immediate effect on the value of the U.S. dollar against other currencies.The administration had gotten pushback a day earlier from conservative web site proprietor Matt Drudge, an influential media figure who Trump regularly lauded during the campaign. Republican party should be sued for fraud. NO discussion of tax cuts now. Just lots of crazy. Back to basics, guys!  Drudge tweeted, on a day filled with fallout from the Senate effort to silence liberal Massachusetts Senator Elizabeth Warren.Tax reform has also been a top priority for House Speaker Paul Ryan and others in the GOP congressional majority, which has been anxious to slash taxes and regulations now that it finally has an ally in the White House.Trump has pledged to cut the top corporate tax rate from 35 per cent to 15 per cent, but he offered no details on what his proposal might be. The value of the dollar against the Japanese yen jumped by 1 percentage point after the president s comments, Reuters reported. Airline stocks also spiked after the meeting. All three major market indexes jumped on news of the tax cut timetable.  Daily Mail</td>\n",
              "      <td>0</td>\n",
              "      <td>1.0</td>\n",
              "    </tr>\n",
              "    <tr>\n",
              "      <th>2</th>\n",
              "      <td>One short trip on a boat and this could be all yours! No papers required A group of local citizens from the Italian Island of Sicily have denounced a recent political decision to turn a 4-star seaside resort into the latest migrant welcome center, near the historic city of Agrigento. The hotel Capo Rossello Realmonte is located just a short distance from the Scala dei Turchi, or  Turkish Steps,  an unusual white, rocky cliff popular with tourists that has also been proposed for the UNESCO Heritage list.The Region of Sicily, led by governor Rosario Crocetta of the Democratic Party, has decided to transform the hotel into a hub where asylum-seekers will be accommodated, theoretically just for 48 hours for registration purposes before being transferred to other centers or possible repatriation. Critics have noted that the migrants and refugees will actually be staying considerably longer, judging from the way such centers work elsewhere in Italy.The local City Council of Realmonte, chaired by Mayor Calogero Zicari has joined a local citizens  movement in collecting signatures protesting the plan to convert the hotel into a migrant center.The mayor told local media that since the area depends on tourism, the proposal would have  a major impact on the economy,  recalling that the arrival of large groups of migrants in other areas has destroyed investments that had been developed over years. We are angry and worried by this latest irresponsible decision,  said Angelo Attaguile, the local leader of the Noi con Salvini populist political party. Some people forget that we are talking about a site with enormous touristic value, which was recently nominated as a UNESCO Heritage site, and which could be jeopardizes by this foolish decision,  Attaguile said. We cannot accept that top-tier hotel facilities, close to the sea and tourist destinations like the Scala Dei Turchi, continue to be turned into reception centers,  he added.Another political operative from the Noi con Salvini party, Giuseppe Di Rosa, has accused politicians in office of reaping economic benefits from public funds coming in for the construction and operation of refugee centers. They are transforming our land into a mega hotel that houses refugees of all kinds without any sanitary control of the territory,  he said. -Via: Bretibart News</td>\n",
              "      <td>0</td>\n",
              "      <td>1.0</td>\n",
              "    </tr>\n",
              "  </tbody>\n",
              "</table>\n",
              "</div>"
            ],
            "text/plain": [
              "                                                                                                                                                                                                                                                                                                                                                                                                                                                                                                                                                                                                                                                                                                                                                                                                                                                                                                                                                                                                                                                                                                                                                                                                                                                                                                                                                                                                                                                                                                                                                                                                                                                                                                                                                                                                                                                                                                                                                                                                                                                                                                                                                                                                                                                                                                                                                                                                                             text  ...  pred\n",
              "0                                                                                                                                                                                                                                                                                                                                                                                                                                                                                                                                                                                            A federal judge has ordered Michigan election officials to begin a massive hand recount of 4.8 million ballots cast in the presidential election at noon Monday.U.S. District Judge Mark Goldsmith issued a ruling just after midnight Monday in favor of Green Party presidential candidate Jill Stein, who sought to let election officials bypass a two-business-day waiting period that would have delayed start of the recount until Wednesday morning.The manual recount process was scheduled to begin Wednesday as specified by state law, and in a rare Sunday hearing in federal court, Goldsmith questioned the harm posed by waiting.Stein s lawyer Mark Brewer argued the case was aimed at ensuring the integrity of Michigan s voting system and that the required waiting period violated Stein s rights to due process and equal protection. He pushed for the recount of 4.8 million ballots to start immediately, which he said would be Monday morning. There are questions raised throughout the country about the integrity of the election system,  Brewer told the judge in front of a courtroom filled with about two dozen people, including state Republican Party Chair Ronna Romney McDaniel.  It s not just rhetoric. The hearing ended Sunday afternoon, with a staffer for the judge saying Goldsmith would issue a written opinion but he did not give a timeline.The deadline to finalize the vote total for the Electoral College is Dec. 13. Chris Thomas, the state elections director, testified Sunday that he could not guarantee that the recount could be finished by that deadline, calling the task  doable but difficult.  Brewer called it  highly doubtful  that the state could finish by the deadline, and asserted the recount needed to start immediately.Read more: Detroit News  ...   1.0\n",
              "1                                                                                                                                                                                                                                                                                                                                                                                                                                                                                                                                                           President Donald Trump said his administration would be announcing a  big league  tax cut that would lower the burden on businesses within the next two or three weeks.The revelation saw the Dow Jones industrial average rise around 115 points to a record, with Goldman Sachs contributing the most gains. Lowering the overall tax burden on American business is big league, that s coming along very well,  Trump said at the top of a White House meeting with airline industry executives Thursday.  We re way ahead of schedule, I believe. And we re going to be announcing something   I would say over the next two or three weeks   that will be phenomenal. The president s comment had an immediate effect on the value of the U.S. dollar against other currencies.The administration had gotten pushback a day earlier from conservative web site proprietor Matt Drudge, an influential media figure who Trump regularly lauded during the campaign. Republican party should be sued for fraud. NO discussion of tax cuts now. Just lots of crazy. Back to basics, guys!  Drudge tweeted, on a day filled with fallout from the Senate effort to silence liberal Massachusetts Senator Elizabeth Warren.Tax reform has also been a top priority for House Speaker Paul Ryan and others in the GOP congressional majority, which has been anxious to slash taxes and regulations now that it finally has an ally in the White House.Trump has pledged to cut the top corporate tax rate from 35 per cent to 15 per cent, but he offered no details on what his proposal might be. The value of the dollar against the Japanese yen jumped by 1 percentage point after the president s comments, Reuters reported. Airline stocks also spiked after the meeting. All three major market indexes jumped on news of the tax cut timetable.  Daily Mail  ...   1.0\n",
              "2  One short trip on a boat and this could be all yours! No papers required A group of local citizens from the Italian Island of Sicily have denounced a recent political decision to turn a 4-star seaside resort into the latest migrant welcome center, near the historic city of Agrigento. The hotel Capo Rossello Realmonte is located just a short distance from the Scala dei Turchi, or  Turkish Steps,  an unusual white, rocky cliff popular with tourists that has also been proposed for the UNESCO Heritage list.The Region of Sicily, led by governor Rosario Crocetta of the Democratic Party, has decided to transform the hotel into a hub where asylum-seekers will be accommodated, theoretically just for 48 hours for registration purposes before being transferred to other centers or possible repatriation. Critics have noted that the migrants and refugees will actually be staying considerably longer, judging from the way such centers work elsewhere in Italy.The local City Council of Realmonte, chaired by Mayor Calogero Zicari has joined a local citizens  movement in collecting signatures protesting the plan to convert the hotel into a migrant center.The mayor told local media that since the area depends on tourism, the proposal would have  a major impact on the economy,  recalling that the arrival of large groups of migrants in other areas has destroyed investments that had been developed over years. We are angry and worried by this latest irresponsible decision,  said Angelo Attaguile, the local leader of the Noi con Salvini populist political party. Some people forget that we are talking about a site with enormous touristic value, which was recently nominated as a UNESCO Heritage site, and which could be jeopardizes by this foolish decision,  Attaguile said. We cannot accept that top-tier hotel facilities, close to the sea and tourist destinations like the Scala Dei Turchi, continue to be turned into reception centers,  he added.Another political operative from the Noi con Salvini party, Giuseppe Di Rosa, has accused politicians in office of reaping economic benefits from public funds coming in for the construction and operation of refugee centers. They are transforming our land into a mega hotel that houses refugees of all kinds without any sanitary control of the territory,  he said. -Via: Bretibart News  ...   1.0\n",
              "\n",
              "[3 rows x 3 columns]"
            ]
          },
          "metadata": {
            "tags": []
          },
          "execution_count": 421
        }
      ]
    },
    {
      "cell_type": "code",
      "metadata": {
        "id": "-Slw2OxQ6i3N"
      },
      "source": [
        ""
      ],
      "execution_count": 421,
      "outputs": []
    }
  ]
}