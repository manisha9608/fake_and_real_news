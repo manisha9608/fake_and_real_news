{
  "nbformat": 4,
  "nbformat_minor": 0,
  "metadata": {
    "colab": {
      "name": "fakeandrealusingdeeplearning.ipynb",
      "provenance": [],
      "collapsed_sections": [
        "gznv6YzPl4dT",
        "m5z7OFFtmaC7",
        "Lb-8emeF_yoT",
        "TMVvJMeMgTk-"
      ],
      "include_colab_link": true
    },
    "kernelspec": {
      "name": "python3",
      "display_name": "Python 3"
    },
    "language_info": {
      "name": "python"
    },
    "accelerator": "GPU"
  },
  "cells": [
    {
      "cell_type": "markdown",
      "metadata": {
        "id": "view-in-github",
        "colab_type": "text"
      },
      "source": [
        "<a href=\"https://colab.research.google.com/github/manisha9608/fake_and_real_news/blob/main/fakeandrealusingdeeplearning.ipynb\" target=\"_parent\"><img src=\"https://colab.research.google.com/assets/colab-badge.svg\" alt=\"Open In Colab\"/></a>"
      ]
    },
    {
      "cell_type": "markdown",
      "metadata": {
        "id": "gznv6YzPl4dT"
      },
      "source": [
        "# 1. Import Libraries & Dataset\n"
      ]
    },
    {
      "cell_type": "code",
      "metadata": {
        "colab": {
          "base_uri": "https://localhost:8080/"
        },
        "id": "vSR1N1HTfTiU",
        "outputId": "4c9e0859-573f-4f09-bcbc-c51477da8ee9"
      },
      "source": [
        "from google.colab import drive\n",
        "drive.mount('/content/drive')"
      ],
      "execution_count": 301,
      "outputs": [
        {
          "output_type": "stream",
          "text": [
            "Drive already mounted at /content/drive; to attempt to forcibly remount, call drive.mount(\"/content/drive\", force_remount=True).\n"
          ],
          "name": "stdout"
        }
      ]
    },
    {
      "cell_type": "markdown",
      "metadata": {
        "id": "gr4zvYPJmTwq"
      },
      "source": [
        "## 1.1 Import Libraries"
      ]
    },
    {
      "cell_type": "code",
      "metadata": {
        "id": "6pv0DXzFnDDb"
      },
      "source": [
        "import numpy as np\n",
        "import pandas as pd\n",
        "\n",
        "import csv\n",
        "\n",
        "import time\n",
        "\n",
        "import io\n",
        "from io import BytesIO\n",
        "\n",
        "\n",
        "import matplotlib.pyplot as plt\n",
        "\n",
        "import seaborn as sns\n",
        "%matplotlib inline\n",
        "\n",
        "import tensorflow as tf\n",
        "from tensorflow.keras.layers import Dense, Flatten, Conv2D, Dropout\n",
        "from tensorflow.keras import Model\n",
        "from tensorflow.python.client import device_lib\n",
        "import tensorflow_hub as hub\n",
        "import tensorflow_datasets as tfds\n",
        "\n",
        "# from keras.layers import Dense, Dropout, Activation, Flatten\n",
        "\n",
        "from sklearn.model_selection import train_test_split\n",
        "from sklearn.metrics import confusion_matrix, accuracy_score, classification_report\n",
        "\n",
        "import tensorflow as tf\n",
        "\n",
        "import warnings\n",
        "warnings.filterwarnings('ignore')"
      ],
      "execution_count": 302,
      "outputs": []
    },
    {
      "cell_type": "markdown",
      "metadata": {
        "id": "m5z7OFFtmaC7"
      },
      "source": [
        "## 1.2 Check GPU Availability"
      ]
    },
    {
      "cell_type": "code",
      "metadata": {
        "colab": {
          "base_uri": "https://localhost:8080/",
          "height": 0
        },
        "id": "x25MFQRNnG7O",
        "outputId": "9fed1a3e-5715-4603-fd82-cbe65e3736ec"
      },
      "source": [
        "\n",
        "tf.test.gpu_device_name()"
      ],
      "execution_count": 303,
      "outputs": [
        {
          "output_type": "execute_result",
          "data": {
            "application/vnd.google.colaboratory.intrinsic+json": {
              "type": "string"
            },
            "text/plain": [
              "'/device:GPU:0'"
            ]
          },
          "metadata": {
            "tags": []
          },
          "execution_count": 303
        }
      ]
    },
    {
      "cell_type": "code",
      "metadata": {
        "colab": {
          "base_uri": "https://localhost:8080/"
        },
        "id": "W0fWXVsznKYp",
        "outputId": "a3eec6e7-644a-47f4-d916-99f2b0d62160"
      },
      "source": [
        "\n",
        "device_lib.list_local_devices()"
      ],
      "execution_count": 304,
      "outputs": [
        {
          "output_type": "execute_result",
          "data": {
            "text/plain": [
              "[name: \"/device:CPU:0\"\n",
              " device_type: \"CPU\"\n",
              " memory_limit: 268435456\n",
              " locality {\n",
              " }\n",
              " incarnation: 6453356508510973785, name: \"/device:GPU:0\"\n",
              " device_type: \"GPU\"\n",
              " memory_limit: 14509932544\n",
              " locality {\n",
              "   bus_id: 1\n",
              "   links {\n",
              "   }\n",
              " }\n",
              " incarnation: 3500425640217270985\n",
              " physical_device_desc: \"device: 0, name: Tesla T4, pci bus id: 0000:00:04.0, compute capability: 7.5\"]"
            ]
          },
          "metadata": {
            "tags": []
          },
          "execution_count": 304
        }
      ]
    },
    {
      "cell_type": "code",
      "metadata": {
        "colab": {
          "base_uri": "https://localhost:8080/"
        },
        "id": "0amFyBGWnZeB",
        "outputId": "79043e00-47d0-435f-93b3-51e6f3b356c2"
      },
      "source": [
        "!cat /proc/meminfo"
      ],
      "execution_count": 305,
      "outputs": [
        {
          "output_type": "stream",
          "text": [
            "MemTotal:       13302924 kB\n",
            "MemFree:         4518096 kB\n",
            "MemAvailable:   10950272 kB\n",
            "Buffers:          117440 kB\n",
            "Cached:          4202036 kB\n",
            "SwapCached:            0 kB\n",
            "Active:          2712532 kB\n",
            "Inactive:        5628388 kB\n",
            "Active(anon):    1739680 kB\n",
            "Inactive(anon):    25012 kB\n",
            "Active(file):     972852 kB\n",
            "Inactive(file):  5603376 kB\n",
            "Unevictable:           0 kB\n",
            "Mlocked:               0 kB\n",
            "SwapTotal:             0 kB\n",
            "SwapFree:              0 kB\n",
            "Dirty:              1040 kB\n",
            "Writeback:             0 kB\n",
            "AnonPages:       4021456 kB\n",
            "Mapped:           887820 kB\n",
            "Shmem:             25776 kB\n",
            "KReclaimable:     181896 kB\n",
            "Slab:             243752 kB\n",
            "SReclaimable:     181896 kB\n",
            "SUnreclaim:        61856 kB\n",
            "KernelStack:        6144 kB\n",
            "PageTables:        17048 kB\n",
            "NFS_Unstable:          0 kB\n",
            "Bounce:                0 kB\n",
            "WritebackTmp:          0 kB\n",
            "CommitLimit:     6651460 kB\n",
            "Committed_AS:    7620304 kB\n",
            "VmallocTotal:   34359738367 kB\n",
            "VmallocUsed:       52432 kB\n",
            "VmallocChunk:          0 kB\n",
            "Percpu:             1400 kB\n",
            "AnonHugePages:    290816 kB\n",
            "ShmemHugePages:        0 kB\n",
            "ShmemPmdMapped:        0 kB\n",
            "FileHugePages:         0 kB\n",
            "FilePmdMapped:         0 kB\n",
            "CmaTotal:              0 kB\n",
            "CmaFree:               0 kB\n",
            "HugePages_Total:       0\n",
            "HugePages_Free:        0\n",
            "HugePages_Rsvd:        0\n",
            "HugePages_Surp:        0\n",
            "Hugepagesize:       2048 kB\n",
            "Hugetlb:               0 kB\n",
            "DirectMap4k:      215872 kB\n",
            "DirectMap2M:     6072320 kB\n",
            "DirectMap1G:     9437184 kB\n"
          ],
          "name": "stdout"
        }
      ]
    },
    {
      "cell_type": "markdown",
      "metadata": {
        "id": "ec4sYqmfmikY"
      },
      "source": [
        "## 1.2 Load Data"
      ]
    },
    {
      "cell_type": "code",
      "metadata": {
        "id": "Yrcpw6K_xhMY"
      },
      "source": [
        "path = \"/content/drive/MyDrive/data/imdb/\""
      ],
      "execution_count": 306,
      "outputs": []
    },
    {
      "cell_type": "code",
      "metadata": {
        "id": "UOc6QSa7flq5"
      },
      "source": [
        "\n",
        "# real = pd.read_excel(path+\"True.xlsx\")\n",
        "# fake = pd.read_excel(path+\"Fake.xlsx\")\n",
        "\n",
        "# from google.colab import files\n",
        "# uploaded = files.upload()"
      ],
      "execution_count": 307,
      "outputs": []
    },
    {
      "cell_type": "code",
      "metadata": {
        "id": "9kzqO5Fot9it"
      },
      "source": [
        "\n",
        "\n",
        "bio = BytesIO()\n",
        "with open(path+\"True.csv\", 'rb') as f:\n",
        "   bio.write(f.read())\n",
        "bio.seek(0)\n",
        "\n",
        "real = pd.read_csv(bio)"
      ],
      "execution_count": 308,
      "outputs": []
    },
    {
      "cell_type": "code",
      "metadata": {
        "id": "TSJG815OuAr8"
      },
      "source": [
        "# uploaded = files.upload()"
      ],
      "execution_count": 309,
      "outputs": []
    },
    {
      "cell_type": "code",
      "metadata": {
        "id": "oOuGrRuCuFHF"
      },
      "source": [
        "bio = BytesIO()\n",
        "with open(path+\"Fake.csv\", 'rb') as f:\n",
        "   bio.write(f.read())\n",
        "bio.seek(0)\n",
        "fake = pd.read_csv(bio)"
      ],
      "execution_count": 310,
      "outputs": []
    },
    {
      "cell_type": "code",
      "metadata": {
        "colab": {
          "base_uri": "https://localhost:8080/"
        },
        "id": "KHmo_QWtowtR",
        "outputId": "57e0bf49-aa79-4a6f-b8a4-4209deb5d059"
      },
      "source": [
        "real.columns"
      ],
      "execution_count": 311,
      "outputs": [
        {
          "output_type": "execute_result",
          "data": {
            "text/plain": [
              "Index(['title', 'text', 'subject', 'date'], dtype='object')"
            ]
          },
          "metadata": {
            "tags": []
          },
          "execution_count": 311
        }
      ]
    },
    {
      "cell_type": "code",
      "metadata": {
        "colab": {
          "base_uri": "https://localhost:8080/",
          "height": 0
        },
        "id": "bby4MYKGlNMQ",
        "outputId": "02bb3a16-6f41-42bf-b60d-caa28d1956b0"
      },
      "source": [
        "cols = ['title', 'text', 'subject', 'date']\n",
        "real = real[cols]\n",
        "for col in cols:\n",
        "  real[col] = real[col].str.strip()\n",
        "real.head(2)"
      ],
      "execution_count": 312,
      "outputs": [
        {
          "output_type": "execute_result",
          "data": {
            "text/html": [
              "<div>\n",
              "<style scoped>\n",
              "    .dataframe tbody tr th:only-of-type {\n",
              "        vertical-align: middle;\n",
              "    }\n",
              "\n",
              "    .dataframe tbody tr th {\n",
              "        vertical-align: top;\n",
              "    }\n",
              "\n",
              "    .dataframe thead th {\n",
              "        text-align: right;\n",
              "    }\n",
              "</style>\n",
              "<table border=\"1\" class=\"dataframe\">\n",
              "  <thead>\n",
              "    <tr style=\"text-align: right;\">\n",
              "      <th></th>\n",
              "      <th>title</th>\n",
              "      <th>text</th>\n",
              "      <th>subject</th>\n",
              "      <th>date</th>\n",
              "    </tr>\n",
              "  </thead>\n",
              "  <tbody>\n",
              "    <tr>\n",
              "      <th>0</th>\n",
              "      <td>As U.S. budget fight looms, Republicans flip their fiscal script</td>\n",
              "      <td>WASHINGTON (Reuters) - The head of a conservative Republican faction in the U.S. Congress, who voted this month for a huge expansion of the national debt to pay for tax cuts, called himself a “fiscal conservative” on Sunday and urged budget restraint in 2018. In keeping with a sharp pivot under way among Republicans, U.S. Representative Mark Meadows, speaking on CBS’ “Face the Nation,” drew a hard line on federal spending, which lawmakers are bracing to do battle over in January. When they return from the holidays on Wednesday, lawmakers will begin trying to pass a federal budget in a fight likely to be linked to other issues, such as immigration policy, even as the November congressional election campaigns approach in which Republicans will seek to keep control of Congress. President Donald Trump and his Republicans want a big budget increase in military spending, while Democrats also want proportional increases for non-defense “discretionary” spending on programs that support education, scientific research, infrastructure, public health and environmental protection. “The (Trump) administration has already been willing to say: ‘We’re going to increase non-defense discretionary spending ... by about 7 percent,’” Meadows, chairman of the small but influential House Freedom Caucus, said on the program. “Now, Democrats are saying that’s not enough, we need to give the government a pay raise of 10 to 11 percent. For a fiscal conservative, I don’t see where the rationale is. ... Eventually you run out of other people’s money,” he said. Meadows was among Republicans who voted in late December for their party’s debt-financed tax overhaul, which is expected to balloon the federal budget deficit and add about $1.5 trillion over 10 years to the $20 trillion national debt. “It’s interesting to hear Mark talk about fiscal responsibility,” Democratic U.S. Representative Joseph Crowley said on CBS. Crowley said the Republican tax bill would require the  United States to borrow $1.5 trillion, to be paid off by future generations, to finance tax cuts for corporations and the rich. “This is one of the least ... fiscally responsible bills we’ve ever seen passed in the history of the House of Representatives. I think we’re going to be paying for this for many, many years to come,” Crowley said. Republicans insist the tax package, the biggest U.S. tax overhaul in more than 30 years,  will boost the economy and job growth. House Speaker Paul Ryan, who also supported the tax bill, recently went further than Meadows, making clear in a radio interview that welfare or “entitlement reform,” as the party often calls it, would be a top Republican priority in 2018. In Republican parlance, “entitlement” programs mean food stamps, housing assistance, Medicare and Medicaid health insurance for the elderly, poor and disabled, as well as other programs created by Washington to assist the needy. Democrats seized on Ryan’s early December remarks, saying they showed Republicans would try to pay for their tax overhaul by seeking spending cuts for social programs. But the goals of House Republicans may have to take a back seat to the Senate, where the votes of some Democrats will be needed to approve a budget and prevent a government shutdown. Democrats will use their leverage in the Senate, which Republicans narrowly control, to defend both discretionary non-defense programs and social spending, while tackling the issue of the “Dreamers,” people brought illegally to the country as children. Trump in September put a March 2018 expiration date on the Deferred Action for Childhood Arrivals, or DACA, program, which protects the young immigrants from deportation and provides them with work permits. The president has said in recent Twitter messages he wants funding for his proposed Mexican border wall and other immigration law changes in exchange for agreeing to help the Dreamers. Representative Debbie Dingell told CBS she did not favor linking that issue to other policy objectives, such as wall funding. “We need to do DACA clean,” she said.  On Wednesday, Trump aides will meet with congressional leaders to discuss those issues. That will be followed by a weekend of strategy sessions for Trump and Republican leaders on Jan. 6 and 7, the White House said. Trump was also scheduled to meet on Sunday with Florida Republican Governor Rick Scott, who wants more emergency aid. The House has passed an $81 billion aid package after hurricanes in Florida, Texas and Puerto Rico, and wildfires in California. The package far exceeded the $44 billion requested by the Trump administration. The Senate has not yet voted on the aid.</td>\n",
              "      <td>politicsNews</td>\n",
              "      <td>December 31, 2017</td>\n",
              "    </tr>\n",
              "    <tr>\n",
              "      <th>1</th>\n",
              "      <td>U.S. military to accept transgender recruits on Monday: Pentagon</td>\n",
              "      <td>WASHINGTON (Reuters) - Transgender people will be allowed for the first time to enlist in the U.S. military starting on Monday as ordered by federal courts, the Pentagon said on Friday, after President Donald Trump’s administration decided not to appeal rulings that blocked his transgender ban. Two federal appeals courts, one in Washington and one in Virginia, last week rejected the administration’s request to put on hold orders by lower court judges requiring the military to begin accepting transgender recruits on Jan. 1. A Justice Department official said the administration will not challenge those rulings. “The Department of Defense has announced that it will be releasing an independent study of these issues in the coming weeks. So rather than litigate this interim appeal before that occurs, the administration has decided to wait for DOD’s study and will continue to defend the president’s lawful authority in District Court in the meantime,” the official said, speaking on condition of anonymity. In September, the Pentagon said it had created a panel of senior officials to study how to implement a directive by Trump to prohibit transgender individuals from serving. The Defense Department has until Feb. 21 to submit a plan to Trump. Lawyers representing currently-serving transgender service members and aspiring recruits said they had expected the administration to appeal the rulings to the conservative-majority Supreme Court, but were hoping that would not happen. Pentagon spokeswoman Heather Babb said in a statement: “As mandated by court order, the Department of Defense is prepared to begin accessing transgender applicants for military service Jan. 1. All applicants must meet all accession standards.” Jennifer Levi, a lawyer with gay, lesbian and transgender advocacy group GLAD, called the decision not to appeal “great news.” “I’m hoping it means the government has come to see that there is no way to justify a ban and that it’s not good for the military or our country,” Levi said. Both GLAD and the American Civil Liberties Union represent plaintiffs in the lawsuits filed against the administration. In a move that appealed to his hard-line conservative supporters, Trump announced in July that he would prohibit transgender people from serving in the military, reversing Democratic President Barack Obama’s policy of accepting them. Trump said on Twitter at the time that the military “cannot be burdened with the tremendous medical costs and disruption that transgender in the military would entail.” Four federal judges - in Baltimore, Washington, D.C., Seattle and Riverside, California - have issued rulings blocking Trump’s ban while legal challenges to the Republican president’s policy proceed. The judges said the ban would likely violate the right under the U.S. Constitution to equal protection under the law. The Pentagon on Dec. 8 issued guidelines to recruitment personnel in order to enlist transgender applicants by Jan. 1. The memo outlined medical requirements and specified how the applicants’ sex would be identified and even which undergarments they would wear. The Trump administration previously said in legal papers that the armed forces were not prepared to train thousands of personnel on the medical standards needed to process transgender applicants and might have to accept “some individuals who are not medically fit for service.” The Obama administration had set a deadline of July 1, 2017, to begin accepting transgender recruits. But Trump’s defense secretary, James Mattis, postponed that date to Jan. 1, 2018, which the president’s ban then put off indefinitely. Trump has taken other steps aimed at rolling back transgender rights. In October, his administration said a federal law banning gender-based workplace discrimination does not protect transgender employees, reversing another Obama-era position. In February, Trump rescinded guidance issued by the Obama administration saying that public schools should allow transgender students to use the restroom that corresponds to their gender identity.</td>\n",
              "      <td>politicsNews</td>\n",
              "      <td>December 29, 2017</td>\n",
              "    </tr>\n",
              "  </tbody>\n",
              "</table>\n",
              "</div>"
            ],
            "text/plain": [
              "                                                              title  ...               date\n",
              "0  As U.S. budget fight looms, Republicans flip their fiscal script  ...  December 31, 2017\n",
              "1  U.S. military to accept transgender recruits on Monday: Pentagon  ...  December 29, 2017\n",
              "\n",
              "[2 rows x 4 columns]"
            ]
          },
          "metadata": {
            "tags": []
          },
          "execution_count": 312
        }
      ]
    },
    {
      "cell_type": "code",
      "metadata": {
        "colab": {
          "base_uri": "https://localhost:8080/",
          "height": 0
        },
        "id": "KJ5nu2BhlNzW",
        "outputId": "f7a64fd8-be5b-4995-a20b-504cf75a758b"
      },
      "source": [
        "fake = fake[cols]\n",
        "for col in cols:\n",
        "  fake[col] = fake[col].str.strip()\n",
        "fake.head(2)\n"
      ],
      "execution_count": 313,
      "outputs": [
        {
          "output_type": "execute_result",
          "data": {
            "text/html": [
              "<div>\n",
              "<style scoped>\n",
              "    .dataframe tbody tr th:only-of-type {\n",
              "        vertical-align: middle;\n",
              "    }\n",
              "\n",
              "    .dataframe tbody tr th {\n",
              "        vertical-align: top;\n",
              "    }\n",
              "\n",
              "    .dataframe thead th {\n",
              "        text-align: right;\n",
              "    }\n",
              "</style>\n",
              "<table border=\"1\" class=\"dataframe\">\n",
              "  <thead>\n",
              "    <tr style=\"text-align: right;\">\n",
              "      <th></th>\n",
              "      <th>title</th>\n",
              "      <th>text</th>\n",
              "      <th>subject</th>\n",
              "      <th>date</th>\n",
              "    </tr>\n",
              "  </thead>\n",
              "  <tbody>\n",
              "    <tr>\n",
              "      <th>0</th>\n",
              "      <td>Donald Trump Sends Out Embarrassing New Year’s Eve Message; This is Disturbing</td>\n",
              "      <td>Donald Trump just couldn t wish all Americans a Happy New Year and leave it at that. Instead, he had to give a shout out to his enemies, haters and  the very dishonest fake news media.  The former reality show star had just one job to do and he couldn t do it. As our Country rapidly grows stronger and smarter, I want to wish all of my friends, supporters, enemies, haters, and even the very dishonest Fake News Media, a Happy and Healthy New Year,  President Angry Pants tweeted.  2018 will be a great year for America! As our Country rapidly grows stronger and smarter, I want to wish all of my friends, supporters, enemies, haters, and even the very dishonest Fake News Media, a Happy and Healthy New Year. 2018 will be a great year for America!  Donald J. Trump (@realDonaldTrump) December 31, 2017Trump s tweet went down about as welll as you d expect.What kind of president sends a New Year s greeting like this despicable, petty, infantile gibberish? Only Trump! His lack of decency won t even allow him to rise above the gutter long enough to wish the American citizens a happy new year!  Bishop Talbert Swan (@TalbertSwan) December 31, 2017no one likes you  Calvin (@calvinstowell) December 31, 2017Your impeachment would make 2018 a great year for America, but I ll also accept regaining control of Congress.  Miranda Yaver (@mirandayaver) December 31, 2017Do you hear yourself talk? When you have to include that many people that hate you you have to wonder? Why do the they all hate me?  Alan Sandoval (@AlanSandoval13) December 31, 2017Who uses the word Haters in a New Years wish??  Marlene (@marlene399) December 31, 2017You can t just say happy new year?  Koren pollitt (@Korencarpenter) December 31, 2017Here s Trump s New Year s Eve tweet from 2016.Happy New Year to all, including to my many enemies and those who have fought me and lost so badly they just don t know what to do. Love!  Donald J. Trump (@realDonaldTrump) December 31, 2016This is nothing new for Trump. He s been doing this for years.Trump has directed messages to his  enemies  and  haters  for New Year s, Easter, Thanksgiving, and the anniversary of 9/11. pic.twitter.com/4FPAe2KypA  Daniel Dale (@ddale8) December 31, 2017Trump s holiday tweets are clearly not presidential.How long did he work at Hallmark before becoming President?  Steven Goodine (@SGoodine) December 31, 2017He s always been like this . . . the only difference is that in the last few years, his filter has been breaking down.  Roy Schulze (@thbthttt) December 31, 2017Who, apart from a teenager uses the term haters?  Wendy (@WendyWhistles) December 31, 2017he s a fucking 5 year old  Who Knows (@rainyday80) December 31, 2017So, to all the people who voted for this a hole thinking he would change once he got into power, you were wrong! 70-year-old men don t change and now he s a year older.Photo by Andrew Burton/Getty Images.</td>\n",
              "      <td>News</td>\n",
              "      <td>December 31, 2017</td>\n",
              "    </tr>\n",
              "    <tr>\n",
              "      <th>1</th>\n",
              "      <td>Drunk Bragging Trump Staffer Started Russian Collusion Investigation</td>\n",
              "      <td>House Intelligence Committee Chairman Devin Nunes is going to have a bad day. He s been under the assumption, like many of us, that the Christopher Steele-dossier was what prompted the Russia investigation so he s been lashing out at the Department of Justice and the FBI in order to protect Trump. As it happens, the dossier is not what started the investigation, according to documents obtained by the New York Times.Former Trump campaign adviser George Papadopoulos was drunk in a wine bar when he revealed knowledge of Russian opposition research on Hillary Clinton.On top of that, Papadopoulos wasn t just a covfefe boy for Trump, as his administration has alleged. He had a much larger role, but none so damning as being a drunken fool in a wine bar. Coffee boys  don t help to arrange a New York meeting between Trump and President Abdel Fattah el-Sisi of Egypt two months before the election. It was known before that the former aide set up meetings with world leaders for Trump, but team Trump ran with him being merely a coffee boy.In May 2016, Papadopoulos revealed to Australian diplomat Alexander Downer that Russian officials were shopping around possible dirt on then-Democratic presidential nominee Hillary Clinton. Exactly how much Mr. Papadopoulos said that night at the Kensington Wine Rooms with the Australian, Alexander Downer, is unclear,  the report states.  But two months later, when leaked Democratic emails began appearing online, Australian officials passed the information about Mr. Papadopoulos to their American counterparts, according to four current and former American and foreign officials with direct knowledge of the Australians  role. Papadopoulos pleaded guilty to lying to the F.B.I. and is now a cooperating witness with Special Counsel Robert Mueller s team.This isn t a presidency. It s a badly scripted reality TV show.Photo by Win McNamee/Getty Images.</td>\n",
              "      <td>News</td>\n",
              "      <td>December 31, 2017</td>\n",
              "    </tr>\n",
              "  </tbody>\n",
              "</table>\n",
              "</div>"
            ],
            "text/plain": [
              "                                                                            title  ...               date\n",
              "0  Donald Trump Sends Out Embarrassing New Year’s Eve Message; This is Disturbing  ...  December 31, 2017\n",
              "1            Drunk Bragging Trump Staffer Started Russian Collusion Investigation  ...  December 31, 2017\n",
              "\n",
              "[2 rows x 4 columns]"
            ]
          },
          "metadata": {
            "tags": []
          },
          "execution_count": 313
        }
      ]
    },
    {
      "cell_type": "code",
      "metadata": {
        "id": "d3l5-e56qBVW"
      },
      "source": [
        ""
      ],
      "execution_count": 313,
      "outputs": []
    },
    {
      "cell_type": "markdown",
      "metadata": {
        "id": "Lb-8emeF_yoT"
      },
      "source": [
        "# 2. Data Visualization"
      ]
    },
    {
      "cell_type": "markdown",
      "metadata": {
        "id": "TMVvJMeMgTk-"
      },
      "source": [
        "## 2.1 Print at least two texts from each class (fake & real) of the dataset"
      ]
    },
    {
      "cell_type": "code",
      "metadata": {
        "id": "N_nIwJp3ABM4"
      },
      "source": [
        "# Create Target based on Real and Fake data\n",
        "real['Label'] = 1\n",
        "fake['Label'] = 0"
      ],
      "execution_count": 314,
      "outputs": []
    },
    {
      "cell_type": "code",
      "metadata": {
        "id": "C7sSG13cJw7X",
        "colab": {
          "base_uri": "https://localhost:8080/",
          "height": 0
        },
        "outputId": "a42849de-648a-40e3-bd1a-f948e6cdab7f"
      },
      "source": [
        "pd.set_option('display.max_colwidth', None)\n",
        "real.iloc[[0,1],[1,2]]"
      ],
      "execution_count": 315,
      "outputs": [
        {
          "output_type": "execute_result",
          "data": {
            "text/html": [
              "<div>\n",
              "<style scoped>\n",
              "    .dataframe tbody tr th:only-of-type {\n",
              "        vertical-align: middle;\n",
              "    }\n",
              "\n",
              "    .dataframe tbody tr th {\n",
              "        vertical-align: top;\n",
              "    }\n",
              "\n",
              "    .dataframe thead th {\n",
              "        text-align: right;\n",
              "    }\n",
              "</style>\n",
              "<table border=\"1\" class=\"dataframe\">\n",
              "  <thead>\n",
              "    <tr style=\"text-align: right;\">\n",
              "      <th></th>\n",
              "      <th>text</th>\n",
              "      <th>subject</th>\n",
              "    </tr>\n",
              "  </thead>\n",
              "  <tbody>\n",
              "    <tr>\n",
              "      <th>0</th>\n",
              "      <td>WASHINGTON (Reuters) - The head of a conservative Republican faction in the U.S. Congress, who voted this month for a huge expansion of the national debt to pay for tax cuts, called himself a “fiscal conservative” on Sunday and urged budget restraint in 2018. In keeping with a sharp pivot under way among Republicans, U.S. Representative Mark Meadows, speaking on CBS’ “Face the Nation,” drew a hard line on federal spending, which lawmakers are bracing to do battle over in January. When they return from the holidays on Wednesday, lawmakers will begin trying to pass a federal budget in a fight likely to be linked to other issues, such as immigration policy, even as the November congressional election campaigns approach in which Republicans will seek to keep control of Congress. President Donald Trump and his Republicans want a big budget increase in military spending, while Democrats also want proportional increases for non-defense “discretionary” spending on programs that support education, scientific research, infrastructure, public health and environmental protection. “The (Trump) administration has already been willing to say: ‘We’re going to increase non-defense discretionary spending ... by about 7 percent,’” Meadows, chairman of the small but influential House Freedom Caucus, said on the program. “Now, Democrats are saying that’s not enough, we need to give the government a pay raise of 10 to 11 percent. For a fiscal conservative, I don’t see where the rationale is. ... Eventually you run out of other people’s money,” he said. Meadows was among Republicans who voted in late December for their party’s debt-financed tax overhaul, which is expected to balloon the federal budget deficit and add about $1.5 trillion over 10 years to the $20 trillion national debt. “It’s interesting to hear Mark talk about fiscal responsibility,” Democratic U.S. Representative Joseph Crowley said on CBS. Crowley said the Republican tax bill would require the  United States to borrow $1.5 trillion, to be paid off by future generations, to finance tax cuts for corporations and the rich. “This is one of the least ... fiscally responsible bills we’ve ever seen passed in the history of the House of Representatives. I think we’re going to be paying for this for many, many years to come,” Crowley said. Republicans insist the tax package, the biggest U.S. tax overhaul in more than 30 years,  will boost the economy and job growth. House Speaker Paul Ryan, who also supported the tax bill, recently went further than Meadows, making clear in a radio interview that welfare or “entitlement reform,” as the party often calls it, would be a top Republican priority in 2018. In Republican parlance, “entitlement” programs mean food stamps, housing assistance, Medicare and Medicaid health insurance for the elderly, poor and disabled, as well as other programs created by Washington to assist the needy. Democrats seized on Ryan’s early December remarks, saying they showed Republicans would try to pay for their tax overhaul by seeking spending cuts for social programs. But the goals of House Republicans may have to take a back seat to the Senate, where the votes of some Democrats will be needed to approve a budget and prevent a government shutdown. Democrats will use their leverage in the Senate, which Republicans narrowly control, to defend both discretionary non-defense programs and social spending, while tackling the issue of the “Dreamers,” people brought illegally to the country as children. Trump in September put a March 2018 expiration date on the Deferred Action for Childhood Arrivals, or DACA, program, which protects the young immigrants from deportation and provides them with work permits. The president has said in recent Twitter messages he wants funding for his proposed Mexican border wall and other immigration law changes in exchange for agreeing to help the Dreamers. Representative Debbie Dingell told CBS she did not favor linking that issue to other policy objectives, such as wall funding. “We need to do DACA clean,” she said.  On Wednesday, Trump aides will meet with congressional leaders to discuss those issues. That will be followed by a weekend of strategy sessions for Trump and Republican leaders on Jan. 6 and 7, the White House said. Trump was also scheduled to meet on Sunday with Florida Republican Governor Rick Scott, who wants more emergency aid. The House has passed an $81 billion aid package after hurricanes in Florida, Texas and Puerto Rico, and wildfires in California. The package far exceeded the $44 billion requested by the Trump administration. The Senate has not yet voted on the aid.</td>\n",
              "      <td>politicsNews</td>\n",
              "    </tr>\n",
              "    <tr>\n",
              "      <th>1</th>\n",
              "      <td>WASHINGTON (Reuters) - Transgender people will be allowed for the first time to enlist in the U.S. military starting on Monday as ordered by federal courts, the Pentagon said on Friday, after President Donald Trump’s administration decided not to appeal rulings that blocked his transgender ban. Two federal appeals courts, one in Washington and one in Virginia, last week rejected the administration’s request to put on hold orders by lower court judges requiring the military to begin accepting transgender recruits on Jan. 1. A Justice Department official said the administration will not challenge those rulings. “The Department of Defense has announced that it will be releasing an independent study of these issues in the coming weeks. So rather than litigate this interim appeal before that occurs, the administration has decided to wait for DOD’s study and will continue to defend the president’s lawful authority in District Court in the meantime,” the official said, speaking on condition of anonymity. In September, the Pentagon said it had created a panel of senior officials to study how to implement a directive by Trump to prohibit transgender individuals from serving. The Defense Department has until Feb. 21 to submit a plan to Trump. Lawyers representing currently-serving transgender service members and aspiring recruits said they had expected the administration to appeal the rulings to the conservative-majority Supreme Court, but were hoping that would not happen. Pentagon spokeswoman Heather Babb said in a statement: “As mandated by court order, the Department of Defense is prepared to begin accessing transgender applicants for military service Jan. 1. All applicants must meet all accession standards.” Jennifer Levi, a lawyer with gay, lesbian and transgender advocacy group GLAD, called the decision not to appeal “great news.” “I’m hoping it means the government has come to see that there is no way to justify a ban and that it’s not good for the military or our country,” Levi said. Both GLAD and the American Civil Liberties Union represent plaintiffs in the lawsuits filed against the administration. In a move that appealed to his hard-line conservative supporters, Trump announced in July that he would prohibit transgender people from serving in the military, reversing Democratic President Barack Obama’s policy of accepting them. Trump said on Twitter at the time that the military “cannot be burdened with the tremendous medical costs and disruption that transgender in the military would entail.” Four federal judges - in Baltimore, Washington, D.C., Seattle and Riverside, California - have issued rulings blocking Trump’s ban while legal challenges to the Republican president’s policy proceed. The judges said the ban would likely violate the right under the U.S. Constitution to equal protection under the law. The Pentagon on Dec. 8 issued guidelines to recruitment personnel in order to enlist transgender applicants by Jan. 1. The memo outlined medical requirements and specified how the applicants’ sex would be identified and even which undergarments they would wear. The Trump administration previously said in legal papers that the armed forces were not prepared to train thousands of personnel on the medical standards needed to process transgender applicants and might have to accept “some individuals who are not medically fit for service.” The Obama administration had set a deadline of July 1, 2017, to begin accepting transgender recruits. But Trump’s defense secretary, James Mattis, postponed that date to Jan. 1, 2018, which the president’s ban then put off indefinitely. Trump has taken other steps aimed at rolling back transgender rights. In October, his administration said a federal law banning gender-based workplace discrimination does not protect transgender employees, reversing another Obama-era position. In February, Trump rescinded guidance issued by the Obama administration saying that public schools should allow transgender students to use the restroom that corresponds to their gender identity.</td>\n",
              "      <td>politicsNews</td>\n",
              "    </tr>\n",
              "  </tbody>\n",
              "</table>\n",
              "</div>"
            ],
            "text/plain": [
              "                                                                                                                                                                                                                                                                                                                                                                                                                                                                                                                                                                                                                                                                                                                                                                                                                                                                                                                                                                                                                                                                                                                                                                                                                                                                                                                                                                                                                                                                                                                                                                                                                                                                                                                                                                                                                                                                                                                                                                                                                                                                                                                                                                                                                                                                                                                                                                                                                                                                                                                                                                                                                                                                                                                                                                                                                                                                                                                                                                                                                                                                                                                                                                                                                                                                                                                                                                                                                                                                                                                                                                                                                                                                                                                                                                                                                                                                                                                                                                                                                                                                                                                                                                                                                                                                                                                                                                                                                                                                                                                                                                                                                                                                                                                                                                                                                                                 text       subject\n",
              "0  WASHINGTON (Reuters) - The head of a conservative Republican faction in the U.S. Congress, who voted this month for a huge expansion of the national debt to pay for tax cuts, called himself a “fiscal conservative” on Sunday and urged budget restraint in 2018. In keeping with a sharp pivot under way among Republicans, U.S. Representative Mark Meadows, speaking on CBS’ “Face the Nation,” drew a hard line on federal spending, which lawmakers are bracing to do battle over in January. When they return from the holidays on Wednesday, lawmakers will begin trying to pass a federal budget in a fight likely to be linked to other issues, such as immigration policy, even as the November congressional election campaigns approach in which Republicans will seek to keep control of Congress. President Donald Trump and his Republicans want a big budget increase in military spending, while Democrats also want proportional increases for non-defense “discretionary” spending on programs that support education, scientific research, infrastructure, public health and environmental protection. “The (Trump) administration has already been willing to say: ‘We’re going to increase non-defense discretionary spending ... by about 7 percent,’” Meadows, chairman of the small but influential House Freedom Caucus, said on the program. “Now, Democrats are saying that’s not enough, we need to give the government a pay raise of 10 to 11 percent. For a fiscal conservative, I don’t see where the rationale is. ... Eventually you run out of other people’s money,” he said. Meadows was among Republicans who voted in late December for their party’s debt-financed tax overhaul, which is expected to balloon the federal budget deficit and add about $1.5 trillion over 10 years to the $20 trillion national debt. “It’s interesting to hear Mark talk about fiscal responsibility,” Democratic U.S. Representative Joseph Crowley said on CBS. Crowley said the Republican tax bill would require the  United States to borrow $1.5 trillion, to be paid off by future generations, to finance tax cuts for corporations and the rich. “This is one of the least ... fiscally responsible bills we’ve ever seen passed in the history of the House of Representatives. I think we’re going to be paying for this for many, many years to come,” Crowley said. Republicans insist the tax package, the biggest U.S. tax overhaul in more than 30 years,  will boost the economy and job growth. House Speaker Paul Ryan, who also supported the tax bill, recently went further than Meadows, making clear in a radio interview that welfare or “entitlement reform,” as the party often calls it, would be a top Republican priority in 2018. In Republican parlance, “entitlement” programs mean food stamps, housing assistance, Medicare and Medicaid health insurance for the elderly, poor and disabled, as well as other programs created by Washington to assist the needy. Democrats seized on Ryan’s early December remarks, saying they showed Republicans would try to pay for their tax overhaul by seeking spending cuts for social programs. But the goals of House Republicans may have to take a back seat to the Senate, where the votes of some Democrats will be needed to approve a budget and prevent a government shutdown. Democrats will use their leverage in the Senate, which Republicans narrowly control, to defend both discretionary non-defense programs and social spending, while tackling the issue of the “Dreamers,” people brought illegally to the country as children. Trump in September put a March 2018 expiration date on the Deferred Action for Childhood Arrivals, or DACA, program, which protects the young immigrants from deportation and provides them with work permits. The president has said in recent Twitter messages he wants funding for his proposed Mexican border wall and other immigration law changes in exchange for agreeing to help the Dreamers. Representative Debbie Dingell told CBS she did not favor linking that issue to other policy objectives, such as wall funding. “We need to do DACA clean,” she said.  On Wednesday, Trump aides will meet with congressional leaders to discuss those issues. That will be followed by a weekend of strategy sessions for Trump and Republican leaders on Jan. 6 and 7, the White House said. Trump was also scheduled to meet on Sunday with Florida Republican Governor Rick Scott, who wants more emergency aid. The House has passed an $81 billion aid package after hurricanes in Florida, Texas and Puerto Rico, and wildfires in California. The package far exceeded the $44 billion requested by the Trump administration. The Senate has not yet voted on the aid.  politicsNews\n",
              "1                                                                                                                                                                                                                                                                                                                                                                                                                                                                                                                                                                                                        WASHINGTON (Reuters) - Transgender people will be allowed for the first time to enlist in the U.S. military starting on Monday as ordered by federal courts, the Pentagon said on Friday, after President Donald Trump’s administration decided not to appeal rulings that blocked his transgender ban. Two federal appeals courts, one in Washington and one in Virginia, last week rejected the administration’s request to put on hold orders by lower court judges requiring the military to begin accepting transgender recruits on Jan. 1. A Justice Department official said the administration will not challenge those rulings. “The Department of Defense has announced that it will be releasing an independent study of these issues in the coming weeks. So rather than litigate this interim appeal before that occurs, the administration has decided to wait for DOD’s study and will continue to defend the president’s lawful authority in District Court in the meantime,” the official said, speaking on condition of anonymity. In September, the Pentagon said it had created a panel of senior officials to study how to implement a directive by Trump to prohibit transgender individuals from serving. The Defense Department has until Feb. 21 to submit a plan to Trump. Lawyers representing currently-serving transgender service members and aspiring recruits said they had expected the administration to appeal the rulings to the conservative-majority Supreme Court, but were hoping that would not happen. Pentagon spokeswoman Heather Babb said in a statement: “As mandated by court order, the Department of Defense is prepared to begin accessing transgender applicants for military service Jan. 1. All applicants must meet all accession standards.” Jennifer Levi, a lawyer with gay, lesbian and transgender advocacy group GLAD, called the decision not to appeal “great news.” “I’m hoping it means the government has come to see that there is no way to justify a ban and that it’s not good for the military or our country,” Levi said. Both GLAD and the American Civil Liberties Union represent plaintiffs in the lawsuits filed against the administration. In a move that appealed to his hard-line conservative supporters, Trump announced in July that he would prohibit transgender people from serving in the military, reversing Democratic President Barack Obama’s policy of accepting them. Trump said on Twitter at the time that the military “cannot be burdened with the tremendous medical costs and disruption that transgender in the military would entail.” Four federal judges - in Baltimore, Washington, D.C., Seattle and Riverside, California - have issued rulings blocking Trump’s ban while legal challenges to the Republican president’s policy proceed. The judges said the ban would likely violate the right under the U.S. Constitution to equal protection under the law. The Pentagon on Dec. 8 issued guidelines to recruitment personnel in order to enlist transgender applicants by Jan. 1. The memo outlined medical requirements and specified how the applicants’ sex would be identified and even which undergarments they would wear. The Trump administration previously said in legal papers that the armed forces were not prepared to train thousands of personnel on the medical standards needed to process transgender applicants and might have to accept “some individuals who are not medically fit for service.” The Obama administration had set a deadline of July 1, 2017, to begin accepting transgender recruits. But Trump’s defense secretary, James Mattis, postponed that date to Jan. 1, 2018, which the president’s ban then put off indefinitely. Trump has taken other steps aimed at rolling back transgender rights. In October, his administration said a federal law banning gender-based workplace discrimination does not protect transgender employees, reversing another Obama-era position. In February, Trump rescinded guidance issued by the Obama administration saying that public schools should allow transgender students to use the restroom that corresponds to their gender identity.  politicsNews"
            ]
          },
          "metadata": {
            "tags": []
          },
          "execution_count": 315
        }
      ]
    },
    {
      "cell_type": "code",
      "metadata": {
        "id": "GqcadsloemZ5",
        "colab": {
          "base_uri": "https://localhost:8080/",
          "height": 0
        },
        "outputId": "e0d1630c-0a0f-4c84-b8dd-0244aa3792aa"
      },
      "source": [
        "fake.iloc[[0,1],[1,2]]"
      ],
      "execution_count": 316,
      "outputs": [
        {
          "output_type": "execute_result",
          "data": {
            "text/html": [
              "<div>\n",
              "<style scoped>\n",
              "    .dataframe tbody tr th:only-of-type {\n",
              "        vertical-align: middle;\n",
              "    }\n",
              "\n",
              "    .dataframe tbody tr th {\n",
              "        vertical-align: top;\n",
              "    }\n",
              "\n",
              "    .dataframe thead th {\n",
              "        text-align: right;\n",
              "    }\n",
              "</style>\n",
              "<table border=\"1\" class=\"dataframe\">\n",
              "  <thead>\n",
              "    <tr style=\"text-align: right;\">\n",
              "      <th></th>\n",
              "      <th>text</th>\n",
              "      <th>subject</th>\n",
              "    </tr>\n",
              "  </thead>\n",
              "  <tbody>\n",
              "    <tr>\n",
              "      <th>0</th>\n",
              "      <td>Donald Trump just couldn t wish all Americans a Happy New Year and leave it at that. Instead, he had to give a shout out to his enemies, haters and  the very dishonest fake news media.  The former reality show star had just one job to do and he couldn t do it. As our Country rapidly grows stronger and smarter, I want to wish all of my friends, supporters, enemies, haters, and even the very dishonest Fake News Media, a Happy and Healthy New Year,  President Angry Pants tweeted.  2018 will be a great year for America! As our Country rapidly grows stronger and smarter, I want to wish all of my friends, supporters, enemies, haters, and even the very dishonest Fake News Media, a Happy and Healthy New Year. 2018 will be a great year for America!  Donald J. Trump (@realDonaldTrump) December 31, 2017Trump s tweet went down about as welll as you d expect.What kind of president sends a New Year s greeting like this despicable, petty, infantile gibberish? Only Trump! His lack of decency won t even allow him to rise above the gutter long enough to wish the American citizens a happy new year!  Bishop Talbert Swan (@TalbertSwan) December 31, 2017no one likes you  Calvin (@calvinstowell) December 31, 2017Your impeachment would make 2018 a great year for America, but I ll also accept regaining control of Congress.  Miranda Yaver (@mirandayaver) December 31, 2017Do you hear yourself talk? When you have to include that many people that hate you you have to wonder? Why do the they all hate me?  Alan Sandoval (@AlanSandoval13) December 31, 2017Who uses the word Haters in a New Years wish??  Marlene (@marlene399) December 31, 2017You can t just say happy new year?  Koren pollitt (@Korencarpenter) December 31, 2017Here s Trump s New Year s Eve tweet from 2016.Happy New Year to all, including to my many enemies and those who have fought me and lost so badly they just don t know what to do. Love!  Donald J. Trump (@realDonaldTrump) December 31, 2016This is nothing new for Trump. He s been doing this for years.Trump has directed messages to his  enemies  and  haters  for New Year s, Easter, Thanksgiving, and the anniversary of 9/11. pic.twitter.com/4FPAe2KypA  Daniel Dale (@ddale8) December 31, 2017Trump s holiday tweets are clearly not presidential.How long did he work at Hallmark before becoming President?  Steven Goodine (@SGoodine) December 31, 2017He s always been like this . . . the only difference is that in the last few years, his filter has been breaking down.  Roy Schulze (@thbthttt) December 31, 2017Who, apart from a teenager uses the term haters?  Wendy (@WendyWhistles) December 31, 2017he s a fucking 5 year old  Who Knows (@rainyday80) December 31, 2017So, to all the people who voted for this a hole thinking he would change once he got into power, you were wrong! 70-year-old men don t change and now he s a year older.Photo by Andrew Burton/Getty Images.</td>\n",
              "      <td>News</td>\n",
              "    </tr>\n",
              "    <tr>\n",
              "      <th>1</th>\n",
              "      <td>House Intelligence Committee Chairman Devin Nunes is going to have a bad day. He s been under the assumption, like many of us, that the Christopher Steele-dossier was what prompted the Russia investigation so he s been lashing out at the Department of Justice and the FBI in order to protect Trump. As it happens, the dossier is not what started the investigation, according to documents obtained by the New York Times.Former Trump campaign adviser George Papadopoulos was drunk in a wine bar when he revealed knowledge of Russian opposition research on Hillary Clinton.On top of that, Papadopoulos wasn t just a covfefe boy for Trump, as his administration has alleged. He had a much larger role, but none so damning as being a drunken fool in a wine bar. Coffee boys  don t help to arrange a New York meeting between Trump and President Abdel Fattah el-Sisi of Egypt two months before the election. It was known before that the former aide set up meetings with world leaders for Trump, but team Trump ran with him being merely a coffee boy.In May 2016, Papadopoulos revealed to Australian diplomat Alexander Downer that Russian officials were shopping around possible dirt on then-Democratic presidential nominee Hillary Clinton. Exactly how much Mr. Papadopoulos said that night at the Kensington Wine Rooms with the Australian, Alexander Downer, is unclear,  the report states.  But two months later, when leaked Democratic emails began appearing online, Australian officials passed the information about Mr. Papadopoulos to their American counterparts, according to four current and former American and foreign officials with direct knowledge of the Australians  role. Papadopoulos pleaded guilty to lying to the F.B.I. and is now a cooperating witness with Special Counsel Robert Mueller s team.This isn t a presidency. It s a badly scripted reality TV show.Photo by Win McNamee/Getty Images.</td>\n",
              "      <td>News</td>\n",
              "    </tr>\n",
              "  </tbody>\n",
              "</table>\n",
              "</div>"
            ],
            "text/plain": [
              "                                                                                                                                                                                                                                                                                                                                                                                                                                                                                                                                                                                                                                                                                                                                                                                                                                                                                                                                                                                                                                                                                                                                                                                                                                                                                                                                                                                                                                                                                                                                                                                                                                                                                                                                                                                                                                                                                                                                                                                                                                                                                                                                                                                                                                                                                                                                                                                                                                                                                                                                                                                                                                                                                                                                                                                                                                                                                                                                                                                                            text subject\n",
              "0  Donald Trump just couldn t wish all Americans a Happy New Year and leave it at that. Instead, he had to give a shout out to his enemies, haters and  the very dishonest fake news media.  The former reality show star had just one job to do and he couldn t do it. As our Country rapidly grows stronger and smarter, I want to wish all of my friends, supporters, enemies, haters, and even the very dishonest Fake News Media, a Happy and Healthy New Year,  President Angry Pants tweeted.  2018 will be a great year for America! As our Country rapidly grows stronger and smarter, I want to wish all of my friends, supporters, enemies, haters, and even the very dishonest Fake News Media, a Happy and Healthy New Year. 2018 will be a great year for America!  Donald J. Trump (@realDonaldTrump) December 31, 2017Trump s tweet went down about as welll as you d expect.What kind of president sends a New Year s greeting like this despicable, petty, infantile gibberish? Only Trump! His lack of decency won t even allow him to rise above the gutter long enough to wish the American citizens a happy new year!  Bishop Talbert Swan (@TalbertSwan) December 31, 2017no one likes you  Calvin (@calvinstowell) December 31, 2017Your impeachment would make 2018 a great year for America, but I ll also accept regaining control of Congress.  Miranda Yaver (@mirandayaver) December 31, 2017Do you hear yourself talk? When you have to include that many people that hate you you have to wonder? Why do the they all hate me?  Alan Sandoval (@AlanSandoval13) December 31, 2017Who uses the word Haters in a New Years wish??  Marlene (@marlene399) December 31, 2017You can t just say happy new year?  Koren pollitt (@Korencarpenter) December 31, 2017Here s Trump s New Year s Eve tweet from 2016.Happy New Year to all, including to my many enemies and those who have fought me and lost so badly they just don t know what to do. Love!  Donald J. Trump (@realDonaldTrump) December 31, 2016This is nothing new for Trump. He s been doing this for years.Trump has directed messages to his  enemies  and  haters  for New Year s, Easter, Thanksgiving, and the anniversary of 9/11. pic.twitter.com/4FPAe2KypA  Daniel Dale (@ddale8) December 31, 2017Trump s holiday tweets are clearly not presidential.How long did he work at Hallmark before becoming President?  Steven Goodine (@SGoodine) December 31, 2017He s always been like this . . . the only difference is that in the last few years, his filter has been breaking down.  Roy Schulze (@thbthttt) December 31, 2017Who, apart from a teenager uses the term haters?  Wendy (@WendyWhistles) December 31, 2017he s a fucking 5 year old  Who Knows (@rainyday80) December 31, 2017So, to all the people who voted for this a hole thinking he would change once he got into power, you were wrong! 70-year-old men don t change and now he s a year older.Photo by Andrew Burton/Getty Images.    News\n",
              "1                                                                                                                                                                                                                                                                                                                                                                                                                                                                                                                                                                                                                                                                                                                                                                                                                                                                                                                                                                                                                                     House Intelligence Committee Chairman Devin Nunes is going to have a bad day. He s been under the assumption, like many of us, that the Christopher Steele-dossier was what prompted the Russia investigation so he s been lashing out at the Department of Justice and the FBI in order to protect Trump. As it happens, the dossier is not what started the investigation, according to documents obtained by the New York Times.Former Trump campaign adviser George Papadopoulos was drunk in a wine bar when he revealed knowledge of Russian opposition research on Hillary Clinton.On top of that, Papadopoulos wasn t just a covfefe boy for Trump, as his administration has alleged. He had a much larger role, but none so damning as being a drunken fool in a wine bar. Coffee boys  don t help to arrange a New York meeting between Trump and President Abdel Fattah el-Sisi of Egypt two months before the election. It was known before that the former aide set up meetings with world leaders for Trump, but team Trump ran with him being merely a coffee boy.In May 2016, Papadopoulos revealed to Australian diplomat Alexander Downer that Russian officials were shopping around possible dirt on then-Democratic presidential nominee Hillary Clinton. Exactly how much Mr. Papadopoulos said that night at the Kensington Wine Rooms with the Australian, Alexander Downer, is unclear,  the report states.  But two months later, when leaked Democratic emails began appearing online, Australian officials passed the information about Mr. Papadopoulos to their American counterparts, according to four current and former American and foreign officials with direct knowledge of the Australians  role. Papadopoulos pleaded guilty to lying to the F.B.I. and is now a cooperating witness with Special Counsel Robert Mueller s team.This isn t a presidency. It s a badly scripted reality TV show.Photo by Win McNamee/Getty Images.    News"
            ]
          },
          "metadata": {
            "tags": []
          },
          "execution_count": 316
        }
      ]
    },
    {
      "cell_type": "code",
      "metadata": {
        "id": "X0ILQOTU_jMr",
        "colab": {
          "base_uri": "https://localhost:8080/"
        },
        "outputId": "848a5f0e-a123-401f-a6b0-2a05d3bf8a21"
      },
      "source": [
        "print(real.shape)"
      ],
      "execution_count": 317,
      "outputs": [
        {
          "output_type": "stream",
          "text": [
            "(21417, 5)\n"
          ],
          "name": "stdout"
        }
      ]
    },
    {
      "cell_type": "code",
      "metadata": {
        "id": "oN_WjJANEmG2",
        "colab": {
          "base_uri": "https://localhost:8080/",
          "height": 0
        },
        "outputId": "0edc1c8b-9e06-4593-e375-a26637bc3d6d"
      },
      "source": [
        "print(fake.shape)\n",
        "fake.head()"
      ],
      "execution_count": 318,
      "outputs": [
        {
          "output_type": "stream",
          "text": [
            "(23481, 5)\n"
          ],
          "name": "stdout"
        },
        {
          "output_type": "execute_result",
          "data": {
            "text/html": [
              "<div>\n",
              "<style scoped>\n",
              "    .dataframe tbody tr th:only-of-type {\n",
              "        vertical-align: middle;\n",
              "    }\n",
              "\n",
              "    .dataframe tbody tr th {\n",
              "        vertical-align: top;\n",
              "    }\n",
              "\n",
              "    .dataframe thead th {\n",
              "        text-align: right;\n",
              "    }\n",
              "</style>\n",
              "<table border=\"1\" class=\"dataframe\">\n",
              "  <thead>\n",
              "    <tr style=\"text-align: right;\">\n",
              "      <th></th>\n",
              "      <th>title</th>\n",
              "      <th>text</th>\n",
              "      <th>subject</th>\n",
              "      <th>date</th>\n",
              "      <th>Label</th>\n",
              "    </tr>\n",
              "  </thead>\n",
              "  <tbody>\n",
              "    <tr>\n",
              "      <th>0</th>\n",
              "      <td>Donald Trump Sends Out Embarrassing New Year’s Eve Message; This is Disturbing</td>\n",
              "      <td>Donald Trump just couldn t wish all Americans a Happy New Year and leave it at that. Instead, he had to give a shout out to his enemies, haters and  the very dishonest fake news media.  The former reality show star had just one job to do and he couldn t do it. As our Country rapidly grows stronger and smarter, I want to wish all of my friends, supporters, enemies, haters, and even the very dishonest Fake News Media, a Happy and Healthy New Year,  President Angry Pants tweeted.  2018 will be a great year for America! As our Country rapidly grows stronger and smarter, I want to wish all of my friends, supporters, enemies, haters, and even the very dishonest Fake News Media, a Happy and Healthy New Year. 2018 will be a great year for America!  Donald J. Trump (@realDonaldTrump) December 31, 2017Trump s tweet went down about as welll as you d expect.What kind of president sends a New Year s greeting like this despicable, petty, infantile gibberish? Only Trump! His lack of decency won t even allow him to rise above the gutter long enough to wish the American citizens a happy new year!  Bishop Talbert Swan (@TalbertSwan) December 31, 2017no one likes you  Calvin (@calvinstowell) December 31, 2017Your impeachment would make 2018 a great year for America, but I ll also accept regaining control of Congress.  Miranda Yaver (@mirandayaver) December 31, 2017Do you hear yourself talk? When you have to include that many people that hate you you have to wonder? Why do the they all hate me?  Alan Sandoval (@AlanSandoval13) December 31, 2017Who uses the word Haters in a New Years wish??  Marlene (@marlene399) December 31, 2017You can t just say happy new year?  Koren pollitt (@Korencarpenter) December 31, 2017Here s Trump s New Year s Eve tweet from 2016.Happy New Year to all, including to my many enemies and those who have fought me and lost so badly they just don t know what to do. Love!  Donald J. Trump (@realDonaldTrump) December 31, 2016This is nothing new for Trump. He s been doing this for years.Trump has directed messages to his  enemies  and  haters  for New Year s, Easter, Thanksgiving, and the anniversary of 9/11. pic.twitter.com/4FPAe2KypA  Daniel Dale (@ddale8) December 31, 2017Trump s holiday tweets are clearly not presidential.How long did he work at Hallmark before becoming President?  Steven Goodine (@SGoodine) December 31, 2017He s always been like this . . . the only difference is that in the last few years, his filter has been breaking down.  Roy Schulze (@thbthttt) December 31, 2017Who, apart from a teenager uses the term haters?  Wendy (@WendyWhistles) December 31, 2017he s a fucking 5 year old  Who Knows (@rainyday80) December 31, 2017So, to all the people who voted for this a hole thinking he would change once he got into power, you were wrong! 70-year-old men don t change and now he s a year older.Photo by Andrew Burton/Getty Images.</td>\n",
              "      <td>News</td>\n",
              "      <td>December 31, 2017</td>\n",
              "      <td>0</td>\n",
              "    </tr>\n",
              "    <tr>\n",
              "      <th>1</th>\n",
              "      <td>Drunk Bragging Trump Staffer Started Russian Collusion Investigation</td>\n",
              "      <td>House Intelligence Committee Chairman Devin Nunes is going to have a bad day. He s been under the assumption, like many of us, that the Christopher Steele-dossier was what prompted the Russia investigation so he s been lashing out at the Department of Justice and the FBI in order to protect Trump. As it happens, the dossier is not what started the investigation, according to documents obtained by the New York Times.Former Trump campaign adviser George Papadopoulos was drunk in a wine bar when he revealed knowledge of Russian opposition research on Hillary Clinton.On top of that, Papadopoulos wasn t just a covfefe boy for Trump, as his administration has alleged. He had a much larger role, but none so damning as being a drunken fool in a wine bar. Coffee boys  don t help to arrange a New York meeting between Trump and President Abdel Fattah el-Sisi of Egypt two months before the election. It was known before that the former aide set up meetings with world leaders for Trump, but team Trump ran with him being merely a coffee boy.In May 2016, Papadopoulos revealed to Australian diplomat Alexander Downer that Russian officials were shopping around possible dirt on then-Democratic presidential nominee Hillary Clinton. Exactly how much Mr. Papadopoulos said that night at the Kensington Wine Rooms with the Australian, Alexander Downer, is unclear,  the report states.  But two months later, when leaked Democratic emails began appearing online, Australian officials passed the information about Mr. Papadopoulos to their American counterparts, according to four current and former American and foreign officials with direct knowledge of the Australians  role. Papadopoulos pleaded guilty to lying to the F.B.I. and is now a cooperating witness with Special Counsel Robert Mueller s team.This isn t a presidency. It s a badly scripted reality TV show.Photo by Win McNamee/Getty Images.</td>\n",
              "      <td>News</td>\n",
              "      <td>December 31, 2017</td>\n",
              "      <td>0</td>\n",
              "    </tr>\n",
              "    <tr>\n",
              "      <th>2</th>\n",
              "      <td>Sheriff David Clarke Becomes An Internet Joke For Threatening To Poke People ‘In The Eye’</td>\n",
              "      <td>On Friday, it was revealed that former Milwaukee Sheriff David Clarke, who was being considered for Homeland Security Secretary in Donald Trump s administration, has an email scandal of his own.In January, there was a brief run-in on a plane between Clarke and fellow passenger Dan Black, who he later had detained by the police for no reason whatsoever, except that maybe his feelings were hurt. Clarke messaged the police to stop Black after he deplaned, and now, a search warrant has been executed by the FBI to see the exchanges.Clarke is calling it fake news even though copies of the search warrant are on the Internet. I am UNINTIMIDATED by lib media attempts to smear and discredit me with their FAKE NEWS reports designed to silence me,  the former sheriff tweeted.  I will continue to poke them in the eye with a sharp stick and bitch slap these scum bags til they get it. I have been attacked by better people than them #MAGA I am UNINTIMIDATED by lib media attempts to smear and discredit me with their FAKE NEWS reports designed to silence me. I will continue to poke them in the eye with a sharp stick and bitch slap these scum bags til they get it. I have been attacked by better people than them #MAGA pic.twitter.com/XtZW5PdU2b  David A. Clarke, Jr. (@SheriffClarke) December 30, 2017He didn t stop there.BREAKING NEWS! When LYING LIB MEDIA makes up FAKE NEWS to smear me, the ANTIDOTE is go right at them. Punch them in the nose &amp; MAKE THEM TASTE THEIR OWN BLOOD. Nothing gets a bully like LYING LIB MEDIA S attention better than to give them a taste of their own blood #neverbackdown pic.twitter.com/T2NY2psHCR  David A. Clarke, Jr. (@SheriffClarke) December 30, 2017The internet called him out.This is your local newspaper and that search warrant isn t fake, and just because the chose not to file charges at the time doesn t mean they won t! Especially if you continue to lie. Months after decision not to charge Clarke, email search warrant filed https://t.co/zcbyc4Wp5b  KeithLeBlanc (@KeithLeBlanc63) December 30, 2017I just hope the rest of the Village People aren t implicated.  Kirk Ketchum (@kirkketchum) December 30, 2017Slaw, baked potatoes, or French fries? pic.twitter.com/fWfXsZupxy  ALT- Immigration   (@ALT_uscis) December 30, 2017pic.twitter.com/ymsOBLjfxU  Pendulum Swinger (@PendulumSwngr) December 30, 2017you called your police friends to stand up for you when someone made fun of your hat  Chris Jackson (@ChrisCJackson) December 30, 2017Is it me, with this masterful pshop of your hat, which I seem to never tire of. I think it s the steely resolve in your one visible eye pic.twitter.com/dWr5k8ZEZV  Chris Mohney (@chrismohney) December 30, 2017Are you indicating with your fingers how many people died in your jail? I think you re a few fingers short, dipshit  Ike Barinholtz (@ikebarinholtz) December 30, 2017ROFL. Internet tough guy with fake flair. pic.twitter.com/ulCFddhkdy  KellMeCrazy (@Kel_MoonFace) December 30, 2017You re so edgy, buddy.  Mrs. SMH (@MRSSMH2) December 30, 2017Is his break over at Applebees?  Aaron (@feltrrr2) December 30, 2017Are you trying to earn your  still relevant  badge?  CircusRebel (@CircusDrew) December 30, 2017make sure to hydrate, drink lots of water. It s rumored that prisoners can be denied water by prison officials.  Robert Klinc (@RobertKlinc1) December 30, 2017Terrill Thomas, the 38-year-old black man who died of thirst in Clarke s Milwaukee County Jail cell this April, was a victim of homicide. We just thought we should point that out. It can t be repeated enough.Photo by Spencer Platt/Getty Images.</td>\n",
              "      <td>News</td>\n",
              "      <td>December 30, 2017</td>\n",
              "      <td>0</td>\n",
              "    </tr>\n",
              "    <tr>\n",
              "      <th>3</th>\n",
              "      <td>Trump Is So Obsessed He Even Has Obama’s Name Coded Into His Website (IMAGES)</td>\n",
              "      <td>On Christmas day, Donald Trump announced that he would  be back to work  the following day, but he is golfing for the fourth day in a row. The former reality show star blasted former President Barack Obama for playing golf and now Trump is on track to outpace the number of golf games his predecessor played.Updated my tracker of Trump s appearances at Trump properties.71 rounds of golf including today s. At this pace, he ll pass Obama s first-term total by July 24 next year. https://t.co/Fg7VacxRtJ pic.twitter.com/5gEMcjQTbH  Philip Bump (@pbump) December 29, 2017 That makes what a Washington Post reporter discovered on Trump s website really weird, but everything about this administration is bizarre AF. The coding contained a reference to Obama and golf:  Unlike Obama, we are working to fix the problem   and not on the golf course.  However, the coding wasn t done correctly.The website of Donald Trump, who has spent several days in a row at the golf course, is coded to serve up the following message in the event of an internal server error: https://t.co/zrWpyMXRcz pic.twitter.com/wiQSQNNzw0  Christopher Ingraham (@_cingraham) December 28, 2017That snippet of code appears to be on all https://t.co/dkhw0AlHB4 pages, which the footer says is paid for by the RNC? pic.twitter.com/oaZDT126B3  Christopher Ingraham (@_cingraham) December 28, 2017It s also all over https://t.co/ayBlGmk65Z. As others have noted in this thread, this is weird code and it s not clear it would ever actually display, but who knows.  Christopher Ingraham (@_cingraham) December 28, 2017After the coding was called out, the reference to Obama was deleted.UPDATE: The golf error message has been removed from the Trump and GOP websites. They also fixed the javascript  =  vs  ==  problem. Still not clear when these messages would actually display, since the actual 404 (and presumably 500) page displays a different message pic.twitter.com/Z7dmyQ5smy  Christopher Ingraham (@_cingraham) December 29, 2017That suggests someone at either RNC or the Trump admin is sensitive enough to Trump s golf problem to make this issue go away quickly once people noticed. You have no idea how much I d love to see the email exchange that led us here.  Christopher Ingraham (@_cingraham) December 29, 2017 The code was f-cked up.The best part about this is that they are using the  =  (assignment) operator which means that bit of code will never get run. If you look a few lines up  errorCode  will always be  404          (@tw1trsux) December 28, 2017trump s coders can t code. Nobody is surprised.  Tim Peterson (@timrpeterson) December 28, 2017Donald Trump is obsessed with Obama that his name was even in the coding of his website while he played golf again.Photo by Joe Raedle/Getty Images.</td>\n",
              "      <td>News</td>\n",
              "      <td>December 29, 2017</td>\n",
              "      <td>0</td>\n",
              "    </tr>\n",
              "    <tr>\n",
              "      <th>4</th>\n",
              "      <td>Pope Francis Just Called Out Donald Trump During His Christmas Speech</td>\n",
              "      <td>Pope Francis used his annual Christmas Day message to rebuke Donald Trump without even mentioning his name. The Pope delivered his message just days after members of the United Nations condemned Trump s move to recognize Jerusalem as the capital of Israel. The Pontiff prayed on Monday for the  peaceful coexistence of two states within mutually agreed and internationally recognized borders. We see Jesus in the children of the Middle East who continue to suffer because of growing tensions between Israelis and Palestinians,  Francis said.  On this festive day, let us ask the Lord for peace for Jerusalem and for all the Holy Land. Let us pray that the will to resume dialogue may prevail between the parties and that a negotiated solution can finally be reached. The Pope went on to plead for acceptance of refugees who have been forced from their homes, and that is an issue Trump continues to fight against. Francis used Jesus for which there was  no place in the inn  as an analogy. Today, as the winds of war are blowing in our world and an outdated model of development continues to produce human, societal and environmental decline, Christmas invites us to focus on the sign of the Child and to recognize him in the faces of little children, especially those for whom, like Jesus,  there is no place in the inn,  he said. Jesus knows well the pain of not being welcomed and how hard it is not to have a place to lay one s head,  he added.  May our hearts not be closed as they were in the homes of Bethlehem. The Pope said that Mary and Joseph were immigrants who struggled to find a safe place to stay in Bethlehem. They had to leave their people, their home, and their land,  Francis said.  This was no comfortable or easy journey for a young couple about to have a child.   At heart, they were full of hope and expectation because of the child about to be born; yet their steps were weighed down by the uncertainties and dangers that attend those who have to leave their home behind. So many other footsteps are hidden in the footsteps of Joseph and Mary,  Francis said Sunday. We see the tracks of entire families forced to set out in our own day. We see the tracks of millions of persons who do not choose to go away, but driven from their land, leave behind their dear ones. Amen to that.Photo by Christopher Furlong/Getty Images.</td>\n",
              "      <td>News</td>\n",
              "      <td>December 25, 2017</td>\n",
              "      <td>0</td>\n",
              "    </tr>\n",
              "  </tbody>\n",
              "</table>\n",
              "</div>"
            ],
            "text/plain": [
              "                                                                                       title  ... Label\n",
              "0             Donald Trump Sends Out Embarrassing New Year’s Eve Message; This is Disturbing  ...     0\n",
              "1                       Drunk Bragging Trump Staffer Started Russian Collusion Investigation  ...     0\n",
              "2  Sheriff David Clarke Becomes An Internet Joke For Threatening To Poke People ‘In The Eye’  ...     0\n",
              "3              Trump Is So Obsessed He Even Has Obama’s Name Coded Into His Website (IMAGES)  ...     0\n",
              "4                      Pope Francis Just Called Out Donald Trump During His Christmas Speech  ...     0\n",
              "\n",
              "[5 rows x 5 columns]"
            ]
          },
          "metadata": {
            "tags": []
          },
          "execution_count": 318
        }
      ]
    },
    {
      "cell_type": "code",
      "metadata": {
        "id": "DVWg8RJ8E7n6"
      },
      "source": [
        "dataset = pd.concat([real, fake]).reset_index(drop=True)"
      ],
      "execution_count": 319,
      "outputs": []
    },
    {
      "cell_type": "code",
      "metadata": {
        "id": "dc5PE1wnFA46",
        "colab": {
          "base_uri": "https://localhost:8080/",
          "height": 0
        },
        "outputId": "8f0f95c6-a09c-46ca-9c57-411772bdddd7"
      },
      "source": [
        "print(dataset.shape)\n",
        "dataset.head()"
      ],
      "execution_count": 320,
      "outputs": [
        {
          "output_type": "stream",
          "text": [
            "(44898, 5)\n"
          ],
          "name": "stdout"
        },
        {
          "output_type": "execute_result",
          "data": {
            "text/html": [
              "<div>\n",
              "<style scoped>\n",
              "    .dataframe tbody tr th:only-of-type {\n",
              "        vertical-align: middle;\n",
              "    }\n",
              "\n",
              "    .dataframe tbody tr th {\n",
              "        vertical-align: top;\n",
              "    }\n",
              "\n",
              "    .dataframe thead th {\n",
              "        text-align: right;\n",
              "    }\n",
              "</style>\n",
              "<table border=\"1\" class=\"dataframe\">\n",
              "  <thead>\n",
              "    <tr style=\"text-align: right;\">\n",
              "      <th></th>\n",
              "      <th>title</th>\n",
              "      <th>text</th>\n",
              "      <th>subject</th>\n",
              "      <th>date</th>\n",
              "      <th>Label</th>\n",
              "    </tr>\n",
              "  </thead>\n",
              "  <tbody>\n",
              "    <tr>\n",
              "      <th>0</th>\n",
              "      <td>As U.S. budget fight looms, Republicans flip their fiscal script</td>\n",
              "      <td>WASHINGTON (Reuters) - The head of a conservative Republican faction in the U.S. Congress, who voted this month for a huge expansion of the national debt to pay for tax cuts, called himself a “fiscal conservative” on Sunday and urged budget restraint in 2018. In keeping with a sharp pivot under way among Republicans, U.S. Representative Mark Meadows, speaking on CBS’ “Face the Nation,” drew a hard line on federal spending, which lawmakers are bracing to do battle over in January. When they return from the holidays on Wednesday, lawmakers will begin trying to pass a federal budget in a fight likely to be linked to other issues, such as immigration policy, even as the November congressional election campaigns approach in which Republicans will seek to keep control of Congress. President Donald Trump and his Republicans want a big budget increase in military spending, while Democrats also want proportional increases for non-defense “discretionary” spending on programs that support education, scientific research, infrastructure, public health and environmental protection. “The (Trump) administration has already been willing to say: ‘We’re going to increase non-defense discretionary spending ... by about 7 percent,’” Meadows, chairman of the small but influential House Freedom Caucus, said on the program. “Now, Democrats are saying that’s not enough, we need to give the government a pay raise of 10 to 11 percent. For a fiscal conservative, I don’t see where the rationale is. ... Eventually you run out of other people’s money,” he said. Meadows was among Republicans who voted in late December for their party’s debt-financed tax overhaul, which is expected to balloon the federal budget deficit and add about $1.5 trillion over 10 years to the $20 trillion national debt. “It’s interesting to hear Mark talk about fiscal responsibility,” Democratic U.S. Representative Joseph Crowley said on CBS. Crowley said the Republican tax bill would require the  United States to borrow $1.5 trillion, to be paid off by future generations, to finance tax cuts for corporations and the rich. “This is one of the least ... fiscally responsible bills we’ve ever seen passed in the history of the House of Representatives. I think we’re going to be paying for this for many, many years to come,” Crowley said. Republicans insist the tax package, the biggest U.S. tax overhaul in more than 30 years,  will boost the economy and job growth. House Speaker Paul Ryan, who also supported the tax bill, recently went further than Meadows, making clear in a radio interview that welfare or “entitlement reform,” as the party often calls it, would be a top Republican priority in 2018. In Republican parlance, “entitlement” programs mean food stamps, housing assistance, Medicare and Medicaid health insurance for the elderly, poor and disabled, as well as other programs created by Washington to assist the needy. Democrats seized on Ryan’s early December remarks, saying they showed Republicans would try to pay for their tax overhaul by seeking spending cuts for social programs. But the goals of House Republicans may have to take a back seat to the Senate, where the votes of some Democrats will be needed to approve a budget and prevent a government shutdown. Democrats will use their leverage in the Senate, which Republicans narrowly control, to defend both discretionary non-defense programs and social spending, while tackling the issue of the “Dreamers,” people brought illegally to the country as children. Trump in September put a March 2018 expiration date on the Deferred Action for Childhood Arrivals, or DACA, program, which protects the young immigrants from deportation and provides them with work permits. The president has said in recent Twitter messages he wants funding for his proposed Mexican border wall and other immigration law changes in exchange for agreeing to help the Dreamers. Representative Debbie Dingell told CBS she did not favor linking that issue to other policy objectives, such as wall funding. “We need to do DACA clean,” she said.  On Wednesday, Trump aides will meet with congressional leaders to discuss those issues. That will be followed by a weekend of strategy sessions for Trump and Republican leaders on Jan. 6 and 7, the White House said. Trump was also scheduled to meet on Sunday with Florida Republican Governor Rick Scott, who wants more emergency aid. The House has passed an $81 billion aid package after hurricanes in Florida, Texas and Puerto Rico, and wildfires in California. The package far exceeded the $44 billion requested by the Trump administration. The Senate has not yet voted on the aid.</td>\n",
              "      <td>politicsNews</td>\n",
              "      <td>December 31, 2017</td>\n",
              "      <td>1</td>\n",
              "    </tr>\n",
              "    <tr>\n",
              "      <th>1</th>\n",
              "      <td>U.S. military to accept transgender recruits on Monday: Pentagon</td>\n",
              "      <td>WASHINGTON (Reuters) - Transgender people will be allowed for the first time to enlist in the U.S. military starting on Monday as ordered by federal courts, the Pentagon said on Friday, after President Donald Trump’s administration decided not to appeal rulings that blocked his transgender ban. Two federal appeals courts, one in Washington and one in Virginia, last week rejected the administration’s request to put on hold orders by lower court judges requiring the military to begin accepting transgender recruits on Jan. 1. A Justice Department official said the administration will not challenge those rulings. “The Department of Defense has announced that it will be releasing an independent study of these issues in the coming weeks. So rather than litigate this interim appeal before that occurs, the administration has decided to wait for DOD’s study and will continue to defend the president’s lawful authority in District Court in the meantime,” the official said, speaking on condition of anonymity. In September, the Pentagon said it had created a panel of senior officials to study how to implement a directive by Trump to prohibit transgender individuals from serving. The Defense Department has until Feb. 21 to submit a plan to Trump. Lawyers representing currently-serving transgender service members and aspiring recruits said they had expected the administration to appeal the rulings to the conservative-majority Supreme Court, but were hoping that would not happen. Pentagon spokeswoman Heather Babb said in a statement: “As mandated by court order, the Department of Defense is prepared to begin accessing transgender applicants for military service Jan. 1. All applicants must meet all accession standards.” Jennifer Levi, a lawyer with gay, lesbian and transgender advocacy group GLAD, called the decision not to appeal “great news.” “I’m hoping it means the government has come to see that there is no way to justify a ban and that it’s not good for the military or our country,” Levi said. Both GLAD and the American Civil Liberties Union represent plaintiffs in the lawsuits filed against the administration. In a move that appealed to his hard-line conservative supporters, Trump announced in July that he would prohibit transgender people from serving in the military, reversing Democratic President Barack Obama’s policy of accepting them. Trump said on Twitter at the time that the military “cannot be burdened with the tremendous medical costs and disruption that transgender in the military would entail.” Four federal judges - in Baltimore, Washington, D.C., Seattle and Riverside, California - have issued rulings blocking Trump’s ban while legal challenges to the Republican president’s policy proceed. The judges said the ban would likely violate the right under the U.S. Constitution to equal protection under the law. The Pentagon on Dec. 8 issued guidelines to recruitment personnel in order to enlist transgender applicants by Jan. 1. The memo outlined medical requirements and specified how the applicants’ sex would be identified and even which undergarments they would wear. The Trump administration previously said in legal papers that the armed forces were not prepared to train thousands of personnel on the medical standards needed to process transgender applicants and might have to accept “some individuals who are not medically fit for service.” The Obama administration had set a deadline of July 1, 2017, to begin accepting transgender recruits. But Trump’s defense secretary, James Mattis, postponed that date to Jan. 1, 2018, which the president’s ban then put off indefinitely. Trump has taken other steps aimed at rolling back transgender rights. In October, his administration said a federal law banning gender-based workplace discrimination does not protect transgender employees, reversing another Obama-era position. In February, Trump rescinded guidance issued by the Obama administration saying that public schools should allow transgender students to use the restroom that corresponds to their gender identity.</td>\n",
              "      <td>politicsNews</td>\n",
              "      <td>December 29, 2017</td>\n",
              "      <td>1</td>\n",
              "    </tr>\n",
              "    <tr>\n",
              "      <th>2</th>\n",
              "      <td>Senior U.S. Republican senator: 'Let Mr. Mueller do his job'</td>\n",
              "      <td>WASHINGTON (Reuters) - The special counsel investigation of links between Russia and President Trump’s 2016 election campaign should continue without interference in 2018, despite calls from some Trump administration allies and Republican lawmakers to shut it down, a prominent Republican senator said on Sunday. Lindsey Graham, who serves on the Senate armed forces and judiciary committees, said Department of Justice Special Counsel Robert Mueller needs to carry on with his Russia investigation without political interference. “This investigation will go forward. It will be an investigation conducted without political influence,” Graham said on CBS’s Face the Nation news program. “And we all need to let Mr. Mueller do his job. I think he’s the right guy at the right time.”  The question of how Russia may have interfered in the election, and how Trump’s campaign may have had links with or co-ordinated any such effort, has loomed over the White House since Trump took office in January. It shows no sign of receding as Trump prepares for his second year in power, despite intensified rhetoric from some Trump allies in recent weeks accusing Mueller’s team of bias against the Republican president. Trump himself seemed to undercut his supporters in an interview last week with the New York Times in which he said he expected Mueller was “going to be fair.”    Russia’s role in the election and the question of possible links to the Trump campaign are the focus of multiple inquiries in Washington. Three committees of the Senate and the House of Representatives are investigating, as well as Mueller, whose team in May took over an earlier probe launched by the U.S. Federal Bureau of Investigation (FBI). Several members of the Trump campaign and administration have been convicted or indicted in the investigation.  Trump and his allies deny any collusion with Russia during the campaign, and the Kremlin has denied meddling in the election. Graham said he still wants an examination of the FBI’s use of a dossier on links between Trump and Russia that was compiled by a former British spy, Christopher Steele, which prompted Trump allies and some Republicans to question Mueller’s inquiry.   On Saturday, the New York Times reported that it was not that dossier that triggered an early FBI probe, but a tip from former Trump campaign foreign policy adviser George Papadopoulos to an Australian diplomat that Russia had damaging information about former Trump rival Hillary Clinton.  “I want somebody to look at the way the Department of Justice used this dossier. It bothers me greatly the way they used it, and I want somebody to look at it,” Graham said. But he said the Russia investigation must continue. “As a matter of fact, it would hurt us if we ignored it,” he said.</td>\n",
              "      <td>politicsNews</td>\n",
              "      <td>December 31, 2017</td>\n",
              "      <td>1</td>\n",
              "    </tr>\n",
              "    <tr>\n",
              "      <th>3</th>\n",
              "      <td>FBI Russia probe helped by Australian diplomat tip-off: NYT</td>\n",
              "      <td>WASHINGTON (Reuters) - Trump campaign adviser George Papadopoulos told an Australian diplomat in May 2016 that Russia had political dirt on Democratic presidential candidate Hillary Clinton, the New York Times reported on Saturday. The conversation between Papadopoulos and the diplomat, Alexander Downer, in London was a driving factor behind the FBI’s decision to open a counter-intelligence investigation of Moscow’s contacts with the Trump campaign, the Times reported. Two months after the meeting, Australian officials passed the information that came from Papadopoulos to their American counterparts when leaked Democratic emails began appearing online, according to the newspaper, which cited four current and former U.S. and foreign officials. Besides the information from the Australians, the probe by the Federal Bureau of Investigation was also propelled by intelligence from other friendly governments, including the British and Dutch, the Times said. Papadopoulos, a Chicago-based international energy lawyer, pleaded guilty on Oct. 30 to lying to FBI agents about contacts with people who claimed to have ties to top Russian officials. It was the first criminal charge alleging links between the Trump campaign and Russia. The White House has played down the former aide’s campaign role, saying it was “extremely limited” and that any actions he took would have been on his own. The New York Times, however, reported that Papadopoulos helped set up a meeting between then-candidate Donald Trump and Egyptian President Abdel Fattah al-Sisi and edited the outline of Trump’s first major foreign policy speech in April 2016. The federal investigation, which is now being led by Special Counsel Robert Mueller, has hung over Trump’s White House since he took office almost a year ago. Some Trump allies have recently accused Mueller’s team of being biased against the Republican president. Lawyers for Papadopoulos did not immediately respond to requests by Reuters for comment. Mueller’s office declined to comment. Trump’s White House attorney, Ty Cobb, declined to comment on the New York Times report. “Out of respect for the special counsel and his process, we are not commenting on matters such as this,” he said in a statement. Mueller has charged four Trump associates, including Papadopoulos, in his investigation. Russia has denied interfering in the U.S. election and Trump has said there was no collusion between his campaign and Moscow.</td>\n",
              "      <td>politicsNews</td>\n",
              "      <td>December 30, 2017</td>\n",
              "      <td>1</td>\n",
              "    </tr>\n",
              "    <tr>\n",
              "      <th>4</th>\n",
              "      <td>Trump wants Postal Service to charge 'much more' for Amazon shipments</td>\n",
              "      <td>SEATTLE/WASHINGTON (Reuters) - President Donald Trump called on the U.S. Postal Service on Friday to charge “much more” to ship packages for Amazon (AMZN.O), picking another fight with an online retail giant he has criticized in the past.     “Why is the United States Post Office, which is losing many billions of dollars a year, while charging Amazon and others so little to deliver their packages, making Amazon richer and the Post Office dumber and poorer? Should be charging MUCH MORE!” Trump wrote on Twitter.  The president’s tweet drew fresh attention to the fragile finances of the Postal Service at a time when tens of millions of parcels have just been shipped all over the country for the holiday season.  The U.S. Postal Service, which runs at a big loss, is an independent agency within the federal government and does not receive tax dollars for operating expenses, according to its website.  Package delivery has become an increasingly important part of its business as the Internet has led to a sharp decline in the amount of first-class letters. The president does not determine postal rates. They are set by the Postal Regulatory Commission, an independent government agency with commissioners selected by the president from both political parties. That panel raised prices on packages by almost 2 percent in November.  Amazon was founded by Jeff Bezos, who remains the chief executive officer of the retail company and is the richest person in the world, according to Bloomberg News. Bezos also owns The Washington Post, a newspaper Trump has repeatedly railed against in his criticisms of the news media. In tweets over the past year, Trump has said the “Amazon Washington Post” fabricated stories. He has said Amazon does not pay sales tax, which is not true, and so hurts other retailers, part of a pattern by the former businessman and reality television host of periodically turning his ire on big American companies since he took office in January. Daniel Ives, a research analyst at GBH Insights, said Trump’s comment could be taken as a warning to the retail giant. However, he said he was not concerned for Amazon. “We do not see any price hikes in the future. However, that is a risk that Amazon is clearly aware of and (it) is building out its distribution (system) aggressively,” he said. Amazon has shown interest in the past in shifting into its own delivery service, including testing drones for deliveries. In 2015, the company spent $11.5 billion on shipping, 46 percent of its total operating expenses that year.  Amazon shares were down 0.86 percent to $1,175.90 by early afternoon. Overall, U.S. stock prices were down slightly on Friday.  Satish Jindel, president of ShipMatrix Inc, which analyzes shipping data, disputed the idea that the Postal Service charges less than United Parcel Service Inc (UPS.N) and FedEx Corp (FDX.N), the other biggest players in the parcel delivery business in the United States. Many customers get lower rates from UPS and FedEx than they would get from the post office for comparable services, he said. The Postal Service delivers about 62 percent of Amazon packages, for about 3.5 to 4 million a day during the current peak year-end holiday shipping season, Jindel said. The Seattle-based company and the post office have an agreement in which mail carriers take Amazon packages on the last leg of their journeys, from post offices to customers’ doorsteps. Amazon’s No. 2 carrier is UPS, at 21 percent, and FedEx is third, with 8 percent or so, according to Jindel. Trump’s comment tapped into a debate over whether Postal Service pricing has kept pace with the rise of e-commerce, which has flooded the mail with small packages.Private companies like UPS have long claimed the current system unfairly undercuts their business. Steve Gaut, a spokesman for UPS, noted that the company values its “productive relationship” with the postal service, but that it has filed with the Postal Regulatory Commission its concerns about the postal service’s methods for covering costs. Representatives for Amazon, the White House, the U.S. Postal Service and FedEx declined comment or were not immediately available for comment on Trump’s tweet. According to its annual report, the Postal Service lost $2.74 billion this year, and its deficit has ballooned to $61.86 billion.  While the Postal Service’s revenue for first class mail, marketing mail and periodicals is flat or declining, revenue from package delivery is up 44 percent since 2014 to $19.5 billion in the fiscal year ended Sept. 30, 2017. But it also lost about $2 billion in revenue when a temporary surcharge expired in April 2016. According to a Government Accountability Office report in February, the service is facing growing personnel expenses, particularly $73.4 billion in unfunded pension and benefits liabilities. The Postal Service has not announced any plans to cut costs. By law, the Postal Service has to set prices for package delivery to cover the costs attributable to that service. But the postal service allocates only 5.5 percent of its total costs to its business of shipping packages even though that line of business is 28 percent of its total revenue.</td>\n",
              "      <td>politicsNews</td>\n",
              "      <td>December 29, 2017</td>\n",
              "      <td>1</td>\n",
              "    </tr>\n",
              "  </tbody>\n",
              "</table>\n",
              "</div>"
            ],
            "text/plain": [
              "                                                                   title  ... Label\n",
              "0       As U.S. budget fight looms, Republicans flip their fiscal script  ...     1\n",
              "1       U.S. military to accept transgender recruits on Monday: Pentagon  ...     1\n",
              "2           Senior U.S. Republican senator: 'Let Mr. Mueller do his job'  ...     1\n",
              "3            FBI Russia probe helped by Australian diplomat tip-off: NYT  ...     1\n",
              "4  Trump wants Postal Service to charge 'much more' for Amazon shipments  ...     1\n",
              "\n",
              "[5 rows x 5 columns]"
            ]
          },
          "metadata": {
            "tags": []
          },
          "execution_count": 320
        }
      ]
    },
    {
      "cell_type": "code",
      "metadata": {
        "id": "pfnrCGwrGg_Y",
        "colab": {
          "base_uri": "https://localhost:8080/"
        },
        "outputId": "ca0018a8-5d59-408e-9fc9-8ee75b9f03de"
      },
      "source": [
        "#Missing Value Analysis\n",
        "dataset.isnull().sum()"
      ],
      "execution_count": 321,
      "outputs": [
        {
          "output_type": "execute_result",
          "data": {
            "text/plain": [
              "title      0\n",
              "text       0\n",
              "subject    0\n",
              "date       0\n",
              "Label      0\n",
              "dtype: int64"
            ]
          },
          "metadata": {
            "tags": []
          },
          "execution_count": 321
        }
      ]
    },
    {
      "cell_type": "code",
      "metadata": {
        "id": "QRASXi-rHxMc",
        "colab": {
          "base_uri": "https://localhost:8080/"
        },
        "outputId": "a14110d4-a29b-4f77-ce94-423a08f4628d"
      },
      "source": [
        "dataset['Label'].value_counts()"
      ],
      "execution_count": 322,
      "outputs": [
        {
          "output_type": "execute_result",
          "data": {
            "text/plain": [
              "0    23481\n",
              "1    21417\n",
              "Name: Label, dtype: int64"
            ]
          },
          "metadata": {
            "tags": []
          },
          "execution_count": 322
        }
      ]
    },
    {
      "cell_type": "markdown",
      "metadata": {
        "id": "ba8X8nyyfBwe"
      },
      "source": [
        "## 2.2 Plot a bar graph of class distribution in a dataset."
      ]
    },
    {
      "cell_type": "code",
      "metadata": {
        "id": "_DikyoEtIpcy",
        "colab": {
          "base_uri": "https://localhost:8080/",
          "height": 0
        },
        "outputId": "5515a762-0d6d-4d24-b7ba-1f9ff7ccbe1b"
      },
      "source": [
        "plt.figure(figsize=(10,5))\n",
        "sns.countplot(x= \"subject\", hue = \"Label\", data=dataset)"
      ],
      "execution_count": 323,
      "outputs": [
        {
          "output_type": "execute_result",
          "data": {
            "text/plain": [
              "<matplotlib.axes._subplots.AxesSubplot at 0x7f4abbf76dd0>"
            ]
          },
          "metadata": {
            "tags": []
          },
          "execution_count": 323
        },
        {
          "output_type": "display_data",
          "data": {
            "image/png": "[encoded data removed]",
            "text/plain": [
              "<Figure size 720x360 with 1 Axes>"
            ]
          },
          "metadata": {
            "tags": [],
            "needs_background": "light"
          }
        }
      ]
    },
    {
      "cell_type": "code",
      "metadata": {
        "id": "7DvNH1IdjYcO",
        "colab": {
          "base_uri": "https://localhost:8080/",
          "height": 0
        },
        "outputId": "f1abc9d7-4a2b-4a3c-fab9-b98febc7bc12"
      },
      "source": [
        "# How many fake and real articles?\n",
        "print(dataset.groupby(['Label'])['text'].count())\n",
        "dataset.groupby(['Label'])['text'].count().plot(kind=\"bar\")\n",
        "plt.show()"
      ],
      "execution_count": 324,
      "outputs": [
        {
          "output_type": "stream",
          "text": [
            "Label\n",
            "0    23481\n",
            "1    21417\n",
            "Name: text, dtype: int64\n"
          ],
          "name": "stdout"
        },
        {
          "output_type": "display_data",
          "data": {
            "image/png": "[encoded data removed]",
            "text/plain": [
              "<Figure size 432x288 with 1 Axes>"
            ]
          },
          "metadata": {
            "tags": [],
            "needs_background": "light"
          }
        }
      ]
    },
    {
      "cell_type": "code",
      "metadata": {
        "id": "UbSJScnVgLTT",
        "colab": {
          "base_uri": "https://localhost:8080/"
        },
        "outputId": "314f9d98-eff4-4be8-fd02-719614a3b349"
      },
      "source": [
        "print(\"Version: \", tf.__version__)\n",
        "print(\"Eager mode: \", tf.executing_eagerly())\n",
        "print(\"Hub version: \", hub.__version__)\n",
        "print(\"GPU is\", \"available\" if tf.config.list_physical_devices(\"GPU\") else \"NOT AVAILABLE\")"
      ],
      "execution_count": 325,
      "outputs": [
        {
          "output_type": "stream",
          "text": [
            "Version:  2.5.0\n",
            "Eager mode:  True\n",
            "Hub version:  0.12.0\n",
            "GPU is available\n"
          ],
          "name": "stdout"
        }
      ]
    },
    {
      "cell_type": "markdown",
      "metadata": {
        "id": "eTXASpq5kj2H"
      },
      "source": [
        "## 2.3 Print the shapes of train and test data."
      ]
    },
    {
      "cell_type": "code",
      "metadata": {
        "id": "6O4DHCY1bH6M"
      },
      "source": [
        "# Split the data\n",
        "from sklearn.model_selection import train_test_split\n",
        "X_train,X_test,y_train,y_test = train_test_split(dataset['text'], dataset.Label, test_size=0.2, random_state=42)"
      ],
      "execution_count": 326,
      "outputs": []
    },
    {
      "cell_type": "code",
      "metadata": {
        "id": "TDhS5lFwnP_-",
        "colab": {
          "base_uri": "https://localhost:8080/"
        },
        "outputId": "a9b47f20-8ff7-42f9-958e-a9239b0b4474"
      },
      "source": [
        "X_train.shape"
      ],
      "execution_count": 327,
      "outputs": [
        {
          "output_type": "execute_result",
          "data": {
            "text/plain": [
              "(35918,)"
            ]
          },
          "metadata": {
            "tags": []
          },
          "execution_count": 327
        }
      ]
    },
    {
      "cell_type": "code",
      "metadata": {
        "id": "HLFsoWW5kvMQ",
        "colab": {
          "base_uri": "https://localhost:8080/"
        },
        "outputId": "9af5ce62-0baf-4669-aa77-8585d71ee5c9"
      },
      "source": [
        "X_test.shape"
      ],
      "execution_count": 328,
      "outputs": [
        {
          "output_type": "execute_result",
          "data": {
            "text/plain": [
              "(8980,)"
            ]
          },
          "metadata": {
            "tags": []
          },
          "execution_count": 328
        }
      ]
    },
    {
      "cell_type": "code",
      "metadata": {
        "id": "NlMo4sBQnZyZ",
        "colab": {
          "base_uri": "https://localhost:8080/"
        },
        "outputId": "f410f94e-e8fa-4f9b-ba48-2eeac9829eff"
      },
      "source": [
        "y_train.shape"
      ],
      "execution_count": 329,
      "outputs": [
        {
          "output_type": "execute_result",
          "data": {
            "text/plain": [
              "(35918,)"
            ]
          },
          "metadata": {
            "tags": []
          },
          "execution_count": 329
        }
      ]
    },
    {
      "cell_type": "code",
      "metadata": {
        "id": "lTXDk99kneg-",
        "colab": {
          "base_uri": "https://localhost:8080/"
        },
        "outputId": "227e1887-f1f1-408b-9041-0e10f43211b8"
      },
      "source": [
        "y_test.shape"
      ],
      "execution_count": 330,
      "outputs": [
        {
          "output_type": "execute_result",
          "data": {
            "text/plain": [
              "(8980,)"
            ]
          },
          "metadata": {
            "tags": []
          },
          "execution_count": 330
        }
      ]
    },
    {
      "cell_type": "markdown",
      "metadata": {
        "id": "NCaUsYIHnqG-"
      },
      "source": [
        "# 3. Data Pre-Processing"
      ]
    },
    {
      "cell_type": "code",
      "metadata": {
        "id": "QmCCkTmFginJ",
        "colab": {
          "base_uri": "https://localhost:8080/"
        },
        "outputId": "d82213f0-7d33-4eb2-9683-9afe73df48c7"
      },
      "source": [
        "embedding = \"https://tfhub.dev/google/nnlm-en-dim50/2\"\n",
        "hub_layer = hub.KerasLayer(embedding, input_shape=[], \n",
        "                           dtype=tf.string, trainable=True)\n",
        "hub_layer(X_train[:2])"
      ],
      "execution_count": 331,
      "outputs": [
        {
          "output_type": "execute_result",
          "data": {
            "text/plain": [
              "<tf.Tensor: shape=(2, 50), dtype=float32, numpy=\n",
              "array([[ 0.6762637 ,  0.36566633,  0.15799001,  0.7455838 ,  0.10752916,\n",
              "         0.02726057,  0.19175585, -0.53263694,  0.02645369, -0.34257412,\n",
              "         0.18990925, -0.5863261 , -0.08813672, -0.05235053,  0.41364285,\n",
              "        -0.10950428, -0.02759743,  0.23644386,  0.18427625, -0.26734704,\n",
              "        -0.0806255 , -0.05824664,  0.35589135,  0.1614714 , -0.03937   ,\n",
              "         0.88691413, -0.8938478 , -0.01000619,  0.38181284, -0.39137727,\n",
              "        -0.89207304,  0.3863561 ,  0.30663025,  0.14063565, -0.75426054,\n",
              "         0.5474254 ,  0.5392539 ,  0.3541016 ,  0.36251965, -0.22261517,\n",
              "        -0.21186964,  0.10848372, -0.3798515 ,  0.50062865, -0.5748089 ,\n",
              "        -0.21696912, -0.09802147, -0.4701827 , -0.61109304, -0.33805057],\n",
              "       [ 0.4502573 ,  0.33862573,  0.07409427,  0.17752995, -0.31967235,\n",
              "         0.19493477, -0.24074934, -0.00411644,  0.42225355, -0.01860114,\n",
              "        -0.3425406 ,  0.25350344,  0.32082883, -0.4217546 ,  0.36043105,\n",
              "        -0.3202399 , -0.43891314,  0.07973756, -0.06610662,  0.2506118 ,\n",
              "        -0.02943121, -0.08089502, -0.04124749,  0.10312683,  0.12002617,\n",
              "         0.90424854, -0.44947356,  0.03746608, -0.44608608, -0.45637247,\n",
              "        -0.06860087,  0.16046505,  0.5186685 , -0.4075738 , -0.10656571,\n",
              "        -0.08711464, -0.16989958, -0.35935503, -0.02085964, -0.52222544,\n",
              "        -0.35914943,  0.21091588,  0.23308991,  0.39303827,  0.20199388,\n",
              "        -0.5809244 ,  0.01838576,  0.03564949, -0.2484422 , -0.21792324]],\n",
              "      dtype=float32)>"
            ]
          },
          "metadata": {
            "tags": []
          },
          "execution_count": 331
        }
      ]
    },
    {
      "cell_type": "code",
      "metadata": {
        "id": "Eq9DBYoqp3Ti",
        "colab": {
          "base_uri": "https://localhost:8080/"
        },
        "outputId": "aca4b325-20b6-402d-eaa2-b130454e5802"
      },
      "source": [
        "X_train.head()"
      ],
      "execution_count": 332,
      "outputs": [
        {
          "output_type": "execute_result",
          "data": {
            "text/plain": [
              "36335                                                                                                                                                                                                                                                                                                                                                                                                                                                                                                                                                                                                                                                                                                                                                                                                                                                                                                                                                                                                                                                                                                                                                                                                                                                                                                                                                                                                                                                                                                                                                                                                                                                                                                                                                                                                                                                                                                                                                            This story is from 2006 and is the first in a long series of Hillary s lies that we ll be exposing over the next couple of months For more than a decade, one piece of Senator Hillary Rodham Clinton s informal biography has been that she was named for Sir Edmund Hillary, the conqueror of Mount Everest. The story was even recounted in Bill Clinton s autobiography.But yesterday, Mrs. Clinton s campaign said she was not named for Sir Edmund after all. It was a sweet family story her mother shared to inspire greatness in her daughter, to great results I might add,  said Jennifer Hanley, a spokeswoman for the campaign.In May 1953, Sir Edmund and his Sherpa guide, Tenzing Norgay, became the first men to reach the summit of Mount Everest. In 1995, shortly after meeting Sir Edmund, Mrs. Clinton said that her mother, Dorothy Rodham, had long told her she was named for the famous mountaineer.  It had two l s, which is how she thought she was supposed to spell Hillary,  Mrs. Clinton said at the time, after meeting Sir Edmund.  So when I was born, she called me Hillary, and she always told me it s because of Sir Edmund Hillary. Even though Bill Clinton repeated the story in his 2004 autobiography,  My Life,  Hillary Clinton did not mention it in her own autobiography,  Living History,  which was published in 2003.But one big hole has been poked in the story over the years, both in cyberspace and elsewhere: Sir Edmund became famous only after climbing Everest in 1953. Mrs. Clinton, as it happens, was born in 1947. Via: NYT\n",
              "12384                                                                                                                                                                                                                                                                                                                                                                                                                                                                                                                                                                                                                                                                                                                                                                                                                                                                                                                                                                                                                                                                                                                                                                                                                                                                                                                                                                                                                                                                                                                                                                                                                                                                                                                                                                                                                                                                                                                                                                                                                                                                                                                                                                                                                                                                                                                                                                                                                                                                                                                                                                                                                                                                                                                                                                                                                                                                                                                                                                             PARIS (Reuters) - The leaders of the European Union s remaining 27 member states are very likely to approve this week the deal struck by their chief negotiator with Britain and move to a second phase of exit talks, a French presidency source said on Wednesday. EU leaders are almost certain to judge on Friday that  sufficient progress  has been made on the rights of citizens, the Brexit divorce bill and the Irish border to allow negotiations to move to the next phase. The EU executive recommended last week that leaders approve the start of trade talks.\n",
              "24419                                                                                                                                                                                                                                                                                                                                                                                                                                                                                                                                                                                                                                                                                                                                                                                                                                                                                                                                                                                                                                                                                                                                                                                                                                                                                                                                                                                                            Star Wars icon Mark Hamill previously mocked Donald Trump by reading one of the president-elect s mean-girl girl tweets using the voice of The Joker. And now he s back to poke Trump in the eye by mocking the president-elect s attack on actress Meryl Streep.Most people know of Mark Hamill as Luke Skywalker in Star Wars but he s also a very talented voice-over actor. His voice as The Joker is amazing and using his skills to mock Trump is an effective tool. His newest jab at Trump has gone viral on Twitter and it s about the best thing you ll hear all day. Am I the ONLY one man enough to confront this #OverratedFlunkyLoser without resorting to an ad hominem assault?  Hamill tweeted along with the recording.Am I the ONLY one man enough to confront this #OverratedFlunkyLoser without resorting to an ad hominem assault? https://t.co/ac2j2KGryn pic.twitter.com/iH1XnPgOzm  Mark Hamill (@HamillHimself) January 14, 2017Last week, Trump tweeted,  Meryl Streep, one of the most over-rated actresses in Hollywood, doesn t know me but attacked last night at the Golden Globes. She is a .. Hillary flunky who lost big. For the 100th time, I never  mocked  a disabled reporter (would never do that) but simply showed him .,  he continued.He added,  groveling  when he totally changed a 16 year old story that he had written in order to make me look bad. Just more very dishonest media!The incoming president lashes out at people who hurt his feelings. People like Meryl Streep, for example. He s about to hold the highest seat in the land, yet he shows no restraint on Twitter where he has nearly 20 million followers, some of which probably follow him just to see what outrageous thing he will tweet out next. He tweets about nukes, he manipulates the stock market by attacking brands, showing that he s already abusing the power of the presidency even before he takes the oath of office. When he takes over the @POTUS account, we suggest you report his tweets for impersonating a president. Impersonation accounts are against Twitter s terms of use.Photo via Wiki\n",
              "24740    The whiner-in-chief struck again with yet another early morning Twitter tantrum.Donald Trump can t handle the fact that he lost the popular vote, especially to a woman.Hillary Clinton s margin of victory in nearly 3 million votes, but Trump stole the election with the help of Russian hackers. Even his electoral vote win is one of the smallest in the last 100 years.But even after the Electoral College wrongly certified him to be president, Trump is STILL complaining about losing the popular vote and is making excuses to explain the loss rather than moving on and focusing on the huge job he s about to take over in January.Campaigning to win the Electoral College is much more difficult & sophisticated than the popular vote. Hillary focused on the wrong states!  Donald J. Trump (@realDonaldTrump) December 21, 2016I would have done even better in the election, if that is possible, if the winner was based on popular vote   but would campaign differently  Donald J. Trump (@realDonaldTrump) December 21, 2016Trump is even bitching about not being praised by the media for not spending as much money to win. Of course, why spend money on advertising when you can promise favors for Putin in exchange for help spreading propaganda on the Internet?I have not heard any of the pundits or commentators discussing the fact that I spent FAR LESS MONEY on the win than Hillary on the loss!  Donald J. Trump (@realDonaldTrump) December 21, 2016Apparently, we re going to be hearing Trump whine about the popular vote for the next four years because his ego can t handle losing.And Twitter users were quick to put Trump in his place.@realDonaldTrump remember when you said the electoral college was bad  Ken Klippenstein (@kenklippenstein) December 21, 2016@realDonaldTrump Losing the popular vote is eating you up like that worm Khan dropped in Chekov s ear.  pourmecoffee (@pourmecoffee) December 21, 2016.@realDonaldTrump Also: pic.twitter.com/98rH2ODahZ  Lauren Duca (@laurenduca) December 21, 2016@realDonaldTrump Really? That s not what you said in 2012  pic.twitter.com/zSKLHHydPE  Sharika Soal (@LadyThriller69) December 21, 2016@realDonaldTrump You won the Presidency of the United States of America, yet you still sound like a complete loser.  Cody Johnston (@drmistercody) December 21, 2016@realDonaldTrump Looks like you still can t get over the fact that an overwhelming majority of Americans rejected you.  Cristian ? (@cristianafarias) December 21, 2016@realDonaldTrump On January 20th I hope they drive you to the old set of The West Wing and leave you there with a bunch of actors.  Justin Hendrix (@justinhendrix) December 21, 2016@realDonaldTrump yes Donald, you won. Continue to gloat. We all know your win is unpresidented. Why not spend time doing something for USA?  ? (@VeeVee) December 21, 2016@realDonaldTrump This really gets to you, doesn t it? You re a fucking child. Your ego is ruining the country and it s still not enough.  Jon Bershad (@JonBershad) December 21, 2016@realDonaldTrump pic.twitter.com/Dz675z5dPn  marisa kabas (@MarisaKabas) December 21, 2016For weeks, Trump has been bitching about how people should move on after the election, but he can t even do that himself. Now Saturday Night Live will have even more material to mock him with when the show returns. For now, we ll have to settle for the roasting Twitter just delivered.Featured image via Steve Pope/Getty Images\n",
              "27039                                                                                                                                                                                                                                                                                                                                                                                                                                                                                                                                                                                                                                                                                                              Donald Trump doesn t have much foreign policy experience, but he loves his golf courses, especially the ones overseas. He s no longer associated with Miss Universe, but surely that prepared him for foreign policy and running a country, just as his golf courses in Scotland did. President Obama s labor secretary, Tom Perez, took Trump to the cleaners over this during an interview on Meet the Press, because Perez knows that Trump doesn t know foreign policy at all.Host Chuck Todd asked Perez how he would describe his own foreign policy, and Perez replied with a smirk and razor-sharp sarcasm: Well, I haven t run a Ms. Universe pageant, and I don t own any golf courses in Scotland, Chuck, so I don t have what Donald Trump has, and I m very sorry about that. That hits King Dunce right where it hurts, because King Dunce doesn t know how to take advice, let alone actually learn anything. Remember, King Dunce the man who gave us this little nugget of disease-ridden feces: I m speaking with myself, number one, because I have a very good brain and I ve said a lot of things I know what I m doing and I listen to a lot of people, I talk to a lot of people and at the appropriate time I ll tell you who the people are. But my primary consultant is myself and I have a good instinct for this stuff. He has a touch of instinct for business, and that s it. He thinks government, and particularly foreign affairs, are just like business and he can treat them with strong-arm tactics and threats of lawsuits   oh wait, war  if they don t give in.King Trump s foreign policy sounds great to ignorant voters who can t think for themselves. It s all about  America first.  It s a lot of the same mentality that led to Brexit, and it s true that world s uppermost caste has left working class people in the dust in the pursuit of their own black and vile greed. However, Trump wants to bully and muscle other countries into doing what he wants. He doesn t want actual negotiations.It wouldn t be surprising to discover that His Royal Narcissist thinks that his  me first  mentality is the same as having an  America first  mentality. His confidence in his own greatness is part of why he talks about all his businesses, including his golf courses, as though they ve given him all the experience he needs to run one of the most powerful countries in the world.As Perez explained, Trump the Dump is all about himself and his own profits and glory rather than America first, because otherwise, he wouldn t fight labor unions and he wouldn t have his clothing and campaign gear made in the very foreign countries he demonizes regularly on the campaign trail.Perez nailed him to the wall on this.Featured image by Chip Somodevilla/Getty Images\n",
              "Name: text, dtype: object"
            ]
          },
          "metadata": {
            "tags": []
          },
          "execution_count": 332
        }
      ]
    },
    {
      "cell_type": "markdown",
      "metadata": {
        "id": "7MamPfVNd8U4"
      },
      "source": [
        "# 4. Model Building"
      ]
    },
    {
      "cell_type": "markdown",
      "metadata": {
        "id": "TDKnVXk17S55"
      },
      "source": [
        "## 4.1 Model Architecture"
      ]
    },
    {
      "cell_type": "code",
      "metadata": {
        "id": "eOP5Sbq1bWii"
      },
      "source": [
        "learning_rate = 0.001\n",
        "model = tf.keras.Sequential()\n",
        "model.add(hub_layer)\n",
        "model.add(tf.keras.layers.Dense(8, activation='relu', activity_regularizer=tf.keras.regularizers.l2(learning_rate)))\n",
        "# model.add(Dropout(0.25))\n",
        "model.add(tf.keras.layers.Dense(8, activation='relu', activity_regularizer=tf.keras.regularizers.l2(learning_rate)))\n",
        "model.add(tf.keras.layers.Dense(8, activation='relu', activity_regularizer=tf.keras.regularizers.l2(learning_rate)))\n",
        "model.add(Dropout(0.25)) # to avoid overfitting\n",
        "# output layer\n",
        "model.add(tf.keras.layers.Dense(1, activation = 'sigmoid')) # since binary classification\n"
      ],
      "execution_count": 333,
      "outputs": []
    },
    {
      "cell_type": "markdown",
      "metadata": {
        "id": "y8UVXNcP7WkT"
      },
      "source": [
        "## 4.2 Model Summary"
      ]
    },
    {
      "cell_type": "code",
      "metadata": {
        "id": "sJiJMAhjbWmo",
        "colab": {
          "base_uri": "https://localhost:8080/"
        },
        "outputId": "0588fa95-056e-45c6-9e02-15272422cf35"
      },
      "source": [
        "model.summary()"
      ],
      "execution_count": 334,
      "outputs": [
        {
          "output_type": "stream",
          "text": [
            "Model: \"sequential_11\"\n",
            "_________________________________________________________________\n",
            "Layer (type)                 Output Shape              Param #   \n",
            "=================================================================\n",
            "keras_layer_9 (KerasLayer)   (None, 50)                48190600  \n",
            "_________________________________________________________________\n",
            "dense_41 (Dense)             (None, 8)                 408       \n",
            "_________________________________________________________________\n",
            "dense_42 (Dense)             (None, 8)                 72        \n",
            "_________________________________________________________________\n",
            "dense_43 (Dense)             (None, 8)                 72        \n",
            "_________________________________________________________________\n",
            "dropout_6 (Dropout)          (None, 8)                 0         \n",
            "_________________________________________________________________\n",
            "dense_44 (Dense)             (None, 1)                 9         \n",
            "=================================================================\n",
            "Total params: 48,191,161\n",
            "Trainable params: 48,191,161\n",
            "Non-trainable params: 0\n",
            "_________________________________________________________________\n"
          ],
          "name": "stdout"
        }
      ]
    },
    {
      "cell_type": "markdown",
      "metadata": {
        "id": "D0N4AwU6gps-"
      },
      "source": [
        "# 5. Model Compilation"
      ]
    },
    {
      "cell_type": "code",
      "metadata": {
        "id": "rVf5DDQkcEl6"
      },
      "source": [
        "model.compile(optimizer = 'adam', loss = 'binary_crossentropy', metrics = ['accuracy'])\n",
        "# using the default learning rate"
      ],
      "execution_count": 335,
      "outputs": []
    },
    {
      "cell_type": "markdown",
      "metadata": {
        "id": "vE2yOXxRgvpX"
      },
      "source": [
        "# 6. Model Training"
      ]
    },
    {
      "cell_type": "markdown",
      "metadata": {
        "id": "xonKbZ1Nmttl"
      },
      "source": [
        "## 6.1 Train the model"
      ]
    },
    {
      "cell_type": "code",
      "metadata": {
        "id": "SHvuZLrLcXF-",
        "colab": {
          "base_uri": "https://localhost:8080/"
        },
        "outputId": "a81efae7-f7ef-4152-8a8b-098fc1912015"
      },
      "source": [
        "# history= model.fit(X_train.shuffle(10000).batch(512), epochs=10, validation=validation_data.batch(512), verbose=1)\n",
        "start = time.time()\n",
        "history = model.fit(X_train, y_train, batch_size = 512,epochs = 10, validation_data=(X_test, y_test), verbose=1)\n",
        "end = time.time()"
      ],
      "execution_count": 336,
      "outputs": [
        {
          "output_type": "stream",
          "text": [
            "Epoch 1/10\n",
            "71/71 [==============================] - 6s 78ms/step - loss: 0.5823 - accuracy: 0.7410 - val_loss: 0.3530 - val_accuracy: 0.9783\n",
            "Epoch 2/10\n",
            "71/71 [==============================] - 5s 77ms/step - loss: 0.3050 - accuracy: 0.9669 - val_loss: 0.1819 - val_accuracy: 0.9940\n",
            "Epoch 3/10\n",
            "71/71 [==============================] - 6s 79ms/step - loss: 0.2046 - accuracy: 0.9887 - val_loss: 0.1263 - val_accuracy: 0.9965\n",
            "Epoch 4/10\n",
            "71/71 [==============================] - 6s 79ms/step - loss: 0.1629 - accuracy: 0.9917 - val_loss: 0.0967 - val_accuracy: 0.9971\n",
            "Epoch 5/10\n",
            "71/71 [==============================] - 6s 79ms/step - loss: 0.1405 - accuracy: 0.9919 - val_loss: 0.0724 - val_accuracy: 0.9972\n",
            "Epoch 6/10\n",
            "71/71 [==============================] - 6s 79ms/step - loss: 0.1235 - accuracy: 0.9921 - val_loss: 0.0546 - val_accuracy: 0.9973\n",
            "Epoch 7/10\n",
            "71/71 [==============================] - 5s 76ms/step - loss: 0.1129 - accuracy: 0.9921 - val_loss: 0.0476 - val_accuracy: 0.9978\n",
            "Epoch 8/10\n",
            "71/71 [==============================] - 5s 76ms/step - loss: 0.1057 - accuracy: 0.9924 - val_loss: 0.0432 - val_accuracy: 0.9984\n",
            "Epoch 9/10\n",
            "71/71 [==============================] - 5s 75ms/step - loss: 0.0994 - accuracy: 0.9923 - val_loss: 0.0413 - val_accuracy: 0.9982\n",
            "Epoch 10/10\n",
            "71/71 [==============================] - 5s 75ms/step - loss: 0.0958 - accuracy: 0.9923 - val_loss: 0.0363 - val_accuracy: 0.9986\n"
          ],
          "name": "stdout"
        }
      ]
    },
    {
      "cell_type": "markdown",
      "metadata": {
        "id": "MLYb3nrzm0iM"
      },
      "source": [
        "## 6.2 Loss graphs"
      ]
    },
    {
      "cell_type": "code",
      "metadata": {
        "colab": {
          "base_uri": "https://localhost:8080/",
          "height": 295
        },
        "id": "UxOqL9Ngm6jA",
        "outputId": "1ca5d391-03e3-44e7-d243-c2288dc3c5b8"
      },
      "source": [
        "history_dict = history.history\n",
        "\n",
        "acc = history_dict['accuracy']\n",
        "val_acc = history_dict['val_accuracy']\n",
        "\n",
        "loss = history_dict['loss']\n",
        "val_loss = history_dict['val_loss']\n",
        "\n",
        "epochs = range(1, len(acc) + 1)\n",
        "\n",
        "\n",
        "plt.plot(epochs, loss, 'b', label='Training loss')\n",
        "# plt.plot(epochs, val_loss, 'b', label='Validation loss')\n",
        "plt.title('Training loss')\n",
        "plt.xlabel('Epochs')\n",
        "plt.ylabel('Loss')\n",
        "plt.legend()\n",
        "\n",
        "plt.show()"
      ],
      "execution_count": 337,
      "outputs": [
        {
          "output_type": "display_data",
          "data": {
            "image/png": "[encoded data removed]",
            "text/plain": [
              "<Figure size 432x288 with 1 Axes>"
            ]
          },
          "metadata": {
            "tags": [],
            "needs_background": "light"
          }
        }
      ]
    },
    {
      "cell_type": "code",
      "metadata": {
        "colab": {
          "base_uri": "https://localhost:8080/",
          "height": 295
        },
        "id": "QveBlnghoDEW",
        "outputId": "0fcc862c-8653-488c-9cf9-0867b0877d4f"
      },
      "source": [
        "# \"bo\" is for \"blue dot\"\n",
        "# plt.plot(epochs, loss, 'g', label='Training loss')\n",
        "# b is for \"solid blue line\"\n",
        "plt.plot(epochs, val_loss, 'b', label='Validation loss')\n",
        "plt.title('Validation loss')\n",
        "plt.xlabel('Epochs')\n",
        "plt.ylabel('Loss')\n",
        "plt.legend()\n",
        "\n",
        "plt.show()"
      ],
      "execution_count": 338,
      "outputs": [
        {
          "output_type": "display_data",
          "data": {
            "image/png": "[encoded data removed]",
            "text/plain": [
              "<Figure size 432x288 with 1 Axes>"
            ]
          },
          "metadata": {
            "tags": [],
            "needs_background": "light"
          }
        }
      ]
    },
    {
      "cell_type": "markdown",
      "metadata": {
        "id": "sONkulFZ7qGs"
      },
      "source": [
        "## 6.3 Time taken"
      ]
    },
    {
      "cell_type": "code",
      "metadata": {
        "colab": {
          "base_uri": "https://localhost:8080/"
        },
        "id": "lHpGcxYt7uIr",
        "outputId": "9ca277f7-dc5d-4023-dbbc-262d20aedd53"
      },
      "source": [
        "print(\"Total time taken in training the model: \", end - start, \"seconds\")"
      ],
      "execution_count": 339,
      "outputs": [
        {
          "output_type": "stream",
          "text": [
            "Total time taken in training the model:  82.68632364273071 seconds\n"
          ],
          "name": "stdout"
        }
      ]
    },
    {
      "cell_type": "markdown",
      "metadata": {
        "id": "OVV6YNGmg2yZ"
      },
      "source": [
        "# 7. Model Evaluation"
      ]
    },
    {
      "cell_type": "markdown",
      "metadata": {
        "id": "Ra5-4yd21_te"
      },
      "source": [
        "## 7.1 Final Model Train & Validation loss & accuracy"
      ]
    },
    {
      "cell_type": "code",
      "metadata": {
        "colab": {
          "base_uri": "https://localhost:8080/"
        },
        "id": "87RAa7FG2eIP",
        "outputId": "73608841-199e-4dd3-efb9-06920413bb3f"
      },
      "source": [
        "epochs[-1]"
      ],
      "execution_count": 340,
      "outputs": [
        {
          "output_type": "execute_result",
          "data": {
            "text/plain": [
              "10"
            ]
          },
          "metadata": {
            "tags": []
          },
          "execution_count": 340
        }
      ]
    },
    {
      "cell_type": "code",
      "metadata": {
        "colab": {
          "base_uri": "https://localhost:8080/"
        },
        "id": "Zy3YJDIu2G0J",
        "outputId": "01406cef-db75-4662-ac2a-54702874d2e2"
      },
      "source": [
        "n = epochs[-1]-1\n",
        "print(f'Final Train Accuracy {acc[n]}')\n",
        "print(f'Final Validation Accuracy {val_acc[n]}')\n",
        "\n",
        "print(f'\\nFinal Train Loss {loss[n]}')\n",
        "print(f'Final Validation Loss {val_loss[n]}')"
      ],
      "execution_count": 341,
      "outputs": [
        {
          "output_type": "stream",
          "text": [
            "Final Train Accuracy 0.9922601580619812\n",
            "Final Validation Accuracy 0.9985523223876953\n",
            "\n",
            "Final Train Loss 0.09581611305475235\n",
            "Final Validation Loss 0.03627445176243782\n"
          ],
          "name": "stdout"
        }
      ]
    },
    {
      "cell_type": "markdown",
      "metadata": {
        "id": "YUeV2Kqn1zbe"
      },
      "source": [
        "## 7.2 Model Prediction"
      ]
    },
    {
      "cell_type": "code",
      "metadata": {
        "id": "oHTzXYWhcXOZ",
        "colab": {
          "base_uri": "https://localhost:8080/"
        },
        "outputId": "53f09420-00dd-4052-df0d-6dfb5276b1ba"
      },
      "source": [
        "pred = model.predict(X_test)\n",
        "pred = (pred > 0.5).astype(float)\n",
        "pred"
      ],
      "execution_count": 342,
      "outputs": [
        {
          "output_type": "execute_result",
          "data": {
            "text/plain": [
              "array([[0.],\n",
              "       [0.],\n",
              "       [0.],\n",
              "       ...,\n",
              "       [0.],\n",
              "       [1.],\n",
              "       [1.]])"
            ]
          },
          "metadata": {
            "tags": []
          },
          "execution_count": 342
        }
      ]
    },
    {
      "cell_type": "markdown",
      "metadata": {
        "id": "-gxIb5ou1NPW"
      },
      "source": [
        "## 7.3 Confusion Matrix"
      ]
    },
    {
      "cell_type": "code",
      "metadata": {
        "id": "52jkvviXcXRd",
        "colab": {
          "base_uri": "https://localhost:8080/"
        },
        "outputId": "bc01b31d-3b22-4dfe-e520-2734d045946d"
      },
      "source": [
        "cm = confusion_matrix(y_test, pred)\n",
        "\n",
        "cm"
      ],
      "execution_count": 343,
      "outputs": [
        {
          "output_type": "execute_result",
          "data": {
            "text/plain": [
              "array([[4641,    9],\n",
              "       [   4, 4326]])"
            ]
          },
          "metadata": {
            "tags": []
          },
          "execution_count": 343
        }
      ]
    },
    {
      "cell_type": "markdown",
      "metadata": {
        "id": "7JsKDcob1Qvi"
      },
      "source": [
        "## 7.4 Test Accuracy"
      ]
    },
    {
      "cell_type": "code",
      "metadata": {
        "colab": {
          "base_uri": "https://localhost:8080/"
        },
        "id": "GupJVxngzboB",
        "outputId": "3708ede4-381a-48f1-cfc7-5028c626f40d"
      },
      "source": [
        "acuracy = accuracy_score(y_test, pred)\n",
        "print(f'Accuracy of the model is: {acuracy}')"
      ],
      "execution_count": 344,
      "outputs": [
        {
          "output_type": "stream",
          "text": [
            "Accuracy of the model is: 0.9985523385300669\n"
          ],
          "name": "stdout"
        }
      ]
    },
    {
      "cell_type": "markdown",
      "metadata": {
        "id": "daEn2oH01TsQ"
      },
      "source": [
        "## 7.5 Classification Report"
      ]
    },
    {
      "cell_type": "code",
      "metadata": {
        "id": "WbXn5OAkcXU2",
        "colab": {
          "base_uri": "https://localhost:8080/"
        },
        "outputId": "cf72b748-3179-4351-c6ad-f73674da4e2d"
      },
      "source": [
        "print(classification_report(y_test, pred, digits=5))"
      ],
      "execution_count": 345,
      "outputs": [
        {
          "output_type": "stream",
          "text": [
            "              precision    recall  f1-score   support\n",
            "\n",
            "           0    0.99914   0.99806   0.99860      4650\n",
            "           1    0.99792   0.99908   0.99850      4330\n",
            "\n",
            "    accuracy                        0.99855      8980\n",
            "   macro avg    0.99853   0.99857   0.99855      8980\n",
            "weighted avg    0.99855   0.99855   0.99855      8980\n",
            "\n"
          ],
          "name": "stdout"
        }
      ]
    },
    {
      "cell_type": "markdown",
      "metadata": {
        "id": "_FXSoHz-3Mlk"
      },
      "source": [
        "## 7.6 Incorrectly classified texts analysis"
      ]
    },
    {
      "cell_type": "code",
      "metadata": {
        "colab": {
          "base_uri": "https://localhost:8080/"
        },
        "id": "TCdNIPcE5HY7",
        "outputId": "b7653724-789d-4730-fcae-a18688059286"
      },
      "source": [
        "len(X_test)"
      ],
      "execution_count": 346,
      "outputs": [
        {
          "output_type": "execute_result",
          "data": {
            "text/plain": [
              "8980"
            ]
          },
          "metadata": {
            "tags": []
          },
          "execution_count": 346
        }
      ]
    },
    {
      "cell_type": "code",
      "metadata": {
        "id": "4B5GMGm33yVV"
      },
      "source": [
        "X_test = pd.DataFrame(X_test, columns = ['text'])\n",
        "X_test['label'] = y_test\n",
        "X_test['pred'] = pred\n",
        "X_test['pred'] = X_test['pred'].fillna(0)"
      ],
      "execution_count": 347,
      "outputs": []
    },
    {
      "cell_type": "code",
      "metadata": {
        "colab": {
          "base_uri": "https://localhost:8080/"
        },
        "id": "qD4ZHNDY4PGr",
        "outputId": "9ae76413-d824-4649-d9bd-2e9e00740a00"
      },
      "source": [
        "X_test.info()"
      ],
      "execution_count": 348,
      "outputs": [
        {
          "output_type": "stream",
          "text": [
            "<class 'pandas.core.frame.DataFrame'>\n",
            "Int64Index: 8980 entries, 22216 to 15236\n",
            "Data columns (total 3 columns):\n",
            " #   Column  Non-Null Count  Dtype  \n",
            "---  ------  --------------  -----  \n",
            " 0   text    8980 non-null   object \n",
            " 1   label   8980 non-null   int64  \n",
            " 2   pred    8980 non-null   float64\n",
            "dtypes: float64(1), int64(1), object(1)\n",
            "memory usage: 280.6+ KB\n"
          ],
          "name": "stdout"
        }
      ]
    },
    {
      "cell_type": "code",
      "metadata": {
        "colab": {
          "base_uri": "https://localhost:8080/",
          "height": 553
        },
        "id": "bI074nT74StF",
        "outputId": "63a6524d-9a98-433f-eec7-730f4665d50c"
      },
      "source": [
        "X_test.head(2)"
      ],
      "execution_count": 349,
      "outputs": [
        {
          "output_type": "execute_result",
          "data": {
            "text/html": [
              "<div>\n",
              "<style scoped>\n",
              "    .dataframe tbody tr th:only-of-type {\n",
              "        vertical-align: middle;\n",
              "    }\n",
              "\n",
              "    .dataframe tbody tr th {\n",
              "        vertical-align: top;\n",
              "    }\n",
              "\n",
              "    .dataframe thead th {\n",
              "        text-align: right;\n",
              "    }\n",
              "</style>\n",
              "<table border=\"1\" class=\"dataframe\">\n",
              "  <thead>\n",
              "    <tr style=\"text-align: right;\">\n",
              "      <th></th>\n",
              "      <th>text</th>\n",
              "      <th>label</th>\n",
              "      <th>pred</th>\n",
              "    </tr>\n",
              "  </thead>\n",
              "  <tbody>\n",
              "    <tr>\n",
              "      <th>22216</th>\n",
              "      <td>Donald Trump s White House is in chaos, and they are trying to cover it up. Their Russia problems are mounting by the hour, and they refuse to acknowledge that there are problems surrounding all of this. To them, it s  fake news,  or a  hoax.  However, the facts bear things out differently, and it seems that there are now cracks in the Congressional public leadership.Chuck Grassley (R-Iowa), who heads the Senate Judiciary Committee, is fed up. He is now demanding that Donald Trump, Jr. and former 2016 Trump Campaign Manager Paul Manafort testify before his committee regarding the now infamous shady meeting between Donald Trump and the shady Russian lawyer who promised dirt on 2016 Democratic Presidential nominee Hillary Clinton. In fact, this information is due, well, NOW. This demand sends a few signals to team Trump   most notably that they should not fire Special Counsel Robert Mueller under any circumstances, despite the fact that it seems that this seems to be what Trump s White House is laying the groundwork, so to speak, to do as we speak.Here is the tweet regarding Grassley s warning:Also, anyone who thinks that Senator Grassley and the rest of the Senate are not serious about this only needs to look at the warning that has already been given: Trump Jr. and Manafort will either follow orders, or be served with subpoenas that force them to comply. If they refuse, they will be held in contempt of Congress, which carries with it serious jail time.Even the cruel, craven creatures within the GOP are sick of Donald Trump s corruption and his scandal-ridden White House. They are angry that he staged a hostile takeover of their party, first with birtherism and giving them a permanently racist label all while decimating all efforts that were made to pretend the Republican Party isn t a hotbed of racism, and while turning their worlds upside down, and with it, the nation. It seems that old-timers like Grassley, who are clearly sick of Trump s bullshit, just might be the ones who could save the republic. All they need is a bit of courage.Featured image via Win McNamee/Getty Images</td>\n",
              "      <td>0</td>\n",
              "      <td>0.0</td>\n",
              "    </tr>\n",
              "    <tr>\n",
              "      <th>27917</th>\n",
              "      <td>Now that Donald Trump is the presumptive GOP nominee, it s time to remember all those other candidates who tried so hard to beat him in the race to the White House. After all, how can we forget all the missteps, gaffes, weirdness, and sheer idiocies of such candidates as Jeb Bush, Marco Rubio, John Kasich, Ted Cruz, Ben Carson, and Carly Fiorina?There s a video making the rounds on Twitter that does just that, and eulogizes three of these failed candidates as though they re dead (and the GOP itself might as well be dead at this point anyway). Appropriately titled,  A Eulogy for the GOP,  people make short speeches about each of these candidates.Once past the man who actually says Jeb Bush was qualified to be president, there are fake tears, with journalist and comedienne Francesca Fiorentini saying: Dearly beloved, we re gathered here today to commemorate the candidates that are no longer with us. One man, speaking to an amusing, circus-y rendition of Chopin s Funeral March, remembers Jeb this way: Jeb, we hardly knew ye. It s too bad that your policies couldn t find their way out of the Republican morass. Indeed, it was like Jeb and his policies were invisible sometimes, although many felt that he would win the nomination early on. His best performances often came during debates, when he d get into out-and-out fights with Donald Trump over virtually everything under the sun. He also had a bad habit of defending his brother s actions in Iraq, memorably saying,  As it relates to my brother, there s one thing I know for sure: He kept us safe. Moving on to Marco Rubio, Fiorentini herself says: He was called so many things:  Young, charming, Lil  Marco.' That last nickname is, of course, a reference to Trump s penchant for name-calling. Then, a man speaking Spanish remembers Rubio this way: Marco, why aren t you a normal boy? Another said that his involvement in the Gang of Eight immigration bill killed him as a candidate, to which Fiorentini replies: Some people die of gang violence. He died of Gang of Eight violence. The makers of this video saved the absolute best for last, of course, which is Ben Carson. On our dear Dr. Carson, one of the speakers says: He would gently rock me to sleep with his monotone voice. Carson was especially well known for seemingly being asleep half the time. If we saw his eyes open wide, it was surprising, and likely because he was surprised himself. His voice is soft, his speech is slow, and it really can be hard to stay awake while he s talking. Imagine him giving a State of the Union address!To see the whole video, especially the spectacular ending after Carson s eulogy, watch below:Take a moment to say your g byes to these GOP candidates. ? https://t.co/6O70bl9zV8  AJ+ (@ajplus) May 7, 2016 Featured image via screen capture from embedded video</td>\n",
              "      <td>0</td>\n",
              "      <td>0.0</td>\n",
              "    </tr>\n",
              "  </tbody>\n",
              "</table>\n",
              "</div>"
            ],
            "text/plain": [
              "                                                                                                                                                                                                                                                                                                                                                                                                                                                                                                                                                                                                                                                                                                                                                                                                                                                                                                                                                                                                                                                                                                                                                                                                                                                                                                                                                                                                                                                                                                                                                                                                                                                                                                                                                                                                                                                                                                                                                                                                                                                                                                                                                                                                                                                                                                                                                                                                                                                                                                                                                                                                                                                                                                                                                                                                                                                                                                                                          text  ...  pred\n",
              "22216                                                                                                                                                                                                                                                                                                                                                                                                                                                                                                                                                                                                                                                                                                                                       Donald Trump s White House is in chaos, and they are trying to cover it up. Their Russia problems are mounting by the hour, and they refuse to acknowledge that there are problems surrounding all of this. To them, it s  fake news,  or a  hoax.  However, the facts bear things out differently, and it seems that there are now cracks in the Congressional public leadership.Chuck Grassley (R-Iowa), who heads the Senate Judiciary Committee, is fed up. He is now demanding that Donald Trump, Jr. and former 2016 Trump Campaign Manager Paul Manafort testify before his committee regarding the now infamous shady meeting between Donald Trump and the shady Russian lawyer who promised dirt on 2016 Democratic Presidential nominee Hillary Clinton. In fact, this information is due, well, NOW. This demand sends a few signals to team Trump   most notably that they should not fire Special Counsel Robert Mueller under any circumstances, despite the fact that it seems that this seems to be what Trump s White House is laying the groundwork, so to speak, to do as we speak.Here is the tweet regarding Grassley s warning:Also, anyone who thinks that Senator Grassley and the rest of the Senate are not serious about this only needs to look at the warning that has already been given: Trump Jr. and Manafort will either follow orders, or be served with subpoenas that force them to comply. If they refuse, they will be held in contempt of Congress, which carries with it serious jail time.Even the cruel, craven creatures within the GOP are sick of Donald Trump s corruption and his scandal-ridden White House. They are angry that he staged a hostile takeover of their party, first with birtherism and giving them a permanently racist label all while decimating all efforts that were made to pretend the Republican Party isn t a hotbed of racism, and while turning their worlds upside down, and with it, the nation. It seems that old-timers like Grassley, who are clearly sick of Trump s bullshit, just might be the ones who could save the republic. All they need is a bit of courage.Featured image via Win McNamee/Getty Images  ...   0.0\n",
              "27917  Now that Donald Trump is the presumptive GOP nominee, it s time to remember all those other candidates who tried so hard to beat him in the race to the White House. After all, how can we forget all the missteps, gaffes, weirdness, and sheer idiocies of such candidates as Jeb Bush, Marco Rubio, John Kasich, Ted Cruz, Ben Carson, and Carly Fiorina?There s a video making the rounds on Twitter that does just that, and eulogizes three of these failed candidates as though they re dead (and the GOP itself might as well be dead at this point anyway). Appropriately titled,  A Eulogy for the GOP,  people make short speeches about each of these candidates.Once past the man who actually says Jeb Bush was qualified to be president, there are fake tears, with journalist and comedienne Francesca Fiorentini saying: Dearly beloved, we re gathered here today to commemorate the candidates that are no longer with us. One man, speaking to an amusing, circus-y rendition of Chopin s Funeral March, remembers Jeb this way: Jeb, we hardly knew ye. It s too bad that your policies couldn t find their way out of the Republican morass. Indeed, it was like Jeb and his policies were invisible sometimes, although many felt that he would win the nomination early on. His best performances often came during debates, when he d get into out-and-out fights with Donald Trump over virtually everything under the sun. He also had a bad habit of defending his brother s actions in Iraq, memorably saying,  As it relates to my brother, there s one thing I know for sure: He kept us safe. Moving on to Marco Rubio, Fiorentini herself says: He was called so many things:  Young, charming, Lil  Marco.' That last nickname is, of course, a reference to Trump s penchant for name-calling. Then, a man speaking Spanish remembers Rubio this way: Marco, why aren t you a normal boy? Another said that his involvement in the Gang of Eight immigration bill killed him as a candidate, to which Fiorentini replies: Some people die of gang violence. He died of Gang of Eight violence. The makers of this video saved the absolute best for last, of course, which is Ben Carson. On our dear Dr. Carson, one of the speakers says: He would gently rock me to sleep with his monotone voice. Carson was especially well known for seemingly being asleep half the time. If we saw his eyes open wide, it was surprising, and likely because he was surprised himself. His voice is soft, his speech is slow, and it really can be hard to stay awake while he s talking. Imagine him giving a State of the Union address!To see the whole video, especially the spectacular ending after Carson s eulogy, watch below:Take a moment to say your g byes to these GOP candidates. ? https://t.co/6O70bl9zV8  AJ+ (@ajplus) May 7, 2016 Featured image via screen capture from embedded video  ...   0.0\n",
              "\n",
              "[2 rows x 3 columns]"
            ]
          },
          "metadata": {
            "tags": []
          },
          "execution_count": 349
        }
      ]
    },
    {
      "cell_type": "markdown",
      "metadata": {
        "id": "k3wXLatU5zjt"
      },
      "source": [
        "### 7.6.1 Incorrectly classified 'true' class"
      ]
    },
    {
      "cell_type": "code",
      "metadata": {
        "id": "2uh54WXKcXaZ"
      },
      "source": [
        "df = X_test.loc[(X_test['label']==1) & (X_test['pred']!=1)]"
      ],
      "execution_count": 350,
      "outputs": []
    },
    {
      "cell_type": "code",
      "metadata": {
        "colab": {
          "base_uri": "https://localhost:8080/"
        },
        "id": "xFpLBOEb4xCo",
        "outputId": "cbe8a7f4-e801-4726-c691-8878a079409f"
      },
      "source": [
        "len(df)"
      ],
      "execution_count": 351,
      "outputs": [
        {
          "output_type": "execute_result",
          "data": {
            "text/plain": [
              "4"
            ]
          },
          "metadata": {
            "tags": []
          },
          "execution_count": 351
        }
      ]
    },
    {
      "cell_type": "code",
      "metadata": {
        "colab": {
          "base_uri": "https://localhost:8080/",
          "height": 941
        },
        "id": "JnSfxhxo5_QS",
        "outputId": "35e1cf44-2451-4078-f8bb-2fd8247440b6"
      },
      "source": [
        "df = df.reset_index(drop=True)\n",
        "df.loc[:2]"
      ],
      "execution_count": 352,
      "outputs": [
        {
          "output_type": "execute_result",
          "data": {
            "text/html": [
              "<div>\n",
              "<style scoped>\n",
              "    .dataframe tbody tr th:only-of-type {\n",
              "        vertical-align: middle;\n",
              "    }\n",
              "\n",
              "    .dataframe tbody tr th {\n",
              "        vertical-align: top;\n",
              "    }\n",
              "\n",
              "    .dataframe thead th {\n",
              "        text-align: right;\n",
              "    }\n",
              "</style>\n",
              "<table border=\"1\" class=\"dataframe\">\n",
              "  <thead>\n",
              "    <tr style=\"text-align: right;\">\n",
              "      <th></th>\n",
              "      <th>text</th>\n",
              "      <th>label</th>\n",
              "      <th>pred</th>\n",
              "    </tr>\n",
              "  </thead>\n",
              "  <tbody>\n",
              "    <tr>\n",
              "      <th>0</th>\n",
              "      <td>ARDEUIL ET MONTFAUXELLES, France (Reuters) - In a half-forgotten field in France stands a worn monument to a regiment of U.S. soldiers who faced down racism at home and in their ranks to become World War One s most decorated unit of African American soldiers. In the run up to Veterans  Day on Nov. 11, campaigners say the record of the 371st infantry regiment needs to be fully recognized. One man is trying to have one of the unit s soldiers finally decorated with the Medal of Honor   the U.S. military s highest award   a century after his death. The 371st was largely made up of poor black laborers from segregated South Carolina.  They were drafted into the army by a military machine keen to keep them away from potential frontline glory by putting them in support roles. But they soon found themselves in the heat of battle under the command of the French army, which was desperate for manpower in the dying days of the war.  You had these African Americans in the early 1900s who were subject to Jim Crow, racism was rampant, the military was segregated,  said Gerald Torrence of the American Battle Monuments Commission (ABMC), a government agency that serves as guardian of U.S. military memorials and cemeteries overseas.  These men were victimized in their daily life in the United States, yet they were not victims in their minds,  said Torrence, who is co-author of  Willing Patriots: Men of Color in the First World War . Until 2015, when President Barack Obama posthumously decorated a soldier from another regiment, the 371st contained the war s only African American winner of the Medal of Honor. But now Jeff Gusky, a campaigner, explorer and photographer, has dug through the records and believes it deserves another. Private Burton Holmes was in his early twenties on Sept. 28, 1918 when he was badly injured during an assault on a ridge in Champagne, eastern France. In the face of heavy machinegun fire, he returned to headquarters to re-arm and fought on, rallying the troops before being killed. He was recommended for the Medal of Honor but it was downgraded to a lesser award, a decision Gusky believes was down to institutional racism. An African American comrade of Holmes, Freddie Stowers, was also recommended for the Medal of Honor during the war but his paperwork was misplaced for decades and he was only recognized in 1991, 73 years after his death. Now veterans  organizations say the case of Holmes needs to be reviewed too.  I think the burden is on the present day U.S. army to tell us why he wouldn t deserve the Medal of Honor,  Gusky said. In the tiny village of Ardeuil et Montfauxelles in eastern France (population 86), the residents have not forgotten the sacrifice of the soldiers. Local man Frank Lesjean treks through a field after work to tend to their memorial, accessible only by a muddy track. He touches up the names of those who died with red paint and looks after the roses around the chipped granite.  Restoring this monument helps their memory to endure,  he told Reuters.  Without it, they d be even more forgotten.</td>\n",
              "      <td>1</td>\n",
              "      <td>0.0</td>\n",
              "    </tr>\n",
              "    <tr>\n",
              "      <th>1</th>\n",
              "      <td>WASHINGTON (Reuters) - President-elect Donald Trump has outlined a ten-point plan on his transition website for dealing with illegal immigration. Here is a look at what it would take to accomplish each of the ten goals. BUILD A WALL ON THE SOUTHERN BORDER: Trump has the legal authorization to build fences under the “Secure Fence Act” passed in 2006, but Congress would have to approve considerably more funding to wall off the entire southern border, which spans nearly 2,000 miles. There are also logistical challenges. Some areas of the border are privately owned, and the geography of some stretches would make construction extremely difficult. Trump previously said he would make Mexico pay for the wall, but that policy is not included on his post-election web site.   END CATCH-AND-RELEASE: To end the practice known as “catch and release,” under which immigrants are released pending court hearings, Trump could unilaterally shift policies, but full implementation would require significantly more detention space to hold migrants before they can see a judge. There is currently a 500,000-case backlog in U.S. immigration courts and recent court decisions prohibit him from detaining children with their parents for longer than 20 days.  ZERO TOLERANCE FOR CRIMINAL ALIENS: The Obama administration currently prioritizes immigrants convicted of serious crimes for deportation. But Trump could try to expand the definition of who is classified as a criminal alien or attempt to speed up removals of people who have been ordered deported. In any case, more funding for courts and personnel involved in apprehensions would likely be necessary.  BLOCKING FUNDING FOR SANCTUARY CITIES: Trump has threatened to cut off funding for so-called sanctuary cities such as Chicago and Los Angeles, where local law enforcement refuse to report undocumented immigrants they encounter to federal authorities. While Trump has the authority to cut some kinds of funding to the cities, mayors of those cities have said they will not be pressured to report migrants to federal agents.  CANCEL UNCONSTITUTIONAL EXECUTIVE ORDERS AND ENFORCE ALL IMMIGRATION LAWS: Trump has the authority to undo executive orders like DACA, which has provided temporary relief from deportation to more than 700,000 immigrants brought to the United States illegally as children. Enforcing all immigration laws would require Trump to deport an estimated 11 million immigrants living illegally in the United States. That would require large increases in funding from Congress to grow the current workforce of immigration agents and judges to be able to lawfully handle 11 million deportations. Locating so many immigrants, many in the country for years with deep family ties, would be logistically challenging and could spark public backlash.  SUSPEND THE ISSUANCE OF VISAS TO ANY PLACE WHERE ADEQUATE SCREENING CANNOT OCCUR: Similar to the “Muslim ban” Trump proposed during his campaign, this policy would be aimed at visa seekers from war-torn countries such as Syria and Iraq where many refugees and asylum seekers have sought to escape. Under current law, Trump could unilaterally suspend visas for any individuals or groups or people deemed “detrimental to the interests of the United States.”  The policy could face challenges in court, however, if it appears to discriminate against any one religion. ENSURE THAT OTHER COUNTRIES TAKE THEIR PEOPLE BACK WHEN WE ORDER THEM DEPORTED: The Obama administration has wrestled with the issue of forcing recalcitrant countries to take back people the United States is seeking to deport. Trump could ramp up diplomatic pressure on countries such as China, the country that has refused to repatriate the largest number of people ordered deported from the United States, but that could have wider diplomatic ramifications. FINALLY COMPLETE THE BIOMETRIC ENTRY-EXIT VISA TRACKING SYSTEM: Although mandated by law since Bill Clinton was president, the United States has yet to develop a system to track foreign visitors and determine if they leave the country when their visas expire. Getting a program up and running would require significant funding to collect and store biometric data such as fingerprints for every visa holder who enters and leaves the United States, and some experts have said the system is not practical.  TURN OFF THE JOBS AND BENEFITS MAGNET: Trump would need congressional approval to mandate a national database known as E-Verify that allows employers to check the immigration status of potential hires. Until such a system is in place, it is difficult to penalize employers who unknowingly hire undocumented immigrants using fake social security numbers.   REFORM LEGAL IMMIGRATION TO SERVE THE BEST INTERESTS OF AMERICA AND ITS WORKERS: The Department of Labor, the Department of Homeland Security and the Justice Department could  increase investigations of employers suspected of abusing visa programs such as H-1B that allow companies to hire foreign workers, often for a lower cost than what they would pay Americans. But Trump could face backlash from industries that rely on the program, including the technology sector, if he goes too far in revoking visas.</td>\n",
              "      <td>1</td>\n",
              "      <td>0.0</td>\n",
              "    </tr>\n",
              "    <tr>\n",
              "      <th>2</th>\n",
              "      <td>Caitlyn Jenner posted a video on Wednesday (April 26) of herself using a women’s bathroom at Republican Presidential candidate Donald Trump’s New York hotel. Published on her Facebook page, Jenner’s video shows her walking along the street, entering the Trump International Hotel and Tower and making her way to the restrooms. The video was spurred on by Trump, who, during an appearance on The Today Show last week, said in an interview that he would not care if Jenner used the women’s room at his properties. His comment came following the trending topic of so-called “bathroom bills,” like the one passed in North Carolina, which prohibits transgender people from using bathrooms consistent with their gender identity.</td>\n",
              "      <td>1</td>\n",
              "      <td>0.0</td>\n",
              "    </tr>\n",
              "  </tbody>\n",
              "</table>\n",
              "</div>"
            ],
            "text/plain": [
              "                                                                                                                                                                                                                                                                                                                                                                                                                                                                                                                                                                                                                                                                                                                                                                                                                                                                                                                                                                                                                                                                                                                                                                                                                                                                                                                                                                                                                                                                                                                                                                                                                                                                                                                                                                                                                                                                                                                                                                                                                                                                                                                                                                                                                                                                                                                                                                                                                                                                                                                                                                                                                                                                                                                                                                                                                                                                                                                                                                                                                                                                                                                                                                                                                                                                                                                                                                                                                                                                                                                                                                                                                                                                                                                                                                                                                                                                                                                                                                                                                                                                                                                                                                                                                                                                                                                                                                                                                                                                                                                                                                                                                                                                                                                                                                                                                                                                                                                                                                                                                                                                                                                                                                                                                                                                                                                                                                                                                  text  ...  pred\n",
              "0                                                                                                                                                                                                                                                                                                                                                                                                                                                                                                                                                                                                                                                                                                                                                                                                                                                                                                                                                                                                                                                                                                                                                                                                                                                                                                                                                                                                                                                                                                                                                                                                                                                                                                                                                                                                                                                                                                                                                                                                                                                                                                                                                                                                                  ARDEUIL ET MONTFAUXELLES, France (Reuters) - In a half-forgotten field in France stands a worn monument to a regiment of U.S. soldiers who faced down racism at home and in their ranks to become World War One s most decorated unit of African American soldiers. In the run up to Veterans  Day on Nov. 11, campaigners say the record of the 371st infantry regiment needs to be fully recognized. One man is trying to have one of the unit s soldiers finally decorated with the Medal of Honor   the U.S. military s highest award   a century after his death. The 371st was largely made up of poor black laborers from segregated South Carolina.  They were drafted into the army by a military machine keen to keep them away from potential frontline glory by putting them in support roles. But they soon found themselves in the heat of battle under the command of the French army, which was desperate for manpower in the dying days of the war.  You had these African Americans in the early 1900s who were subject to Jim Crow, racism was rampant, the military was segregated,  said Gerald Torrence of the American Battle Monuments Commission (ABMC), a government agency that serves as guardian of U.S. military memorials and cemeteries overseas.  These men were victimized in their daily life in the United States, yet they were not victims in their minds,  said Torrence, who is co-author of  Willing Patriots: Men of Color in the First World War . Until 2015, when President Barack Obama posthumously decorated a soldier from another regiment, the 371st contained the war s only African American winner of the Medal of Honor. But now Jeff Gusky, a campaigner, explorer and photographer, has dug through the records and believes it deserves another. Private Burton Holmes was in his early twenties on Sept. 28, 1918 when he was badly injured during an assault on a ridge in Champagne, eastern France. In the face of heavy machinegun fire, he returned to headquarters to re-arm and fought on, rallying the troops before being killed. He was recommended for the Medal of Honor but it was downgraded to a lesser award, a decision Gusky believes was down to institutional racism. An African American comrade of Holmes, Freddie Stowers, was also recommended for the Medal of Honor during the war but his paperwork was misplaced for decades and he was only recognized in 1991, 73 years after his death. Now veterans  organizations say the case of Holmes needs to be reviewed too.  I think the burden is on the present day U.S. army to tell us why he wouldn t deserve the Medal of Honor,  Gusky said. In the tiny village of Ardeuil et Montfauxelles in eastern France (population 86), the residents have not forgotten the sacrifice of the soldiers. Local man Frank Lesjean treks through a field after work to tend to their memorial, accessible only by a muddy track. He touches up the names of those who died with red paint and looks after the roses around the chipped granite.  Restoring this monument helps their memory to endure,  he told Reuters.  Without it, they d be even more forgotten.  ...   0.0\n",
              "1  WASHINGTON (Reuters) - President-elect Donald Trump has outlined a ten-point plan on his transition website for dealing with illegal immigration. Here is a look at what it would take to accomplish each of the ten goals. BUILD A WALL ON THE SOUTHERN BORDER: Trump has the legal authorization to build fences under the “Secure Fence Act” passed in 2006, but Congress would have to approve considerably more funding to wall off the entire southern border, which spans nearly 2,000 miles. There are also logistical challenges. Some areas of the border are privately owned, and the geography of some stretches would make construction extremely difficult. Trump previously said he would make Mexico pay for the wall, but that policy is not included on his post-election web site.   END CATCH-AND-RELEASE: To end the practice known as “catch and release,” under which immigrants are released pending court hearings, Trump could unilaterally shift policies, but full implementation would require significantly more detention space to hold migrants before they can see a judge. There is currently a 500,000-case backlog in U.S. immigration courts and recent court decisions prohibit him from detaining children with their parents for longer than 20 days.  ZERO TOLERANCE FOR CRIMINAL ALIENS: The Obama administration currently prioritizes immigrants convicted of serious crimes for deportation. But Trump could try to expand the definition of who is classified as a criminal alien or attempt to speed up removals of people who have been ordered deported. In any case, more funding for courts and personnel involved in apprehensions would likely be necessary.  BLOCKING FUNDING FOR SANCTUARY CITIES: Trump has threatened to cut off funding for so-called sanctuary cities such as Chicago and Los Angeles, where local law enforcement refuse to report undocumented immigrants they encounter to federal authorities. While Trump has the authority to cut some kinds of funding to the cities, mayors of those cities have said they will not be pressured to report migrants to federal agents.  CANCEL UNCONSTITUTIONAL EXECUTIVE ORDERS AND ENFORCE ALL IMMIGRATION LAWS: Trump has the authority to undo executive orders like DACA, which has provided temporary relief from deportation to more than 700,000 immigrants brought to the United States illegally as children. Enforcing all immigration laws would require Trump to deport an estimated 11 million immigrants living illegally in the United States. That would require large increases in funding from Congress to grow the current workforce of immigration agents and judges to be able to lawfully handle 11 million deportations. Locating so many immigrants, many in the country for years with deep family ties, would be logistically challenging and could spark public backlash.  SUSPEND THE ISSUANCE OF VISAS TO ANY PLACE WHERE ADEQUATE SCREENING CANNOT OCCUR: Similar to the “Muslim ban” Trump proposed during his campaign, this policy would be aimed at visa seekers from war-torn countries such as Syria and Iraq where many refugees and asylum seekers have sought to escape. Under current law, Trump could unilaterally suspend visas for any individuals or groups or people deemed “detrimental to the interests of the United States.”  The policy could face challenges in court, however, if it appears to discriminate against any one religion. ENSURE THAT OTHER COUNTRIES TAKE THEIR PEOPLE BACK WHEN WE ORDER THEM DEPORTED: The Obama administration has wrestled with the issue of forcing recalcitrant countries to take back people the United States is seeking to deport. Trump could ramp up diplomatic pressure on countries such as China, the country that has refused to repatriate the largest number of people ordered deported from the United States, but that could have wider diplomatic ramifications. FINALLY COMPLETE THE BIOMETRIC ENTRY-EXIT VISA TRACKING SYSTEM: Although mandated by law since Bill Clinton was president, the United States has yet to develop a system to track foreign visitors and determine if they leave the country when their visas expire. Getting a program up and running would require significant funding to collect and store biometric data such as fingerprints for every visa holder who enters and leaves the United States, and some experts have said the system is not practical.  TURN OFF THE JOBS AND BENEFITS MAGNET: Trump would need congressional approval to mandate a national database known as E-Verify that allows employers to check the immigration status of potential hires. Until such a system is in place, it is difficult to penalize employers who unknowingly hire undocumented immigrants using fake social security numbers.   REFORM LEGAL IMMIGRATION TO SERVE THE BEST INTERESTS OF AMERICA AND ITS WORKERS: The Department of Labor, the Department of Homeland Security and the Justice Department could  increase investigations of employers suspected of abusing visa programs such as H-1B that allow companies to hire foreign workers, often for a lower cost than what they would pay Americans. But Trump could face backlash from industries that rely on the program, including the technology sector, if he goes too far in revoking visas.  ...   0.0\n",
              "2                                                                                                                                                                                                                                                                                                                                                                                                                                                                                                                                                                                                                                                                                                                                                                                                                                                                                                                                                                                                                                                                                                                                                                                                                                                                                                                                                                                                                                                                                                                                                                                                                                                                                                                                                                                                                                                                                                                                                                                                                                                                                                                                                                                                                                                                                                                                                                                                                                                                                                                                                                                                                                                                                                                                                                                                                                                                                                                                                                                                                                                                                                                                                                                                                                                                                                                                                                                                                                                                                                                                                                                                                                                                                                                                                                                                                                                                                                                                                                                                                                                                                                                                                                                                                                                                                                                                                                                                                                                                                                                                                                                                                                                                   Caitlyn Jenner posted a video on Wednesday (April 26) of herself using a women’s bathroom at Republican Presidential candidate Donald Trump’s New York hotel. Published on her Facebook page, Jenner’s video shows her walking along the street, entering the Trump International Hotel and Tower and making her way to the restrooms. The video was spurred on by Trump, who, during an appearance on The Today Show last week, said in an interview that he would not care if Jenner used the women’s room at his properties. His comment came following the trending topic of so-called “bathroom bills,” like the one passed in North Carolina, which prohibits transgender people from using bathrooms consistent with their gender identity.  ...   0.0\n",
              "\n",
              "[3 rows x 3 columns]"
            ]
          },
          "metadata": {
            "tags": []
          },
          "execution_count": 352
        }
      ]
    },
    {
      "cell_type": "markdown",
      "metadata": {
        "id": "tuEXoGUZ6U48"
      },
      "source": [
        "### 7.6.2 Incorreclty classified 'fake' class"
      ]
    },
    {
      "cell_type": "code",
      "metadata": {
        "id": "K4y913DB6CY7"
      },
      "source": [
        "df = X_test.loc[(X_test['label']==0) & (X_test['pred']!=0)]"
      ],
      "execution_count": 353,
      "outputs": []
    },
    {
      "cell_type": "code",
      "metadata": {
        "colab": {
          "base_uri": "https://localhost:8080/"
        },
        "id": "ir-1mk8G6cxA",
        "outputId": "8427507f-0123-43f1-ec3d-618ed16a04e8"
      },
      "source": [
        "len(df)"
      ],
      "execution_count": 354,
      "outputs": [
        {
          "output_type": "execute_result",
          "data": {
            "text/plain": [
              "9"
            ]
          },
          "metadata": {
            "tags": []
          },
          "execution_count": 354
        }
      ]
    },
    {
      "cell_type": "code",
      "metadata": {
        "colab": {
          "base_uri": "https://localhost:8080/",
          "height": 1000
        },
        "id": "GSVEdkLf6deg",
        "outputId": "1a1e0b15-e39e-4a4f-97ef-6c7eee47dcb3"
      },
      "source": [
        "df = df.reset_index(drop=True)\n",
        "df.loc[:2]"
      ],
      "execution_count": 355,
      "outputs": [
        {
          "output_type": "execute_result",
          "data": {
            "text/html": [
              "<div>\n",
              "<style scoped>\n",
              "    .dataframe tbody tr th:only-of-type {\n",
              "        vertical-align: middle;\n",
              "    }\n",
              "\n",
              "    .dataframe tbody tr th {\n",
              "        vertical-align: top;\n",
              "    }\n",
              "\n",
              "    .dataframe thead th {\n",
              "        text-align: right;\n",
              "    }\n",
              "</style>\n",
              "<table border=\"1\" class=\"dataframe\">\n",
              "  <thead>\n",
              "    <tr style=\"text-align: right;\">\n",
              "      <th></th>\n",
              "      <th>text</th>\n",
              "      <th>label</th>\n",
              "      <th>pred</th>\n",
              "    </tr>\n",
              "  </thead>\n",
              "  <tbody>\n",
              "    <tr>\n",
              "      <th>0</th>\n",
              "      <td>No wonder the stands are mostly empty at the Olympic events in the violent city of Rio Di Janeiro.As Rio de Janeiro rings in its tenure as host city to the Summer Olympics with street violence, deadly pollution, jihadist threats, incomplete facilities, and a plague, many around the world are wondering: who thought the embattled Brazilian city would be a good host for anything of this magnitude?The Summer Olympics is the second major global sporting event Brazil clinched hosting duties for under the rule of the socialist Workers  Party (PT)   and its founder, President Luiz In cio Lula da Silva   two years after its surprisingly uneventful run as hosts of the FIFA World Cup. Brazil winning World Cup hosting duties made sense; it was the only candidate. The Olympic bid, however, was a competitive one, with highly developed cities like Madrid and Chicago making the case that they were safer, better-prepared venues for such an event.Hey Hillary supporters here is a preview of what socialism really looks like:https://youtu.be/BFDHd3UCyaUAt the time of Rio s winning Olympic bid, International Olympic Committee (IOC) president Jacques Rogge said of Brazil,  There was absolutely no flaw in the bid.  IOC Evaluation Commission chair Nawal El Moutawakel implied this was false, but refused to speak ill of Rio de Janeiro. There is a vision between now and many years yet to come, these Olympic Games come right in the middle of a global vision led by President Lula and the entire government,  she concluded.Lula, meanwhile, reveled in the significance of hosting the Games for his socialist movement.  For us, it will be an opportunity to be equal. It will increase self-esteem for Brazilians, will consolidate recent conquests and stimulate new advances,  he said in a speech following the IOC announcement.Lula, an ally of the continent s worst tyrants, from Hugo Chavez to Fidel Castro, did have a vision for Brazil: to use it as a personal piggy bank for himself and his cronies while exploiting the desperation of the poor. Under Lula, officials used the state-run oil company Petrobras to line their pockets with hundreds of millions of dollars by overcharging on contract projects. For years, investigators believed the Petrobras corruption scheme   known by its investigative name, Operation Car Wash   operated without Lula s knowledge.Judge Sergio Moro, who has become a folk hero for his role in exposing the corruption, found evidence that Lula used Petrobras money to buy himself a beachfront home. Moro opened an investigation into Lula, which immediately prompted President Dilma Rousseff to appoint Lula her chief of staff, granting him immunity.Moro posted audio of Rousseff, the nation s Minister of Energy during the Petrobras scandal, assuring Lula she would appoint him to a government position for immunity purposes if police got too close to uncovering his role in the scandal. Rousseff accused Moro of trying to foment a coup against her.Rousseff has since been impeached.  Breitbart News</td>\n",
              "      <td>0</td>\n",
              "      <td>1.0</td>\n",
              "    </tr>\n",
              "    <tr>\n",
              "      <th>1</th>\n",
              "      <td>Follow the money on this one Mexico is spending over $1.6 billion dollars on flat screens for millions at a cost of $145.00 instead of just $40.00 for a decoder box. I m sure if you dig deep enough you ll find some sort of Carlos Slim corruption. He s the Mexican billionaire who made tons of money on the  Obamaphone  he provided for America. Nice, huh? We ll be checking into this one just to see if there s any connection to American corruption. It just doesn t pass the smell test MEXICO CITY   Cradling a flat-screen television set in her arms, Tomasa Lopez beamed at her good fortune: She d just taken part in the world s biggest distribution of free digital televisions.Lopez, a domestic servant, was among thousands of people who ve thronged a cavernous tent in the populous working-class Iztapalapa district, one of hundreds of venues across Mexico where the poor are receiving some of the 10 million digital television sets the government is giving away at no charge.It s a program costing the Mexican treasury $1.6 billion in a push to convert the nation from analog television signals to a digital format. The United States made the switch in 2009. I am happy,  Lopez said.  We ve always wanted a digital television. We ll see more channels. The kids will see cartoons. Other nations, such as Argentina, have given away digital television sets, but none on the scale of Mexico, and the program has proved controversial. Critics question why the government of President Enrique Pena Nieto is giving away 24-inch flat-screen televisions, each costing around $145, when decoder boxes that allow older analog televisions to remain in use   the U.S. solution   cost only about $40.It s not just the recipients of TVs who benefit. Television manufacturers clustered along Mexico s northern border also profit, as do the two powerful media conglomerates that are moving quickly into digital services. The two companies will soon face competition from a third television network mandated into existence in 2013 with a constitutional reform to bring greater competition to the industry.At the entrance to the delivery tent, a recipient of a television set, Jose Luis Rodriguez, reproached a government official for suggesting the sets were free. Stop using that word. It s paid for with our taxes. It s not free,  sputtered Rodriguez, who works for the federal social security institute.Already, the government has given away 4.6 million televisions in a massive operation that requires fleets of trucks to deliver the sets, and masses of workers to check documents, take fingerprints and scan the bar codes of the sets to ensure that each family gets only one.Recipients are all low-income Mexicans who take part in one of several government social service programs, including Prospera, which is the national crusade against hunger, and Liconsa, a subsidized milk program.A sense of urgency pervades the program. The constitutional reform enacted in 2013 gives the government a deadline of Dec. 31 to convert the nation to digital television. In recent weeks, government teams have been handing out 30,000 to 40,000 sets a day, but will have to double that figure to meet the deadline.Administrators for the program say it will have many benefits, among them raising the number of people with access to the Internet and cutting electricity usage. An analog television consumes 320 to 340 watts, and if you add a decoder then it s another nine watts,  said Javier Lizarraga Galindo, an adviser behind the program at the Communications and Transport Secretariat.  An energy efficient digital TV like the ones we are giving out in Mexico consumes less than 40 watts. Gabriel Sosa Plata, a professor at the Autonomous Metropolitan University and frequent commentator on television issues, said he thinks energy consumption might actually go up. Although analog signals are supposed to end on Dec. 31, he thinks many people will buy decoder boxes and move the old sets into their children s rooms. Instead of having just one television, they will have two, and that means more electricity consumption,  Sosa Plata said.Skeptics also question whether the TVs really will make the Internet more accessible. The digital TVs offered by the state have USB and HDMI ports, but hooking them to the Internet would require additional hardware and, for now, a contract with a provider, though the government has pledged eventually to offer free wireless service.Mexico already provides free Wi-Fi at or near public parks, squares and government buildings in most of the nation s 2,400 municipalities and under the telecom reform is required to expand it to as many as 250,000 sites by 2018. Still only about 50 percent of Mexico s 120 million citizens regularly access the Internet.Criticism of the program also has centered on the bidding for the purchase of the television sets. Mexico is the world s largest assembler of TVs, producing between 35 and 40 million a year. Seven different companies with plants in Mexico, mostly along the U.S. border, have taken part in supplying the program. The first stage was not as transparent as it should have been. We were all suspicious,  said Jorge Negrete Pacheco, executive director of Mediatelecom, a consultancy in Mexico City on telecommunications regulation.  It was inevitable to think like this because none of the winners (of bids) were known brands. Negrete said the South Korean manufacturer Samsung was disqualified  for offering a better product  than required under the bid conditions. The winner of one bid sold televisions sets under the brand Diamante, largely unknown.The two television networks, Televisa and TV Azteca, are installing digital transmitters around the country. TV Azteca broadcasts on 180 channels while Televisa operates 220 channels. The two companies capture a majority of all advertising spent in the country for all media.By next year, however, a third network will step into the fray. Grupo Imagen Media, owner of Cadenatres, will begin broadcasting, after winning a bid in March to occupy 123 channels spread across the country:HERE S WHAT WE FOUND ON THIS   CARLOS SLIM CONNECTION: Mexican media company Grupo Imagen, which has just won one of two new national TV concessions, may look to move into the lucrative telecoms sector, the chief executive of the family-owned company said on Thursday.Grupo Imagen was awarded the free-to-air TV concession on Wednesday after bidding 1.81 billion pesos ($116.8 million). The auction was part of a government overhaul of the hidebound phone and TV markets, which are controlled by billionaire Carlos Slim s America Movil and broadcaster Televisa.Grupo Imagen, the media arm of privately held banking, hotel, construction and hospital company Grupo Empresarial Angeles (GEA), is run by Olegario Vazquez Aldir, an up-and-coming Mexican mogul.In an interview, Vazquez Aldir acknowledged the threat posed to free-to-air TV by new technologies including Netflix, and said the company might at some point follow in the footsteps of Televisa, by looking to move into the more lucrative telecoms market. I don t rule out that in the future, we could strike alliances with telecoms companies,  he said.  We understand perfectly well the challenges posed by new technologies, and that the younger generations are consuming content through other digital platforms. Vazquez Aldir said he had not spoken with Slim or any other telecom companies. Slim s America Movil is trying to offload assets to comply with new regulation resulting from the government s telecom reform, which was finalized last year.Grupo Imagen expects to invest 10 billion pesos in the new network over the next 36 months, Vazquez Aldir said. It aims to be broadcasting in Mexico s main cities by January 2016 and to have the rest of the country covered within three years.The money would mainly be spent on buying or renting land to install broadcast infrastructure, he said, adding that the company hoped to sell its content eventually in the United States, to capitalize on the growing Latino market thereNegrete said the advent of a third channel  is a democratic message because it will offer a new source of information, different newscasts. This seems very positive. Read more: ocregister</td>\n",
              "      <td>0</td>\n",
              "      <td>1.0</td>\n",
              "    </tr>\n",
              "    <tr>\n",
              "      <th>2</th>\n",
              "      <td>Trump s choice of pro-oil, pro-fracking, anti-big government, outspoken conservative and former Texas Governor Rick Perry for secretary of energy is sure to ruffle the feathers of leftists environmentalists not just in America, but around the world Rick Perry, President-elect Donald Trump s choice for Energy secretary, has close ties to the Texas oil industry and has corporate roles in two petroleum companies pushing to get government approval for the proposed 1,200-mile crude oil pipeline that has stoked mass protests in North Dakota.Perry s current roles as board director at Energy Transfer Partners LP and also at Sunoco Logistics Partners LP, which jointly developed the controversial Dakota Access Pipeline project, is a strong indicator of the pro-oil industry sentiment that will likely take root at the Energy Department under his oversight. Perry is close to Texas energy industry executives, and his political campaigns, including two aborted presidential campaigns, benefited substantially from their donations.Trump announced his choice of Perry in an early morning release Wednesday from Trump Tower in New York.He called Perry  one of the most successful governors in modern history, having led Texas through a sustained period of economic growth and prosperity by developing the state s energy resources and infrastructure, and making low-cost energy available to companies and families. It is a tremendous honor to be selected to serve as Secretary of Energy by President-elect Trump,  Perry said.  I am deeply humbled by his trust in me. Perry s close relations with energy executives and his long-time dependence on them for political contributions signal an abrupt change of course at the Energy Department. Perry is expected to welcome the four-state pipeline and similar projects, set an open-door policy for oil industry interests and possibly tear down the department altogether.  FOX 5As he said farewell to the Texas Legislature in January 2015, Rick Perry couldn t help but reflect on how energy technology and policy had transformed the state s landscape   and fueled its economy   during his record 14 years as governor. Today, horizontal slant drilling is tapping oil and gas fields unreachable just a few years ago,  he said, going on to scold New York for banning hydraulic fracturing.  In Texas, we have chosen jobs. We have chosen energy security, and we will one day end America s dependence on hostile sources of foreign energy. Although Texas  longest-serving governor was, perhaps unsurprisingly, pro-oil and gas during his tenure, he didn t simply nod to those iconic, staple fuels:  You can be proud that Texas produces more energy from wind turbines than all but five countries,  he said.Indeed, Perry, left a nuanced energy legacy   including overseeing booms in fossil fuels and renewables   during his time in Austin. (Texas is now the No. 1 U.S. producer of both natural gas and wind energy.) Now, he is poised to take his experience to Washington, where President-elect Donald Trump has chosen him as U.S. secretary of energy. The appointment would mark a full repair in Perry s relationship with Trump, whom he called  a cancer on conservatism  last year while the two men were in a crowded field for the Republican presidential nomination.If confirmed, Perry would become the third Texan to land that job, which involves overseeing energy research and policy with ramifications on the economy, environment and national security. And he would certainly bring different perspective and background to the role than his two predecessors   nuclear physicist Ernest Moniz and Physics Nobel laureate Steven Chu.Environmentalists and others question Perry s qualifications to lead the massive federal agency, particularly because he called for its elimination during his first unsuccessful presidential bid five years ago. While they concede that he championed renewables during his tenure, they also describe a more fervent support for traditional fossil fuels.   TX Tribune</td>\n",
              "      <td>0</td>\n",
              "      <td>1.0</td>\n",
              "    </tr>\n",
              "  </tbody>\n",
              "</table>\n",
              "</div>"
            ],
            "text/plain": [
              "                                                                                                                                                                                                                                                                                                                                                                                                                                                                                                                                                                                                                                                                                                                                                                                                                                                                                                                                                                                                                                                                                                                                                                                                                                                                                                                                                                                                                                                                                                                                                                                                                                                                                                                                                                                                                                                                                                                                                                                                                                                                                                                                                                                                                                                                                                                                                                                                                                                                                                                                                                                                                                                                                                                                                                                                                                                                                                                                                                                                                                                                                                                                                                                                                                                                                                                                                                                                                                                                                                                                                                                                                                                                                                                                                                                                                                                                                                                                                                                                                                                                                                                                                                                                                                                                                                                                                                                                                                                                                                                                                                                                                                                                                                                                                                                                                                                                                                                                                                                                                                                                                                                                                                                                                                                                                                                                                                                                                                                                                                                                                                                                                                                                                                                                                                                                                                                                                                                                                                                                                                                                                                                                                                                                                                                                                                                                                                                                                                                                                                                                                                                                                                                                                                                                                                                                                                                                                                                                                                                                                                                                                                                                                                                                                                                                                                                                                                                                                                                                                                                                                                                                                                                                                                                                                                                                                                                                                                                                                                                                                                                                                                                                                                                                                                                                                                                                                                                                                                                                                                                                                                                                              text  ...  pred\n",
              "0                                                                                                                                                                                                                                                                                                                                                                                                                                                                                                                                                                                                                                                                                                                                                                                                                                                                                                                                                                                                                                                                                                                                                                                                                                                                                                                                                                                                                                                                                                                                                                                                                                                                                                                                                                                                                                                                                                                                                                                                                                                                                                                                                                                                                                                                                                                                                                                                                                                                                                                                                                                                                                                                                                                                                                                                                                                                                                                                                                                                                                                                                                                                                                                                                                                                                                                                                                                                                                                                                                                                                                                                                                                                                                                                                                                                                                                                                                                                                                                                                                                                                                                                                                                                                                                                                                                                                                                                                                                                                                                                                                                                                                                                                                                                                                                                                                                                                                                                                                                                                                                                                                                                                                                                                                                                                                                                                                                                                                                                   No wonder the stands are mostly empty at the Olympic events in the violent city of Rio Di Janeiro.As Rio de Janeiro rings in its tenure as host city to the Summer Olympics with street violence, deadly pollution, jihadist threats, incomplete facilities, and a plague, many around the world are wondering: who thought the embattled Brazilian city would be a good host for anything of this magnitude?The Summer Olympics is the second major global sporting event Brazil clinched hosting duties for under the rule of the socialist Workers  Party (PT)   and its founder, President Luiz In cio Lula da Silva   two years after its surprisingly uneventful run as hosts of the FIFA World Cup. Brazil winning World Cup hosting duties made sense; it was the only candidate. The Olympic bid, however, was a competitive one, with highly developed cities like Madrid and Chicago making the case that they were safer, better-prepared venues for such an event.Hey Hillary supporters here is a preview of what socialism really looks like:https://youtu.be/BFDHd3UCyaUAt the time of Rio s winning Olympic bid, International Olympic Committee (IOC) president Jacques Rogge said of Brazil,  There was absolutely no flaw in the bid.  IOC Evaluation Commission chair Nawal El Moutawakel implied this was false, but refused to speak ill of Rio de Janeiro. There is a vision between now and many years yet to come, these Olympic Games come right in the middle of a global vision led by President Lula and the entire government,  she concluded.Lula, meanwhile, reveled in the significance of hosting the Games for his socialist movement.  For us, it will be an opportunity to be equal. It will increase self-esteem for Brazilians, will consolidate recent conquests and stimulate new advances,  he said in a speech following the IOC announcement.Lula, an ally of the continent s worst tyrants, from Hugo Chavez to Fidel Castro, did have a vision for Brazil: to use it as a personal piggy bank for himself and his cronies while exploiting the desperation of the poor. Under Lula, officials used the state-run oil company Petrobras to line their pockets with hundreds of millions of dollars by overcharging on contract projects. For years, investigators believed the Petrobras corruption scheme   known by its investigative name, Operation Car Wash   operated without Lula s knowledge.Judge Sergio Moro, who has become a folk hero for his role in exposing the corruption, found evidence that Lula used Petrobras money to buy himself a beachfront home. Moro opened an investigation into Lula, which immediately prompted President Dilma Rousseff to appoint Lula her chief of staff, granting him immunity.Moro posted audio of Rousseff, the nation s Minister of Energy during the Petrobras scandal, assuring Lula she would appoint him to a government position for immunity purposes if police got too close to uncovering his role in the scandal. Rousseff accused Moro of trying to foment a coup against her.Rousseff has since been impeached.  Breitbart News  ...   1.0\n",
              "1  Follow the money on this one Mexico is spending over $1.6 billion dollars on flat screens for millions at a cost of $145.00 instead of just $40.00 for a decoder box. I m sure if you dig deep enough you ll find some sort of Carlos Slim corruption. He s the Mexican billionaire who made tons of money on the  Obamaphone  he provided for America. Nice, huh? We ll be checking into this one just to see if there s any connection to American corruption. It just doesn t pass the smell test MEXICO CITY   Cradling a flat-screen television set in her arms, Tomasa Lopez beamed at her good fortune: She d just taken part in the world s biggest distribution of free digital televisions.Lopez, a domestic servant, was among thousands of people who ve thronged a cavernous tent in the populous working-class Iztapalapa district, one of hundreds of venues across Mexico where the poor are receiving some of the 10 million digital television sets the government is giving away at no charge.It s a program costing the Mexican treasury $1.6 billion in a push to convert the nation from analog television signals to a digital format. The United States made the switch in 2009. I am happy,  Lopez said.  We ve always wanted a digital television. We ll see more channels. The kids will see cartoons. Other nations, such as Argentina, have given away digital television sets, but none on the scale of Mexico, and the program has proved controversial. Critics question why the government of President Enrique Pena Nieto is giving away 24-inch flat-screen televisions, each costing around $145, when decoder boxes that allow older analog televisions to remain in use   the U.S. solution   cost only about $40.It s not just the recipients of TVs who benefit. Television manufacturers clustered along Mexico s northern border also profit, as do the two powerful media conglomerates that are moving quickly into digital services. The two companies will soon face competition from a third television network mandated into existence in 2013 with a constitutional reform to bring greater competition to the industry.At the entrance to the delivery tent, a recipient of a television set, Jose Luis Rodriguez, reproached a government official for suggesting the sets were free. Stop using that word. It s paid for with our taxes. It s not free,  sputtered Rodriguez, who works for the federal social security institute.Already, the government has given away 4.6 million televisions in a massive operation that requires fleets of trucks to deliver the sets, and masses of workers to check documents, take fingerprints and scan the bar codes of the sets to ensure that each family gets only one.Recipients are all low-income Mexicans who take part in one of several government social service programs, including Prospera, which is the national crusade against hunger, and Liconsa, a subsidized milk program.A sense of urgency pervades the program. The constitutional reform enacted in 2013 gives the government a deadline of Dec. 31 to convert the nation to digital television. In recent weeks, government teams have been handing out 30,000 to 40,000 sets a day, but will have to double that figure to meet the deadline.Administrators for the program say it will have many benefits, among them raising the number of people with access to the Internet and cutting electricity usage. An analog television consumes 320 to 340 watts, and if you add a decoder then it s another nine watts,  said Javier Lizarraga Galindo, an adviser behind the program at the Communications and Transport Secretariat.  An energy efficient digital TV like the ones we are giving out in Mexico consumes less than 40 watts. Gabriel Sosa Plata, a professor at the Autonomous Metropolitan University and frequent commentator on television issues, said he thinks energy consumption might actually go up. Although analog signals are supposed to end on Dec. 31, he thinks many people will buy decoder boxes and move the old sets into their children s rooms. Instead of having just one television, they will have two, and that means more electricity consumption,  Sosa Plata said.Skeptics also question whether the TVs really will make the Internet more accessible. The digital TVs offered by the state have USB and HDMI ports, but hooking them to the Internet would require additional hardware and, for now, a contract with a provider, though the government has pledged eventually to offer free wireless service.Mexico already provides free Wi-Fi at or near public parks, squares and government buildings in most of the nation s 2,400 municipalities and under the telecom reform is required to expand it to as many as 250,000 sites by 2018. Still only about 50 percent of Mexico s 120 million citizens regularly access the Internet.Criticism of the program also has centered on the bidding for the purchase of the television sets. Mexico is the world s largest assembler of TVs, producing between 35 and 40 million a year. Seven different companies with plants in Mexico, mostly along the U.S. border, have taken part in supplying the program. The first stage was not as transparent as it should have been. We were all suspicious,  said Jorge Negrete Pacheco, executive director of Mediatelecom, a consultancy in Mexico City on telecommunications regulation.  It was inevitable to think like this because none of the winners (of bids) were known brands. Negrete said the South Korean manufacturer Samsung was disqualified  for offering a better product  than required under the bid conditions. The winner of one bid sold televisions sets under the brand Diamante, largely unknown.The two television networks, Televisa and TV Azteca, are installing digital transmitters around the country. TV Azteca broadcasts on 180 channels while Televisa operates 220 channels. The two companies capture a majority of all advertising spent in the country for all media.By next year, however, a third network will step into the fray. Grupo Imagen Media, owner of Cadenatres, will begin broadcasting, after winning a bid in March to occupy 123 channels spread across the country:HERE S WHAT WE FOUND ON THIS   CARLOS SLIM CONNECTION: Mexican media company Grupo Imagen, which has just won one of two new national TV concessions, may look to move into the lucrative telecoms sector, the chief executive of the family-owned company said on Thursday.Grupo Imagen was awarded the free-to-air TV concession on Wednesday after bidding 1.81 billion pesos ($116.8 million). The auction was part of a government overhaul of the hidebound phone and TV markets, which are controlled by billionaire Carlos Slim s America Movil and broadcaster Televisa.Grupo Imagen, the media arm of privately held banking, hotel, construction and hospital company Grupo Empresarial Angeles (GEA), is run by Olegario Vazquez Aldir, an up-and-coming Mexican mogul.In an interview, Vazquez Aldir acknowledged the threat posed to free-to-air TV by new technologies including Netflix, and said the company might at some point follow in the footsteps of Televisa, by looking to move into the more lucrative telecoms market. I don t rule out that in the future, we could strike alliances with telecoms companies,  he said.  We understand perfectly well the challenges posed by new technologies, and that the younger generations are consuming content through other digital platforms. Vazquez Aldir said he had not spoken with Slim or any other telecom companies. Slim s America Movil is trying to offload assets to comply with new regulation resulting from the government s telecom reform, which was finalized last year.Grupo Imagen expects to invest 10 billion pesos in the new network over the next 36 months, Vazquez Aldir said. It aims to be broadcasting in Mexico s main cities by January 2016 and to have the rest of the country covered within three years.The money would mainly be spent on buying or renting land to install broadcast infrastructure, he said, adding that the company hoped to sell its content eventually in the United States, to capitalize on the growing Latino market thereNegrete said the advent of a third channel  is a democratic message because it will offer a new source of information, different newscasts. This seems very positive. Read more: ocregister  ...   1.0\n",
              "2                                                                                                                                                                                                                                                                                                                                                                                                                                                                                                                                                                                                                                                                                                                                                                                                                                                                                                                                                                                                                                                                                                                                                                                                                                                                                                                                                                                                                                                                                                                                                                                                                                                                                                                                                                                                                                                                                                                                                                                                                                                                                                                                                                                                                                                                                                                                                                                                                                                                                                                                                                                                                                                                                                                                                                                                                                                                                                                                                                                                                                                                                                                                                                                                                                                                                                                                                                                                                                                                                                                                                                                                                                                                                                                                                                                                                                                                                                                                                                                                                                                                                                                                                                                                                                                                                                                                                                                                                            Trump s choice of pro-oil, pro-fracking, anti-big government, outspoken conservative and former Texas Governor Rick Perry for secretary of energy is sure to ruffle the feathers of leftists environmentalists not just in America, but around the world Rick Perry, President-elect Donald Trump s choice for Energy secretary, has close ties to the Texas oil industry and has corporate roles in two petroleum companies pushing to get government approval for the proposed 1,200-mile crude oil pipeline that has stoked mass protests in North Dakota.Perry s current roles as board director at Energy Transfer Partners LP and also at Sunoco Logistics Partners LP, which jointly developed the controversial Dakota Access Pipeline project, is a strong indicator of the pro-oil industry sentiment that will likely take root at the Energy Department under his oversight. Perry is close to Texas energy industry executives, and his political campaigns, including two aborted presidential campaigns, benefited substantially from their donations.Trump announced his choice of Perry in an early morning release Wednesday from Trump Tower in New York.He called Perry  one of the most successful governors in modern history, having led Texas through a sustained period of economic growth and prosperity by developing the state s energy resources and infrastructure, and making low-cost energy available to companies and families. It is a tremendous honor to be selected to serve as Secretary of Energy by President-elect Trump,  Perry said.  I am deeply humbled by his trust in me. Perry s close relations with energy executives and his long-time dependence on them for political contributions signal an abrupt change of course at the Energy Department. Perry is expected to welcome the four-state pipeline and similar projects, set an open-door policy for oil industry interests and possibly tear down the department altogether.  FOX 5As he said farewell to the Texas Legislature in January 2015, Rick Perry couldn t help but reflect on how energy technology and policy had transformed the state s landscape   and fueled its economy   during his record 14 years as governor. Today, horizontal slant drilling is tapping oil and gas fields unreachable just a few years ago,  he said, going on to scold New York for banning hydraulic fracturing.  In Texas, we have chosen jobs. We have chosen energy security, and we will one day end America s dependence on hostile sources of foreign energy. Although Texas  longest-serving governor was, perhaps unsurprisingly, pro-oil and gas during his tenure, he didn t simply nod to those iconic, staple fuels:  You can be proud that Texas produces more energy from wind turbines than all but five countries,  he said.Indeed, Perry, left a nuanced energy legacy   including overseeing booms in fossil fuels and renewables   during his time in Austin. (Texas is now the No. 1 U.S. producer of both natural gas and wind energy.) Now, he is poised to take his experience to Washington, where President-elect Donald Trump has chosen him as U.S. secretary of energy. The appointment would mark a full repair in Perry s relationship with Trump, whom he called  a cancer on conservatism  last year while the two men were in a crowded field for the Republican presidential nomination.If confirmed, Perry would become the third Texan to land that job, which involves overseeing energy research and policy with ramifications on the economy, environment and national security. And he would certainly bring different perspective and background to the role than his two predecessors   nuclear physicist Ernest Moniz and Physics Nobel laureate Steven Chu.Environmentalists and others question Perry s qualifications to lead the massive federal agency, particularly because he called for its elimination during his first unsuccessful presidential bid five years ago. While they concede that he championed renewables during his tenure, they also describe a more fervent support for traditional fossil fuels.   TX Tribune  ...   1.0\n",
              "\n",
              "[3 rows x 3 columns]"
            ]
          },
          "metadata": {
            "tags": []
          },
          "execution_count": 355
        }
      ]
    },
    {
      "cell_type": "code",
      "metadata": {
        "id": "-Slw2OxQ6i3N"
      },
      "source": [
        ""
      ],
      "execution_count": 355,
      "outputs": []
    }
  ]
}